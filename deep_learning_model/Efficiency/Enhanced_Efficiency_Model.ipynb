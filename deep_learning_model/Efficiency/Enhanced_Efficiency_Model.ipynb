{
 "cells": [
  {
   "cell_type": "code",
   "execution_count": 1,
   "metadata": {},
   "outputs": [],
   "source": [
    "import os\n",
    "import tensorflow as tf\n",
    "from tensorflow.keras import regularizers, layers\n",
    "from tensorflow.keras.models import Sequential, Model\n",
    "from tensorflow.keras.layers import (\n",
    "    Dense,\n",
    "    Dropout,\n",
    "    BatchNormalization,\n",
    "    Input,\n",
    "    concatenate,\n",
    ")\n",
    "from tensorflow.keras.optimizers import Adam\n",
    "from tensorflow.keras.callbacks import EarlyStopping, ReduceLROnPlateau, ModelCheckpoint\n",
    "from sklearn.model_selection import train_test_split\n",
    "from sklearn.preprocessing import StandardScaler\n",
    "from sklearn.metrics import mean_absolute_error, mean_squared_error, r2_score\n",
    "import pandas as pd\n",
    "import numpy as np\n",
    "import matplotlib.pyplot as plt\n",
    "import seaborn as sns\n",
    "import pickle\n",
    "import warnings"
   ]
  },
  {
   "cell_type": "code",
   "execution_count": 2,
   "metadata": {},
   "outputs": [],
   "source": [
    "warnings.filterwarnings(\"ignore\")"
   ]
  },
  {
   "cell_type": "code",
   "execution_count": 3,
   "metadata": {},
   "outputs": [
    {
     "name": "stdout",
     "output_type": "stream",
     "text": [
      "No GPUs found, using CPU\n"
     ]
    }
   ],
   "source": [
    "gpus = tf.config.experimental.list_physical_devices(\"GPU\")\n",
    "if gpus:\n",
    "    try:\n",
    "        for gpu in gpus:\n",
    "            tf.config.experimental.set_memory_growth(gpu, True)\n",
    "        print(f\"GPUs available: {len(gpus)}\")\n",
    "    except RuntimeError as e:\n",
    "        print(e)\n",
    "else:\n",
    "    print(\"No GPUs found, using CPU\")"
   ]
  },
  {
   "cell_type": "code",
   "execution_count": 4,
   "metadata": {},
   "outputs": [],
   "source": [
    "os.makedirs(\"output\", exist_ok=True)"
   ]
  },
  {
   "cell_type": "code",
   "execution_count": 6,
   "metadata": {},
   "outputs": [
    {
     "data": {
      "text/html": [
       "<div>\n",
       "<style scoped>\n",
       "    .dataframe tbody tr th:only-of-type {\n",
       "        vertical-align: middle;\n",
       "    }\n",
       "\n",
       "    .dataframe tbody tr th {\n",
       "        vertical-align: top;\n",
       "    }\n",
       "\n",
       "    .dataframe thead th {\n",
       "        text-align: right;\n",
       "    }\n",
       "</style>\n",
       "<table border=\"1\" class=\"dataframe\">\n",
       "  <thead>\n",
       "    <tr style=\"text-align: right;\">\n",
       "      <th></th>\n",
       "      <th>Timestamp</th>\n",
       "      <th>Temperature</th>\n",
       "      <th>Moisture</th>\n",
       "      <th>Water_Content</th>\n",
       "      <th>SpO2</th>\n",
       "      <th>Fatigue</th>\n",
       "      <th>Drowsiness</th>\n",
       "      <th>Stress</th>\n",
       "      <th>Heart_Rate</th>\n",
       "      <th>Respiration_Rate</th>\n",
       "      <th>Systolic_BP</th>\n",
       "      <th>Diastolic_BP</th>\n",
       "      <th>Efficiency</th>\n",
       "      <th>Hour_of_Day</th>\n",
       "      <th>Hours_into_Shift</th>\n",
       "    </tr>\n",
       "  </thead>\n",
       "  <tbody>\n",
       "    <tr>\n",
       "      <th>0</th>\n",
       "      <td>2023-03-26 03:30:00</td>\n",
       "      <td>37.147075</td>\n",
       "      <td>65.574965</td>\n",
       "      <td>90.000000</td>\n",
       "      <td>98.524038</td>\n",
       "      <td>0.310956</td>\n",
       "      <td>0.337385</td>\n",
       "      <td>0.242247</td>\n",
       "      <td>84.620125</td>\n",
       "      <td>20.000000</td>\n",
       "      <td>125.0</td>\n",
       "      <td>80.0</td>\n",
       "      <td>0.752684</td>\n",
       "      <td>3.5</td>\n",
       "      <td>3.5</td>\n",
       "    </tr>\n",
       "    <tr>\n",
       "      <th>1</th>\n",
       "      <td>2023-03-21 11:30:00</td>\n",
       "      <td>36.446820</td>\n",
       "      <td>68.910684</td>\n",
       "      <td>89.948272</td>\n",
       "      <td>98.864150</td>\n",
       "      <td>0.373187</td>\n",
       "      <td>0.381541</td>\n",
       "      <td>0.364989</td>\n",
       "      <td>79.202808</td>\n",
       "      <td>19.533974</td>\n",
       "      <td>125.0</td>\n",
       "      <td>73.0</td>\n",
       "      <td>0.729088</td>\n",
       "      <td>11.5</td>\n",
       "      <td>3.5</td>\n",
       "    </tr>\n",
       "    <tr>\n",
       "      <th>2</th>\n",
       "      <td>2023-01-18 16:00:00</td>\n",
       "      <td>37.515222</td>\n",
       "      <td>35.411185</td>\n",
       "      <td>52.031033</td>\n",
       "      <td>87.013975</td>\n",
       "      <td>0.715033</td>\n",
       "      <td>0.720716</td>\n",
       "      <td>0.688127</td>\n",
       "      <td>115.196388</td>\n",
       "      <td>30.000000</td>\n",
       "      <td>137.0</td>\n",
       "      <td>91.0</td>\n",
       "      <td>0.182040</td>\n",
       "      <td>16.0</td>\n",
       "      <td>0.0</td>\n",
       "    </tr>\n",
       "    <tr>\n",
       "      <th>3</th>\n",
       "      <td>2023-04-12 07:30:00</td>\n",
       "      <td>36.035552</td>\n",
       "      <td>69.909713</td>\n",
       "      <td>90.000000</td>\n",
       "      <td>96.553309</td>\n",
       "      <td>0.121165</td>\n",
       "      <td>0.134179</td>\n",
       "      <td>0.156915</td>\n",
       "      <td>81.816142</td>\n",
       "      <td>19.878012</td>\n",
       "      <td>125.0</td>\n",
       "      <td>77.0</td>\n",
       "      <td>0.824440</td>\n",
       "      <td>7.5</td>\n",
       "      <td>7.5</td>\n",
       "    </tr>\n",
       "    <tr>\n",
       "      <th>4</th>\n",
       "      <td>2023-01-02 15:30:00</td>\n",
       "      <td>36.968820</td>\n",
       "      <td>35.439972</td>\n",
       "      <td>53.609717</td>\n",
       "      <td>85.188908</td>\n",
       "      <td>0.692070</td>\n",
       "      <td>0.670047</td>\n",
       "      <td>0.684669</td>\n",
       "      <td>118.787102</td>\n",
       "      <td>28.790663</td>\n",
       "      <td>134.0</td>\n",
       "      <td>85.0</td>\n",
       "      <td>0.188814</td>\n",
       "      <td>15.5</td>\n",
       "      <td>7.5</td>\n",
       "    </tr>\n",
       "  </tbody>\n",
       "</table>\n",
       "</div>"
      ],
      "text/plain": [
       "             Timestamp  Temperature   Moisture  Water_Content       SpO2  \\\n",
       "0  2023-03-26 03:30:00    37.147075  65.574965      90.000000  98.524038   \n",
       "1  2023-03-21 11:30:00    36.446820  68.910684      89.948272  98.864150   \n",
       "2  2023-01-18 16:00:00    37.515222  35.411185      52.031033  87.013975   \n",
       "3  2023-04-12 07:30:00    36.035552  69.909713      90.000000  96.553309   \n",
       "4  2023-01-02 15:30:00    36.968820  35.439972      53.609717  85.188908   \n",
       "\n",
       "    Fatigue  Drowsiness    Stress  Heart_Rate  Respiration_Rate  Systolic_BP  \\\n",
       "0  0.310956    0.337385  0.242247   84.620125         20.000000        125.0   \n",
       "1  0.373187    0.381541  0.364989   79.202808         19.533974        125.0   \n",
       "2  0.715033    0.720716  0.688127  115.196388         30.000000        137.0   \n",
       "3  0.121165    0.134179  0.156915   81.816142         19.878012        125.0   \n",
       "4  0.692070    0.670047  0.684669  118.787102         28.790663        134.0   \n",
       "\n",
       "   Diastolic_BP  Efficiency  Hour_of_Day  Hours_into_Shift  \n",
       "0          80.0    0.752684          3.5               3.5  \n",
       "1          73.0    0.729088         11.5               3.5  \n",
       "2          91.0    0.182040         16.0               0.0  \n",
       "3          77.0    0.824440          7.5               7.5  \n",
       "4          85.0    0.188814         15.5               7.5  "
      ]
     },
     "execution_count": 6,
     "metadata": {},
     "output_type": "execute_result"
    }
   ],
   "source": [
    "data = pd.read_csv(\"../Training_Data/realistic_soldier_data.csv\")\n",
    "data.head()"
   ]
  },
  {
   "cell_type": "code",
   "execution_count": 7,
   "metadata": {},
   "outputs": [],
   "source": [
    "data[\"Timestamp\"] = pd.to_datetime(data[\"Timestamp\"])"
   ]
  },
  {
   "cell_type": "code",
   "execution_count": 8,
   "metadata": {},
   "outputs": [],
   "source": [
    "# Extract time-based features\n",
    "data[\"Day_of_Week\"] = data[\"Timestamp\"].dt.dayofweek\n",
    "data[\"Is_Weekend\"] = (data[\"Day_of_Week\"] >= 5).astype(int)"
   ]
  },
  {
   "cell_type": "code",
   "execution_count": 9,
   "metadata": {},
   "outputs": [],
   "source": [
    "# Create cyclical time features for better representation\n",
    "data[\"Hour_sin\"] = np.sin(data[\"Hour_of_Day\"] * (2 * np.pi / 24))\n",
    "data[\"Hour_cos\"] = np.cos(data[\"Hour_of_Day\"] * (2 * np.pi / 24))\n",
    "data[\"Shift_sin\"] = np.sin(data[\"Hours_into_Shift\"] * (2 * np.pi / 8))\n",
    "data[\"Shift_cos\"] = np.cos(data[\"Hours_into_Shift\"] * (2 * np.pi / 8))"
   ]
  },
  {
   "cell_type": "code",
   "execution_count": 10,
   "metadata": {},
   "outputs": [],
   "source": [
    "# Physiological stress index\n",
    "data[\"Physio_Stress_Index\"] = (\n",
    "    ((data[\"Heart_Rate\"] - 60) / 60)\n",
    "    + ((data[\"Respiration_Rate\"] - 12) / 12)\n",
    "    + ((data[\"Systolic_BP\"] - 110) / 30)\n",
    ") / 3"
   ]
  },
  {
   "cell_type": "code",
   "execution_count": 11,
   "metadata": {},
   "outputs": [],
   "source": [
    "# Hydration index\n",
    "data[\"Hydration_Index\"] = (data[\"Water_Content\"] / 100) * (data[\"Moisture\"] / 70)"
   ]
  },
  {
   "cell_type": "code",
   "execution_count": 12,
   "metadata": {},
   "outputs": [],
   "source": [
    "# Define feature sets for different aspects of performance\n",
    "vital_features = [\n",
    "    \"Temperature\",\n",
    "    \"SpO2\",\n",
    "    \"Heart_Rate\",\n",
    "    \"Respiration_Rate\",\n",
    "    \"Systolic_BP\",\n",
    "    \"Diastolic_BP\",\n",
    "]\n",
    "environmental_features = [\"Moisture\", \"Water_Content\", \"Hydration_Index\"]\n",
    "psychological_features = [\"Fatigue\", \"Drowsiness\", \"Stress\", \"Physio_Stress_Index\"]\n",
    "temporal_features = [\"Hour_sin\", \"Hour_cos\", \"Shift_sin\", \"Shift_cos\", \"Is_Weekend\"]"
   ]
  },
  {
   "cell_type": "code",
   "execution_count": 13,
   "metadata": {},
   "outputs": [],
   "source": [
    "# Combine all features\n",
    "all_features = (\n",
    "    vital_features + environmental_features + psychological_features + temporal_features\n",
    ")"
   ]
  },
  {
   "cell_type": "code",
   "execution_count": 14,
   "metadata": {},
   "outputs": [
    {
     "data": {
      "text/plain": [
       "['Temperature',\n",
       " 'SpO2',\n",
       " 'Heart_Rate',\n",
       " 'Respiration_Rate',\n",
       " 'Systolic_BP',\n",
       " 'Diastolic_BP',\n",
       " 'Moisture',\n",
       " 'Water_Content',\n",
       " 'Hydration_Index',\n",
       " 'Fatigue',\n",
       " 'Drowsiness',\n",
       " 'Stress',\n",
       " 'Physio_Stress_Index',\n",
       " 'Hour_sin',\n",
       " 'Hour_cos',\n",
       " 'Shift_sin',\n",
       " 'Shift_cos',\n",
       " 'Is_Weekend']"
      ]
     },
     "execution_count": 14,
     "metadata": {},
     "output_type": "execute_result"
    }
   ],
   "source": [
    "all_features"
   ]
  },
  {
   "cell_type": "code",
   "execution_count": 15,
   "metadata": {},
   "outputs": [],
   "source": [
    "plt.figure(figsize=(12, 10))\n",
    "selected_features = (\n",
    "    vital_features[:3]\n",
    "    + environmental_features[:2]\n",
    "    + psychological_features[:3]\n",
    "    + [\"Efficiency\"]\n",
    ")\n",
    "correlation = data[selected_features].corr()\n",
    "sns.heatmap(correlation, annot=True, cmap=\"coolwarm\", fmt=\".2f\")\n",
    "plt.title(\"Feature Correlations\")\n",
    "plt.tight_layout()\n",
    "plt.savefig(\"output/feature_correlations.png\")\n",
    "plt.close()"
   ]
  },
  {
   "cell_type": "code",
   "execution_count": 16,
   "metadata": {},
   "outputs": [],
   "source": [
    "# Prepare data for modeling\n",
    "X = data[all_features]\n",
    "y = data[\"Efficiency\"]"
   ]
  },
  {
   "cell_type": "code",
   "execution_count": 18,
   "metadata": {},
   "outputs": [
    {
     "data": {
      "text/html": [
       "<div>\n",
       "<style scoped>\n",
       "    .dataframe tbody tr th:only-of-type {\n",
       "        vertical-align: middle;\n",
       "    }\n",
       "\n",
       "    .dataframe tbody tr th {\n",
       "        vertical-align: top;\n",
       "    }\n",
       "\n",
       "    .dataframe thead th {\n",
       "        text-align: right;\n",
       "    }\n",
       "</style>\n",
       "<table border=\"1\" class=\"dataframe\">\n",
       "  <thead>\n",
       "    <tr style=\"text-align: right;\">\n",
       "      <th></th>\n",
       "      <th>Temperature</th>\n",
       "      <th>SpO2</th>\n",
       "      <th>Heart_Rate</th>\n",
       "      <th>Respiration_Rate</th>\n",
       "      <th>Systolic_BP</th>\n",
       "      <th>Diastolic_BP</th>\n",
       "      <th>Moisture</th>\n",
       "      <th>Water_Content</th>\n",
       "      <th>Hydration_Index</th>\n",
       "      <th>Fatigue</th>\n",
       "      <th>Drowsiness</th>\n",
       "      <th>Stress</th>\n",
       "      <th>Physio_Stress_Index</th>\n",
       "      <th>Hour_sin</th>\n",
       "      <th>Hour_cos</th>\n",
       "      <th>Shift_sin</th>\n",
       "      <th>Shift_cos</th>\n",
       "      <th>Is_Weekend</th>\n",
       "    </tr>\n",
       "  </thead>\n",
       "  <tbody>\n",
       "    <tr>\n",
       "      <th>0</th>\n",
       "      <td>37.147075</td>\n",
       "      <td>98.524038</td>\n",
       "      <td>84.620125</td>\n",
       "      <td>20.000000</td>\n",
       "      <td>125.0</td>\n",
       "      <td>80.0</td>\n",
       "      <td>65.574965</td>\n",
       "      <td>90.000000</td>\n",
       "      <td>0.843107</td>\n",
       "      <td>0.310956</td>\n",
       "      <td>0.337385</td>\n",
       "      <td>0.242247</td>\n",
       "      <td>0.525667</td>\n",
       "      <td>0.793353</td>\n",
       "      <td>0.608761</td>\n",
       "      <td>0.382683</td>\n",
       "      <td>-0.92388</td>\n",
       "      <td>1</td>\n",
       "    </tr>\n",
       "    <tr>\n",
       "      <th>1</th>\n",
       "      <td>36.446820</td>\n",
       "      <td>98.864150</td>\n",
       "      <td>79.202808</td>\n",
       "      <td>19.533974</td>\n",
       "      <td>125.0</td>\n",
       "      <td>73.0</td>\n",
       "      <td>68.910684</td>\n",
       "      <td>89.948272</td>\n",
       "      <td>0.885485</td>\n",
       "      <td>0.373187</td>\n",
       "      <td>0.381541</td>\n",
       "      <td>0.364989</td>\n",
       "      <td>0.482626</td>\n",
       "      <td>0.130526</td>\n",
       "      <td>-0.991445</td>\n",
       "      <td>0.382683</td>\n",
       "      <td>-0.92388</td>\n",
       "      <td>0</td>\n",
       "    </tr>\n",
       "  </tbody>\n",
       "</table>\n",
       "</div>"
      ],
      "text/plain": [
       "   Temperature       SpO2  Heart_Rate  Respiration_Rate  Systolic_BP  \\\n",
       "0    37.147075  98.524038   84.620125         20.000000        125.0   \n",
       "1    36.446820  98.864150   79.202808         19.533974        125.0   \n",
       "\n",
       "   Diastolic_BP   Moisture  Water_Content  Hydration_Index   Fatigue  \\\n",
       "0          80.0  65.574965      90.000000         0.843107  0.310956   \n",
       "1          73.0  68.910684      89.948272         0.885485  0.373187   \n",
       "\n",
       "   Drowsiness    Stress  Physio_Stress_Index  Hour_sin  Hour_cos  Shift_sin  \\\n",
       "0    0.337385  0.242247             0.525667  0.793353  0.608761   0.382683   \n",
       "1    0.381541  0.364989             0.482626  0.130526 -0.991445   0.382683   \n",
       "\n",
       "   Shift_cos  Is_Weekend  \n",
       "0   -0.92388           1  \n",
       "1   -0.92388           0  "
      ]
     },
     "execution_count": 18,
     "metadata": {},
     "output_type": "execute_result"
    }
   ],
   "source": [
    "X.head(2)"
   ]
  },
  {
   "cell_type": "code",
   "execution_count": 19,
   "metadata": {},
   "outputs": [],
   "source": [
    "# Scale features\n",
    "scaler = StandardScaler()\n",
    "X_scaled = scaler.fit_transform(X)"
   ]
  },
  {
   "cell_type": "code",
   "execution_count": 20,
   "metadata": {},
   "outputs": [],
   "source": [
    "# Create efficiency bins for stratified sampling\n",
    "y_bins = pd.cut(y, bins=10, labels=False)"
   ]
  },
  {
   "cell_type": "code",
   "execution_count": 21,
   "metadata": {},
   "outputs": [],
   "source": [
    "X_train_val, X_test, y_train_val, y_test, bins_train_val, bins_test = train_test_split(\n",
    "    X_scaled, y, y_bins, test_size=0.15, random_state=42, stratify=y_bins\n",
    ")"
   ]
  },
  {
   "cell_type": "code",
   "execution_count": 22,
   "metadata": {},
   "outputs": [],
   "source": [
    "X_train, X_val, y_train, y_val = train_test_split(\n",
    "    X_train_val,\n",
    "    y_train_val,\n",
    "    test_size=0.15 / 0.85,\n",
    "    random_state=42,\n",
    "    stratify=bins_train_val,\n",
    ")"
   ]
  },
  {
   "cell_type": "code",
   "execution_count": 23,
   "metadata": {},
   "outputs": [
    {
     "name": "stdout",
     "output_type": "stream",
     "text": [
      "Training set: 3570 samples\n",
      "Validation set: 765 samples\n",
      "Test set: 765 samples\n"
     ]
    }
   ],
   "source": [
    "print(f\"Training set: {X_train.shape[0]} samples\")\n",
    "print(f\"Validation set: {X_val.shape[0]} samples\")\n",
    "print(f\"Test set: {X_test.shape[0]} samples\")"
   ]
  },
  {
   "cell_type": "code",
   "execution_count": 24,
   "metadata": {},
   "outputs": [],
   "source": [
    "# Build multi-branch model with feature representation learning\n",
    "def build_enhanced_model(input_shape):\n",
    "    # Main input\n",
    "    main_input = Input(shape=(input_shape,), name=\"main_input\")\n",
    "\n",
    "    # Split input into different feature groups\n",
    "    # Since we're using a Dense model, we'll use slicing to separate feature groups\n",
    "    vital_count = len(vital_features)\n",
    "    env_count = len(environmental_features)\n",
    "    psych_count = len(psychological_features)\n",
    "    temp_count = len(temporal_features)\n",
    "\n",
    "    # Branch 1: Vitals processing\n",
    "    vitals_input = layers.Lambda(lambda x: x[:, :vital_count])(main_input)\n",
    "    vitals = Dense(32, activation=\"relu\", kernel_regularizer=regularizers.l2(0.001))(\n",
    "        vitals_input\n",
    "    )\n",
    "    vitals = BatchNormalization()(vitals)\n",
    "    vitals = Dropout(0.2)(vitals)\n",
    "    vitals = Dense(16, activation=\"relu\")(vitals)\n",
    "\n",
    "    # Branch 2: Environmental processing\n",
    "    env_input = layers.Lambda(lambda x: x[:, vital_count : vital_count + env_count])(\n",
    "        main_input\n",
    "    )\n",
    "    env = Dense(16, activation=\"relu\", kernel_regularizer=regularizers.l2(0.001))(\n",
    "        env_input\n",
    "    )\n",
    "    env = BatchNormalization()(env)\n",
    "    env = Dropout(0.2)(env)\n",
    "    env = Dense(8, activation=\"relu\")(env)\n",
    "\n",
    "    # Branch 3: Psychological processing\n",
    "    psych_input = layers.Lambda(\n",
    "        lambda x: x[:, vital_count + env_count : vital_count + env_count + psych_count]\n",
    "    )(main_input)\n",
    "    psych = Dense(16, activation=\"relu\", kernel_regularizer=regularizers.l2(0.001))(\n",
    "        psych_input\n",
    "    )\n",
    "    psych = BatchNormalization()(psych)\n",
    "    psych = Dropout(0.3)(psych)\n",
    "    psych = Dense(8, activation=\"relu\")(psych)\n",
    "\n",
    "    # Branch 4: Temporal processing\n",
    "    temp_input = layers.Lambda(lambda x: x[:, -temp_count:])(main_input)\n",
    "    temp = Dense(16, activation=\"relu\", kernel_regularizer=regularizers.l2(0.001))(\n",
    "        temp_input\n",
    "    )\n",
    "    temp = BatchNormalization()(temp)\n",
    "    temp = Dropout(0.2)(temp)\n",
    "    temp = Dense(8, activation=\"relu\")(temp)\n",
    "\n",
    "    # Branch 5: Direct pathway for residual connections\n",
    "    direct = Dense(\n",
    "        32, activation=\"relu\", kernel_regularizer=regularizers.l1_l2(l1=0.001, l2=0.001)\n",
    "    )(main_input)\n",
    "    direct = Dropout(0.2)(direct)\n",
    "\n",
    "    # Merge all branches\n",
    "    merged = concatenate([vitals, env, psych, temp, direct])\n",
    "\n",
    "    # Deep representation learning\n",
    "    x = Dense(128, activation=\"relu\")(merged)\n",
    "    x = BatchNormalization()(x)\n",
    "    x = Dropout(0.4)(x)\n",
    "    x = Dense(64, activation=\"relu\")(x)\n",
    "    x = Dropout(0.3)(x)\n",
    "    x = Dense(32, activation=\"relu\")(x)\n",
    "    x = Dropout(0.2)(x)\n",
    "\n",
    "    # Output layer\n",
    "    output = Dense(1, activation=\"linear\", name=\"output\")(x)\n",
    "\n",
    "    # Create and return model\n",
    "    model = Model(inputs=main_input, outputs=output)\n",
    "    return model"
   ]
  },
  {
   "cell_type": "code",
   "execution_count": 25,
   "metadata": {},
   "outputs": [
    {
     "name": "stdout",
     "output_type": "stream",
     "text": [
      "WARNING:tensorflow:From c:\\Users\\Himanshu\\AppData\\Local\\Programs\\Python\\Python311\\Lib\\site-packages\\keras\\src\\backend\\tensorflow\\core.py:216: The name tf.placeholder is deprecated. Please use tf.compat.v1.placeholder instead.\n",
      "\n"
     ]
    },
    {
     "data": {
      "text/html": [
       "<pre style=\"white-space:pre;overflow-x:auto;line-height:normal;font-family:Menlo,'DejaVu Sans Mono',consolas,'Courier New',monospace\"><span style=\"font-weight: bold\">Model: \"functional\"</span>\n",
       "</pre>\n"
      ],
      "text/plain": [
       "\u001b[1mModel: \"functional\"\u001b[0m\n"
      ]
     },
     "metadata": {},
     "output_type": "display_data"
    },
    {
     "data": {
      "text/html": [
       "<pre style=\"white-space:pre;overflow-x:auto;line-height:normal;font-family:Menlo,'DejaVu Sans Mono',consolas,'Courier New',monospace\">┏━━━━━━━━━━━━━━━━━━━━━┳━━━━━━━━━━━━━━━━━━━┳━━━━━━━━━━━━┳━━━━━━━━━━━━━━━━━━━┓\n",
       "┃<span style=\"font-weight: bold\"> Layer (type)        </span>┃<span style=\"font-weight: bold\"> Output Shape      </span>┃<span style=\"font-weight: bold\">    Param # </span>┃<span style=\"font-weight: bold\"> Connected to      </span>┃\n",
       "┡━━━━━━━━━━━━━━━━━━━━━╇━━━━━━━━━━━━━━━━━━━╇━━━━━━━━━━━━╇━━━━━━━━━━━━━━━━━━━┩\n",
       "│ main_input          │ (<span style=\"color: #00d7ff; text-decoration-color: #00d7ff\">None</span>, <span style=\"color: #00af00; text-decoration-color: #00af00\">18</span>)        │          <span style=\"color: #00af00; text-decoration-color: #00af00\">0</span> │ -                 │\n",
       "│ (<span style=\"color: #0087ff; text-decoration-color: #0087ff\">InputLayer</span>)        │                   │            │                   │\n",
       "├─────────────────────┼───────────────────┼────────────┼───────────────────┤\n",
       "│ lambda (<span style=\"color: #0087ff; text-decoration-color: #0087ff\">Lambda</span>)     │ (<span style=\"color: #00d7ff; text-decoration-color: #00d7ff\">None</span>, <span style=\"color: #00af00; text-decoration-color: #00af00\">6</span>)         │          <span style=\"color: #00af00; text-decoration-color: #00af00\">0</span> │ main_input[<span style=\"color: #00af00; text-decoration-color: #00af00\">0</span>][<span style=\"color: #00af00; text-decoration-color: #00af00\">0</span>]  │\n",
       "├─────────────────────┼───────────────────┼────────────┼───────────────────┤\n",
       "│ lambda_1 (<span style=\"color: #0087ff; text-decoration-color: #0087ff\">Lambda</span>)   │ (<span style=\"color: #00d7ff; text-decoration-color: #00d7ff\">None</span>, <span style=\"color: #00af00; text-decoration-color: #00af00\">3</span>)         │          <span style=\"color: #00af00; text-decoration-color: #00af00\">0</span> │ main_input[<span style=\"color: #00af00; text-decoration-color: #00af00\">0</span>][<span style=\"color: #00af00; text-decoration-color: #00af00\">0</span>]  │\n",
       "├─────────────────────┼───────────────────┼────────────┼───────────────────┤\n",
       "│ lambda_2 (<span style=\"color: #0087ff; text-decoration-color: #0087ff\">Lambda</span>)   │ (<span style=\"color: #00d7ff; text-decoration-color: #00d7ff\">None</span>, <span style=\"color: #00af00; text-decoration-color: #00af00\">4</span>)         │          <span style=\"color: #00af00; text-decoration-color: #00af00\">0</span> │ main_input[<span style=\"color: #00af00; text-decoration-color: #00af00\">0</span>][<span style=\"color: #00af00; text-decoration-color: #00af00\">0</span>]  │\n",
       "├─────────────────────┼───────────────────┼────────────┼───────────────────┤\n",
       "│ lambda_3 (<span style=\"color: #0087ff; text-decoration-color: #0087ff\">Lambda</span>)   │ (<span style=\"color: #00d7ff; text-decoration-color: #00d7ff\">None</span>, <span style=\"color: #00af00; text-decoration-color: #00af00\">5</span>)         │          <span style=\"color: #00af00; text-decoration-color: #00af00\">0</span> │ main_input[<span style=\"color: #00af00; text-decoration-color: #00af00\">0</span>][<span style=\"color: #00af00; text-decoration-color: #00af00\">0</span>]  │\n",
       "├─────────────────────┼───────────────────┼────────────┼───────────────────┤\n",
       "│ dense (<span style=\"color: #0087ff; text-decoration-color: #0087ff\">Dense</span>)       │ (<span style=\"color: #00d7ff; text-decoration-color: #00d7ff\">None</span>, <span style=\"color: #00af00; text-decoration-color: #00af00\">32</span>)        │        <span style=\"color: #00af00; text-decoration-color: #00af00\">224</span> │ lambda[<span style=\"color: #00af00; text-decoration-color: #00af00\">0</span>][<span style=\"color: #00af00; text-decoration-color: #00af00\">0</span>]      │\n",
       "├─────────────────────┼───────────────────┼────────────┼───────────────────┤\n",
       "│ dense_2 (<span style=\"color: #0087ff; text-decoration-color: #0087ff\">Dense</span>)     │ (<span style=\"color: #00d7ff; text-decoration-color: #00d7ff\">None</span>, <span style=\"color: #00af00; text-decoration-color: #00af00\">16</span>)        │         <span style=\"color: #00af00; text-decoration-color: #00af00\">64</span> │ lambda_1[<span style=\"color: #00af00; text-decoration-color: #00af00\">0</span>][<span style=\"color: #00af00; text-decoration-color: #00af00\">0</span>]    │\n",
       "├─────────────────────┼───────────────────┼────────────┼───────────────────┤\n",
       "│ dense_4 (<span style=\"color: #0087ff; text-decoration-color: #0087ff\">Dense</span>)     │ (<span style=\"color: #00d7ff; text-decoration-color: #00d7ff\">None</span>, <span style=\"color: #00af00; text-decoration-color: #00af00\">16</span>)        │         <span style=\"color: #00af00; text-decoration-color: #00af00\">80</span> │ lambda_2[<span style=\"color: #00af00; text-decoration-color: #00af00\">0</span>][<span style=\"color: #00af00; text-decoration-color: #00af00\">0</span>]    │\n",
       "├─────────────────────┼───────────────────┼────────────┼───────────────────┤\n",
       "│ dense_6 (<span style=\"color: #0087ff; text-decoration-color: #0087ff\">Dense</span>)     │ (<span style=\"color: #00d7ff; text-decoration-color: #00d7ff\">None</span>, <span style=\"color: #00af00; text-decoration-color: #00af00\">16</span>)        │         <span style=\"color: #00af00; text-decoration-color: #00af00\">96</span> │ lambda_3[<span style=\"color: #00af00; text-decoration-color: #00af00\">0</span>][<span style=\"color: #00af00; text-decoration-color: #00af00\">0</span>]    │\n",
       "├─────────────────────┼───────────────────┼────────────┼───────────────────┤\n",
       "│ batch_normalization │ (<span style=\"color: #00d7ff; text-decoration-color: #00d7ff\">None</span>, <span style=\"color: #00af00; text-decoration-color: #00af00\">32</span>)        │        <span style=\"color: #00af00; text-decoration-color: #00af00\">128</span> │ dense[<span style=\"color: #00af00; text-decoration-color: #00af00\">0</span>][<span style=\"color: #00af00; text-decoration-color: #00af00\">0</span>]       │\n",
       "│ (<span style=\"color: #0087ff; text-decoration-color: #0087ff\">BatchNormalizatio…</span> │                   │            │                   │\n",
       "├─────────────────────┼───────────────────┼────────────┼───────────────────┤\n",
       "│ batch_normalizatio… │ (<span style=\"color: #00d7ff; text-decoration-color: #00d7ff\">None</span>, <span style=\"color: #00af00; text-decoration-color: #00af00\">16</span>)        │         <span style=\"color: #00af00; text-decoration-color: #00af00\">64</span> │ dense_2[<span style=\"color: #00af00; text-decoration-color: #00af00\">0</span>][<span style=\"color: #00af00; text-decoration-color: #00af00\">0</span>]     │\n",
       "│ (<span style=\"color: #0087ff; text-decoration-color: #0087ff\">BatchNormalizatio…</span> │                   │            │                   │\n",
       "├─────────────────────┼───────────────────┼────────────┼───────────────────┤\n",
       "│ batch_normalizatio… │ (<span style=\"color: #00d7ff; text-decoration-color: #00d7ff\">None</span>, <span style=\"color: #00af00; text-decoration-color: #00af00\">16</span>)        │         <span style=\"color: #00af00; text-decoration-color: #00af00\">64</span> │ dense_4[<span style=\"color: #00af00; text-decoration-color: #00af00\">0</span>][<span style=\"color: #00af00; text-decoration-color: #00af00\">0</span>]     │\n",
       "│ (<span style=\"color: #0087ff; text-decoration-color: #0087ff\">BatchNormalizatio…</span> │                   │            │                   │\n",
       "├─────────────────────┼───────────────────┼────────────┼───────────────────┤\n",
       "│ batch_normalizatio… │ (<span style=\"color: #00d7ff; text-decoration-color: #00d7ff\">None</span>, <span style=\"color: #00af00; text-decoration-color: #00af00\">16</span>)        │         <span style=\"color: #00af00; text-decoration-color: #00af00\">64</span> │ dense_6[<span style=\"color: #00af00; text-decoration-color: #00af00\">0</span>][<span style=\"color: #00af00; text-decoration-color: #00af00\">0</span>]     │\n",
       "│ (<span style=\"color: #0087ff; text-decoration-color: #0087ff\">BatchNormalizatio…</span> │                   │            │                   │\n",
       "├─────────────────────┼───────────────────┼────────────┼───────────────────┤\n",
       "│ dropout (<span style=\"color: #0087ff; text-decoration-color: #0087ff\">Dropout</span>)   │ (<span style=\"color: #00d7ff; text-decoration-color: #00d7ff\">None</span>, <span style=\"color: #00af00; text-decoration-color: #00af00\">32</span>)        │          <span style=\"color: #00af00; text-decoration-color: #00af00\">0</span> │ batch_normalizat… │\n",
       "├─────────────────────┼───────────────────┼────────────┼───────────────────┤\n",
       "│ dropout_1 (<span style=\"color: #0087ff; text-decoration-color: #0087ff\">Dropout</span>) │ (<span style=\"color: #00d7ff; text-decoration-color: #00d7ff\">None</span>, <span style=\"color: #00af00; text-decoration-color: #00af00\">16</span>)        │          <span style=\"color: #00af00; text-decoration-color: #00af00\">0</span> │ batch_normalizat… │\n",
       "├─────────────────────┼───────────────────┼────────────┼───────────────────┤\n",
       "│ dropout_2 (<span style=\"color: #0087ff; text-decoration-color: #0087ff\">Dropout</span>) │ (<span style=\"color: #00d7ff; text-decoration-color: #00d7ff\">None</span>, <span style=\"color: #00af00; text-decoration-color: #00af00\">16</span>)        │          <span style=\"color: #00af00; text-decoration-color: #00af00\">0</span> │ batch_normalizat… │\n",
       "├─────────────────────┼───────────────────┼────────────┼───────────────────┤\n",
       "│ dropout_3 (<span style=\"color: #0087ff; text-decoration-color: #0087ff\">Dropout</span>) │ (<span style=\"color: #00d7ff; text-decoration-color: #00d7ff\">None</span>, <span style=\"color: #00af00; text-decoration-color: #00af00\">16</span>)        │          <span style=\"color: #00af00; text-decoration-color: #00af00\">0</span> │ batch_normalizat… │\n",
       "├─────────────────────┼───────────────────┼────────────┼───────────────────┤\n",
       "│ dense_8 (<span style=\"color: #0087ff; text-decoration-color: #0087ff\">Dense</span>)     │ (<span style=\"color: #00d7ff; text-decoration-color: #00d7ff\">None</span>, <span style=\"color: #00af00; text-decoration-color: #00af00\">32</span>)        │        <span style=\"color: #00af00; text-decoration-color: #00af00\">608</span> │ main_input[<span style=\"color: #00af00; text-decoration-color: #00af00\">0</span>][<span style=\"color: #00af00; text-decoration-color: #00af00\">0</span>]  │\n",
       "├─────────────────────┼───────────────────┼────────────┼───────────────────┤\n",
       "│ dense_1 (<span style=\"color: #0087ff; text-decoration-color: #0087ff\">Dense</span>)     │ (<span style=\"color: #00d7ff; text-decoration-color: #00d7ff\">None</span>, <span style=\"color: #00af00; text-decoration-color: #00af00\">16</span>)        │        <span style=\"color: #00af00; text-decoration-color: #00af00\">528</span> │ dropout[<span style=\"color: #00af00; text-decoration-color: #00af00\">0</span>][<span style=\"color: #00af00; text-decoration-color: #00af00\">0</span>]     │\n",
       "├─────────────────────┼───────────────────┼────────────┼───────────────────┤\n",
       "│ dense_3 (<span style=\"color: #0087ff; text-decoration-color: #0087ff\">Dense</span>)     │ (<span style=\"color: #00d7ff; text-decoration-color: #00d7ff\">None</span>, <span style=\"color: #00af00; text-decoration-color: #00af00\">8</span>)         │        <span style=\"color: #00af00; text-decoration-color: #00af00\">136</span> │ dropout_1[<span style=\"color: #00af00; text-decoration-color: #00af00\">0</span>][<span style=\"color: #00af00; text-decoration-color: #00af00\">0</span>]   │\n",
       "├─────────────────────┼───────────────────┼────────────┼───────────────────┤\n",
       "│ dense_5 (<span style=\"color: #0087ff; text-decoration-color: #0087ff\">Dense</span>)     │ (<span style=\"color: #00d7ff; text-decoration-color: #00d7ff\">None</span>, <span style=\"color: #00af00; text-decoration-color: #00af00\">8</span>)         │        <span style=\"color: #00af00; text-decoration-color: #00af00\">136</span> │ dropout_2[<span style=\"color: #00af00; text-decoration-color: #00af00\">0</span>][<span style=\"color: #00af00; text-decoration-color: #00af00\">0</span>]   │\n",
       "├─────────────────────┼───────────────────┼────────────┼───────────────────┤\n",
       "│ dense_7 (<span style=\"color: #0087ff; text-decoration-color: #0087ff\">Dense</span>)     │ (<span style=\"color: #00d7ff; text-decoration-color: #00d7ff\">None</span>, <span style=\"color: #00af00; text-decoration-color: #00af00\">8</span>)         │        <span style=\"color: #00af00; text-decoration-color: #00af00\">136</span> │ dropout_3[<span style=\"color: #00af00; text-decoration-color: #00af00\">0</span>][<span style=\"color: #00af00; text-decoration-color: #00af00\">0</span>]   │\n",
       "├─────────────────────┼───────────────────┼────────────┼───────────────────┤\n",
       "│ dropout_4 (<span style=\"color: #0087ff; text-decoration-color: #0087ff\">Dropout</span>) │ (<span style=\"color: #00d7ff; text-decoration-color: #00d7ff\">None</span>, <span style=\"color: #00af00; text-decoration-color: #00af00\">32</span>)        │          <span style=\"color: #00af00; text-decoration-color: #00af00\">0</span> │ dense_8[<span style=\"color: #00af00; text-decoration-color: #00af00\">0</span>][<span style=\"color: #00af00; text-decoration-color: #00af00\">0</span>]     │\n",
       "├─────────────────────┼───────────────────┼────────────┼───────────────────┤\n",
       "│ concatenate         │ (<span style=\"color: #00d7ff; text-decoration-color: #00d7ff\">None</span>, <span style=\"color: #00af00; text-decoration-color: #00af00\">72</span>)        │          <span style=\"color: #00af00; text-decoration-color: #00af00\">0</span> │ dense_1[<span style=\"color: #00af00; text-decoration-color: #00af00\">0</span>][<span style=\"color: #00af00; text-decoration-color: #00af00\">0</span>],    │\n",
       "│ (<span style=\"color: #0087ff; text-decoration-color: #0087ff\">Concatenate</span>)       │                   │            │ dense_3[<span style=\"color: #00af00; text-decoration-color: #00af00\">0</span>][<span style=\"color: #00af00; text-decoration-color: #00af00\">0</span>],    │\n",
       "│                     │                   │            │ dense_5[<span style=\"color: #00af00; text-decoration-color: #00af00\">0</span>][<span style=\"color: #00af00; text-decoration-color: #00af00\">0</span>],    │\n",
       "│                     │                   │            │ dense_7[<span style=\"color: #00af00; text-decoration-color: #00af00\">0</span>][<span style=\"color: #00af00; text-decoration-color: #00af00\">0</span>],    │\n",
       "│                     │                   │            │ dropout_4[<span style=\"color: #00af00; text-decoration-color: #00af00\">0</span>][<span style=\"color: #00af00; text-decoration-color: #00af00\">0</span>]   │\n",
       "├─────────────────────┼───────────────────┼────────────┼───────────────────┤\n",
       "│ dense_9 (<span style=\"color: #0087ff; text-decoration-color: #0087ff\">Dense</span>)     │ (<span style=\"color: #00d7ff; text-decoration-color: #00d7ff\">None</span>, <span style=\"color: #00af00; text-decoration-color: #00af00\">128</span>)       │      <span style=\"color: #00af00; text-decoration-color: #00af00\">9,344</span> │ concatenate[<span style=\"color: #00af00; text-decoration-color: #00af00\">0</span>][<span style=\"color: #00af00; text-decoration-color: #00af00\">0</span>] │\n",
       "├─────────────────────┼───────────────────┼────────────┼───────────────────┤\n",
       "│ batch_normalizatio… │ (<span style=\"color: #00d7ff; text-decoration-color: #00d7ff\">None</span>, <span style=\"color: #00af00; text-decoration-color: #00af00\">128</span>)       │        <span style=\"color: #00af00; text-decoration-color: #00af00\">512</span> │ dense_9[<span style=\"color: #00af00; text-decoration-color: #00af00\">0</span>][<span style=\"color: #00af00; text-decoration-color: #00af00\">0</span>]     │\n",
       "│ (<span style=\"color: #0087ff; text-decoration-color: #0087ff\">BatchNormalizatio…</span> │                   │            │                   │\n",
       "├─────────────────────┼───────────────────┼────────────┼───────────────────┤\n",
       "│ dropout_5 (<span style=\"color: #0087ff; text-decoration-color: #0087ff\">Dropout</span>) │ (<span style=\"color: #00d7ff; text-decoration-color: #00d7ff\">None</span>, <span style=\"color: #00af00; text-decoration-color: #00af00\">128</span>)       │          <span style=\"color: #00af00; text-decoration-color: #00af00\">0</span> │ batch_normalizat… │\n",
       "├─────────────────────┼───────────────────┼────────────┼───────────────────┤\n",
       "│ dense_10 (<span style=\"color: #0087ff; text-decoration-color: #0087ff\">Dense</span>)    │ (<span style=\"color: #00d7ff; text-decoration-color: #00d7ff\">None</span>, <span style=\"color: #00af00; text-decoration-color: #00af00\">64</span>)        │      <span style=\"color: #00af00; text-decoration-color: #00af00\">8,256</span> │ dropout_5[<span style=\"color: #00af00; text-decoration-color: #00af00\">0</span>][<span style=\"color: #00af00; text-decoration-color: #00af00\">0</span>]   │\n",
       "├─────────────────────┼───────────────────┼────────────┼───────────────────┤\n",
       "│ dropout_6 (<span style=\"color: #0087ff; text-decoration-color: #0087ff\">Dropout</span>) │ (<span style=\"color: #00d7ff; text-decoration-color: #00d7ff\">None</span>, <span style=\"color: #00af00; text-decoration-color: #00af00\">64</span>)        │          <span style=\"color: #00af00; text-decoration-color: #00af00\">0</span> │ dense_10[<span style=\"color: #00af00; text-decoration-color: #00af00\">0</span>][<span style=\"color: #00af00; text-decoration-color: #00af00\">0</span>]    │\n",
       "├─────────────────────┼───────────────────┼────────────┼───────────────────┤\n",
       "│ dense_11 (<span style=\"color: #0087ff; text-decoration-color: #0087ff\">Dense</span>)    │ (<span style=\"color: #00d7ff; text-decoration-color: #00d7ff\">None</span>, <span style=\"color: #00af00; text-decoration-color: #00af00\">32</span>)        │      <span style=\"color: #00af00; text-decoration-color: #00af00\">2,080</span> │ dropout_6[<span style=\"color: #00af00; text-decoration-color: #00af00\">0</span>][<span style=\"color: #00af00; text-decoration-color: #00af00\">0</span>]   │\n",
       "├─────────────────────┼───────────────────┼────────────┼───────────────────┤\n",
       "│ dropout_7 (<span style=\"color: #0087ff; text-decoration-color: #0087ff\">Dropout</span>) │ (<span style=\"color: #00d7ff; text-decoration-color: #00d7ff\">None</span>, <span style=\"color: #00af00; text-decoration-color: #00af00\">32</span>)        │          <span style=\"color: #00af00; text-decoration-color: #00af00\">0</span> │ dense_11[<span style=\"color: #00af00; text-decoration-color: #00af00\">0</span>][<span style=\"color: #00af00; text-decoration-color: #00af00\">0</span>]    │\n",
       "├─────────────────────┼───────────────────┼────────────┼───────────────────┤\n",
       "│ output (<span style=\"color: #0087ff; text-decoration-color: #0087ff\">Dense</span>)      │ (<span style=\"color: #00d7ff; text-decoration-color: #00d7ff\">None</span>, <span style=\"color: #00af00; text-decoration-color: #00af00\">1</span>)         │         <span style=\"color: #00af00; text-decoration-color: #00af00\">33</span> │ dropout_7[<span style=\"color: #00af00; text-decoration-color: #00af00\">0</span>][<span style=\"color: #00af00; text-decoration-color: #00af00\">0</span>]   │\n",
       "└─────────────────────┴───────────────────┴────────────┴───────────────────┘\n",
       "</pre>\n"
      ],
      "text/plain": [
       "┏━━━━━━━━━━━━━━━━━━━━━┳━━━━━━━━━━━━━━━━━━━┳━━━━━━━━━━━━┳━━━━━━━━━━━━━━━━━━━┓\n",
       "┃\u001b[1m \u001b[0m\u001b[1mLayer (type)       \u001b[0m\u001b[1m \u001b[0m┃\u001b[1m \u001b[0m\u001b[1mOutput Shape     \u001b[0m\u001b[1m \u001b[0m┃\u001b[1m \u001b[0m\u001b[1m   Param #\u001b[0m\u001b[1m \u001b[0m┃\u001b[1m \u001b[0m\u001b[1mConnected to     \u001b[0m\u001b[1m \u001b[0m┃\n",
       "┡━━━━━━━━━━━━━━━━━━━━━╇━━━━━━━━━━━━━━━━━━━╇━━━━━━━━━━━━╇━━━━━━━━━━━━━━━━━━━┩\n",
       "│ main_input          │ (\u001b[38;5;45mNone\u001b[0m, \u001b[38;5;34m18\u001b[0m)        │          \u001b[38;5;34m0\u001b[0m │ -                 │\n",
       "│ (\u001b[38;5;33mInputLayer\u001b[0m)        │                   │            │                   │\n",
       "├─────────────────────┼───────────────────┼────────────┼───────────────────┤\n",
       "│ lambda (\u001b[38;5;33mLambda\u001b[0m)     │ (\u001b[38;5;45mNone\u001b[0m, \u001b[38;5;34m6\u001b[0m)         │          \u001b[38;5;34m0\u001b[0m │ main_input[\u001b[38;5;34m0\u001b[0m][\u001b[38;5;34m0\u001b[0m]  │\n",
       "├─────────────────────┼───────────────────┼────────────┼───────────────────┤\n",
       "│ lambda_1 (\u001b[38;5;33mLambda\u001b[0m)   │ (\u001b[38;5;45mNone\u001b[0m, \u001b[38;5;34m3\u001b[0m)         │          \u001b[38;5;34m0\u001b[0m │ main_input[\u001b[38;5;34m0\u001b[0m][\u001b[38;5;34m0\u001b[0m]  │\n",
       "├─────────────────────┼───────────────────┼────────────┼───────────────────┤\n",
       "│ lambda_2 (\u001b[38;5;33mLambda\u001b[0m)   │ (\u001b[38;5;45mNone\u001b[0m, \u001b[38;5;34m4\u001b[0m)         │          \u001b[38;5;34m0\u001b[0m │ main_input[\u001b[38;5;34m0\u001b[0m][\u001b[38;5;34m0\u001b[0m]  │\n",
       "├─────────────────────┼───────────────────┼────────────┼───────────────────┤\n",
       "│ lambda_3 (\u001b[38;5;33mLambda\u001b[0m)   │ (\u001b[38;5;45mNone\u001b[0m, \u001b[38;5;34m5\u001b[0m)         │          \u001b[38;5;34m0\u001b[0m │ main_input[\u001b[38;5;34m0\u001b[0m][\u001b[38;5;34m0\u001b[0m]  │\n",
       "├─────────────────────┼───────────────────┼────────────┼───────────────────┤\n",
       "│ dense (\u001b[38;5;33mDense\u001b[0m)       │ (\u001b[38;5;45mNone\u001b[0m, \u001b[38;5;34m32\u001b[0m)        │        \u001b[38;5;34m224\u001b[0m │ lambda[\u001b[38;5;34m0\u001b[0m][\u001b[38;5;34m0\u001b[0m]      │\n",
       "├─────────────────────┼───────────────────┼────────────┼───────────────────┤\n",
       "│ dense_2 (\u001b[38;5;33mDense\u001b[0m)     │ (\u001b[38;5;45mNone\u001b[0m, \u001b[38;5;34m16\u001b[0m)        │         \u001b[38;5;34m64\u001b[0m │ lambda_1[\u001b[38;5;34m0\u001b[0m][\u001b[38;5;34m0\u001b[0m]    │\n",
       "├─────────────────────┼───────────────────┼────────────┼───────────────────┤\n",
       "│ dense_4 (\u001b[38;5;33mDense\u001b[0m)     │ (\u001b[38;5;45mNone\u001b[0m, \u001b[38;5;34m16\u001b[0m)        │         \u001b[38;5;34m80\u001b[0m │ lambda_2[\u001b[38;5;34m0\u001b[0m][\u001b[38;5;34m0\u001b[0m]    │\n",
       "├─────────────────────┼───────────────────┼────────────┼───────────────────┤\n",
       "│ dense_6 (\u001b[38;5;33mDense\u001b[0m)     │ (\u001b[38;5;45mNone\u001b[0m, \u001b[38;5;34m16\u001b[0m)        │         \u001b[38;5;34m96\u001b[0m │ lambda_3[\u001b[38;5;34m0\u001b[0m][\u001b[38;5;34m0\u001b[0m]    │\n",
       "├─────────────────────┼───────────────────┼────────────┼───────────────────┤\n",
       "│ batch_normalization │ (\u001b[38;5;45mNone\u001b[0m, \u001b[38;5;34m32\u001b[0m)        │        \u001b[38;5;34m128\u001b[0m │ dense[\u001b[38;5;34m0\u001b[0m][\u001b[38;5;34m0\u001b[0m]       │\n",
       "│ (\u001b[38;5;33mBatchNormalizatio…\u001b[0m │                   │            │                   │\n",
       "├─────────────────────┼───────────────────┼────────────┼───────────────────┤\n",
       "│ batch_normalizatio… │ (\u001b[38;5;45mNone\u001b[0m, \u001b[38;5;34m16\u001b[0m)        │         \u001b[38;5;34m64\u001b[0m │ dense_2[\u001b[38;5;34m0\u001b[0m][\u001b[38;5;34m0\u001b[0m]     │\n",
       "│ (\u001b[38;5;33mBatchNormalizatio…\u001b[0m │                   │            │                   │\n",
       "├─────────────────────┼───────────────────┼────────────┼───────────────────┤\n",
       "│ batch_normalizatio… │ (\u001b[38;5;45mNone\u001b[0m, \u001b[38;5;34m16\u001b[0m)        │         \u001b[38;5;34m64\u001b[0m │ dense_4[\u001b[38;5;34m0\u001b[0m][\u001b[38;5;34m0\u001b[0m]     │\n",
       "│ (\u001b[38;5;33mBatchNormalizatio…\u001b[0m │                   │            │                   │\n",
       "├─────────────────────┼───────────────────┼────────────┼───────────────────┤\n",
       "│ batch_normalizatio… │ (\u001b[38;5;45mNone\u001b[0m, \u001b[38;5;34m16\u001b[0m)        │         \u001b[38;5;34m64\u001b[0m │ dense_6[\u001b[38;5;34m0\u001b[0m][\u001b[38;5;34m0\u001b[0m]     │\n",
       "│ (\u001b[38;5;33mBatchNormalizatio…\u001b[0m │                   │            │                   │\n",
       "├─────────────────────┼───────────────────┼────────────┼───────────────────┤\n",
       "│ dropout (\u001b[38;5;33mDropout\u001b[0m)   │ (\u001b[38;5;45mNone\u001b[0m, \u001b[38;5;34m32\u001b[0m)        │          \u001b[38;5;34m0\u001b[0m │ batch_normalizat… │\n",
       "├─────────────────────┼───────────────────┼────────────┼───────────────────┤\n",
       "│ dropout_1 (\u001b[38;5;33mDropout\u001b[0m) │ (\u001b[38;5;45mNone\u001b[0m, \u001b[38;5;34m16\u001b[0m)        │          \u001b[38;5;34m0\u001b[0m │ batch_normalizat… │\n",
       "├─────────────────────┼───────────────────┼────────────┼───────────────────┤\n",
       "│ dropout_2 (\u001b[38;5;33mDropout\u001b[0m) │ (\u001b[38;5;45mNone\u001b[0m, \u001b[38;5;34m16\u001b[0m)        │          \u001b[38;5;34m0\u001b[0m │ batch_normalizat… │\n",
       "├─────────────────────┼───────────────────┼────────────┼───────────────────┤\n",
       "│ dropout_3 (\u001b[38;5;33mDropout\u001b[0m) │ (\u001b[38;5;45mNone\u001b[0m, \u001b[38;5;34m16\u001b[0m)        │          \u001b[38;5;34m0\u001b[0m │ batch_normalizat… │\n",
       "├─────────────────────┼───────────────────┼────────────┼───────────────────┤\n",
       "│ dense_8 (\u001b[38;5;33mDense\u001b[0m)     │ (\u001b[38;5;45mNone\u001b[0m, \u001b[38;5;34m32\u001b[0m)        │        \u001b[38;5;34m608\u001b[0m │ main_input[\u001b[38;5;34m0\u001b[0m][\u001b[38;5;34m0\u001b[0m]  │\n",
       "├─────────────────────┼───────────────────┼────────────┼───────────────────┤\n",
       "│ dense_1 (\u001b[38;5;33mDense\u001b[0m)     │ (\u001b[38;5;45mNone\u001b[0m, \u001b[38;5;34m16\u001b[0m)        │        \u001b[38;5;34m528\u001b[0m │ dropout[\u001b[38;5;34m0\u001b[0m][\u001b[38;5;34m0\u001b[0m]     │\n",
       "├─────────────────────┼───────────────────┼────────────┼───────────────────┤\n",
       "│ dense_3 (\u001b[38;5;33mDense\u001b[0m)     │ (\u001b[38;5;45mNone\u001b[0m, \u001b[38;5;34m8\u001b[0m)         │        \u001b[38;5;34m136\u001b[0m │ dropout_1[\u001b[38;5;34m0\u001b[0m][\u001b[38;5;34m0\u001b[0m]   │\n",
       "├─────────────────────┼───────────────────┼────────────┼───────────────────┤\n",
       "│ dense_5 (\u001b[38;5;33mDense\u001b[0m)     │ (\u001b[38;5;45mNone\u001b[0m, \u001b[38;5;34m8\u001b[0m)         │        \u001b[38;5;34m136\u001b[0m │ dropout_2[\u001b[38;5;34m0\u001b[0m][\u001b[38;5;34m0\u001b[0m]   │\n",
       "├─────────────────────┼───────────────────┼────────────┼───────────────────┤\n",
       "│ dense_7 (\u001b[38;5;33mDense\u001b[0m)     │ (\u001b[38;5;45mNone\u001b[0m, \u001b[38;5;34m8\u001b[0m)         │        \u001b[38;5;34m136\u001b[0m │ dropout_3[\u001b[38;5;34m0\u001b[0m][\u001b[38;5;34m0\u001b[0m]   │\n",
       "├─────────────────────┼───────────────────┼────────────┼───────────────────┤\n",
       "│ dropout_4 (\u001b[38;5;33mDropout\u001b[0m) │ (\u001b[38;5;45mNone\u001b[0m, \u001b[38;5;34m32\u001b[0m)        │          \u001b[38;5;34m0\u001b[0m │ dense_8[\u001b[38;5;34m0\u001b[0m][\u001b[38;5;34m0\u001b[0m]     │\n",
       "├─────────────────────┼───────────────────┼────────────┼───────────────────┤\n",
       "│ concatenate         │ (\u001b[38;5;45mNone\u001b[0m, \u001b[38;5;34m72\u001b[0m)        │          \u001b[38;5;34m0\u001b[0m │ dense_1[\u001b[38;5;34m0\u001b[0m][\u001b[38;5;34m0\u001b[0m],    │\n",
       "│ (\u001b[38;5;33mConcatenate\u001b[0m)       │                   │            │ dense_3[\u001b[38;5;34m0\u001b[0m][\u001b[38;5;34m0\u001b[0m],    │\n",
       "│                     │                   │            │ dense_5[\u001b[38;5;34m0\u001b[0m][\u001b[38;5;34m0\u001b[0m],    │\n",
       "│                     │                   │            │ dense_7[\u001b[38;5;34m0\u001b[0m][\u001b[38;5;34m0\u001b[0m],    │\n",
       "│                     │                   │            │ dropout_4[\u001b[38;5;34m0\u001b[0m][\u001b[38;5;34m0\u001b[0m]   │\n",
       "├─────────────────────┼───────────────────┼────────────┼───────────────────┤\n",
       "│ dense_9 (\u001b[38;5;33mDense\u001b[0m)     │ (\u001b[38;5;45mNone\u001b[0m, \u001b[38;5;34m128\u001b[0m)       │      \u001b[38;5;34m9,344\u001b[0m │ concatenate[\u001b[38;5;34m0\u001b[0m][\u001b[38;5;34m0\u001b[0m] │\n",
       "├─────────────────────┼───────────────────┼────────────┼───────────────────┤\n",
       "│ batch_normalizatio… │ (\u001b[38;5;45mNone\u001b[0m, \u001b[38;5;34m128\u001b[0m)       │        \u001b[38;5;34m512\u001b[0m │ dense_9[\u001b[38;5;34m0\u001b[0m][\u001b[38;5;34m0\u001b[0m]     │\n",
       "│ (\u001b[38;5;33mBatchNormalizatio…\u001b[0m │                   │            │                   │\n",
       "├─────────────────────┼───────────────────┼────────────┼───────────────────┤\n",
       "│ dropout_5 (\u001b[38;5;33mDropout\u001b[0m) │ (\u001b[38;5;45mNone\u001b[0m, \u001b[38;5;34m128\u001b[0m)       │          \u001b[38;5;34m0\u001b[0m │ batch_normalizat… │\n",
       "├─────────────────────┼───────────────────┼────────────┼───────────────────┤\n",
       "│ dense_10 (\u001b[38;5;33mDense\u001b[0m)    │ (\u001b[38;5;45mNone\u001b[0m, \u001b[38;5;34m64\u001b[0m)        │      \u001b[38;5;34m8,256\u001b[0m │ dropout_5[\u001b[38;5;34m0\u001b[0m][\u001b[38;5;34m0\u001b[0m]   │\n",
       "├─────────────────────┼───────────────────┼────────────┼───────────────────┤\n",
       "│ dropout_6 (\u001b[38;5;33mDropout\u001b[0m) │ (\u001b[38;5;45mNone\u001b[0m, \u001b[38;5;34m64\u001b[0m)        │          \u001b[38;5;34m0\u001b[0m │ dense_10[\u001b[38;5;34m0\u001b[0m][\u001b[38;5;34m0\u001b[0m]    │\n",
       "├─────────────────────┼───────────────────┼────────────┼───────────────────┤\n",
       "│ dense_11 (\u001b[38;5;33mDense\u001b[0m)    │ (\u001b[38;5;45mNone\u001b[0m, \u001b[38;5;34m32\u001b[0m)        │      \u001b[38;5;34m2,080\u001b[0m │ dropout_6[\u001b[38;5;34m0\u001b[0m][\u001b[38;5;34m0\u001b[0m]   │\n",
       "├─────────────────────┼───────────────────┼────────────┼───────────────────┤\n",
       "│ dropout_7 (\u001b[38;5;33mDropout\u001b[0m) │ (\u001b[38;5;45mNone\u001b[0m, \u001b[38;5;34m32\u001b[0m)        │          \u001b[38;5;34m0\u001b[0m │ dense_11[\u001b[38;5;34m0\u001b[0m][\u001b[38;5;34m0\u001b[0m]    │\n",
       "├─────────────────────┼───────────────────┼────────────┼───────────────────┤\n",
       "│ output (\u001b[38;5;33mDense\u001b[0m)      │ (\u001b[38;5;45mNone\u001b[0m, \u001b[38;5;34m1\u001b[0m)         │         \u001b[38;5;34m33\u001b[0m │ dropout_7[\u001b[38;5;34m0\u001b[0m][\u001b[38;5;34m0\u001b[0m]   │\n",
       "└─────────────────────┴───────────────────┴────────────┴───────────────────┘\n"
      ]
     },
     "metadata": {},
     "output_type": "display_data"
    },
    {
     "data": {
      "text/html": [
       "<pre style=\"white-space:pre;overflow-x:auto;line-height:normal;font-family:Menlo,'DejaVu Sans Mono',consolas,'Courier New',monospace\"><span style=\"font-weight: bold\"> Total params: </span><span style=\"color: #00af00; text-decoration-color: #00af00\">22,553</span> (88.10 KB)\n",
       "</pre>\n"
      ],
      "text/plain": [
       "\u001b[1m Total params: \u001b[0m\u001b[38;5;34m22,553\u001b[0m (88.10 KB)\n"
      ]
     },
     "metadata": {},
     "output_type": "display_data"
    },
    {
     "data": {
      "text/html": [
       "<pre style=\"white-space:pre;overflow-x:auto;line-height:normal;font-family:Menlo,'DejaVu Sans Mono',consolas,'Courier New',monospace\"><span style=\"font-weight: bold\"> Trainable params: </span><span style=\"color: #00af00; text-decoration-color: #00af00\">22,137</span> (86.47 KB)\n",
       "</pre>\n"
      ],
      "text/plain": [
       "\u001b[1m Trainable params: \u001b[0m\u001b[38;5;34m22,137\u001b[0m (86.47 KB)\n"
      ]
     },
     "metadata": {},
     "output_type": "display_data"
    },
    {
     "data": {
      "text/html": [
       "<pre style=\"white-space:pre;overflow-x:auto;line-height:normal;font-family:Menlo,'DejaVu Sans Mono',consolas,'Courier New',monospace\"><span style=\"font-weight: bold\"> Non-trainable params: </span><span style=\"color: #00af00; text-decoration-color: #00af00\">416</span> (1.62 KB)\n",
       "</pre>\n"
      ],
      "text/plain": [
       "\u001b[1m Non-trainable params: \u001b[0m\u001b[38;5;34m416\u001b[0m (1.62 KB)\n"
      ]
     },
     "metadata": {},
     "output_type": "display_data"
    }
   ],
   "source": [
    "model = build_enhanced_model(X_train.shape[1])\n",
    "model.summary()\n"
   ]
  },
  {
   "cell_type": "code",
   "execution_count": 26,
   "metadata": {},
   "outputs": [],
   "source": [
    "# Define callbacks for better training\n",
    "checkpoint_path = \"best_efficiency_model.h5\"\n",
    "checkpoint = ModelCheckpoint(\n",
    "    checkpoint_path, monitor=\"val_loss\", verbose=1, save_best_only=True, mode=\"min\"\n",
    ")"
   ]
  },
  {
   "cell_type": "code",
   "execution_count": 29,
   "metadata": {},
   "outputs": [],
   "source": [
    "early_stopping = EarlyStopping(\n",
    "    monitor=\"val_loss\", patience=20, restore_best_weights=True, verbose=1\n",
    ")\n",
    "\n",
    "reduce_lr = ReduceLROnPlateau(\n",
    "    monitor=\"val_loss\", factor=0.5, patience=7, min_lr=0.00001, verbose=1\n",
    ")\n",
    "\n",
    "callbacks = [checkpoint, early_stopping, reduce_lr]"
   ]
  },
  {
   "cell_type": "code",
   "execution_count": 30,
   "metadata": {},
   "outputs": [],
   "source": [
    "# Compile the model\n",
    "optimizer = Adam(learning_rate=0.001)\n",
    "model.compile(optimizer=optimizer, loss=\"mean_squared_error\", metrics=[\"mae\", \"mse\"])"
   ]
  },
  {
   "cell_type": "code",
   "execution_count": 31,
   "metadata": {},
   "outputs": [
    {
     "name": "stdout",
     "output_type": "stream",
     "text": [
      "Epoch 1/150\n",
      "\u001b[1m56/56\u001b[0m \u001b[32m━━━━━━━━━━━━━━━━━━━━\u001b[0m\u001b[37m\u001b[0m \u001b[1m0s\u001b[0m 3ms/step - loss: 1.1241 - mae: 0.7304 - mse: 0.9691\n",
      "Epoch 1: val_loss improved from inf to 0.40366, saving model to best_efficiency_model.h5\n"
     ]
    },
    {
     "name": "stderr",
     "output_type": "stream",
     "text": [
      "WARNING:absl:You are saving your model as an HDF5 file via `model.save()` or `keras.saving.save_model(model)`. This file format is considered legacy. We recommend using instead the native Keras format, e.g. `model.save('my_model.keras')` or `keras.saving.save_model(model, 'my_model.keras')`. \n"
     ]
    },
    {
     "name": "stdout",
     "output_type": "stream",
     "text": [
      "\u001b[1m56/56\u001b[0m \u001b[32m━━━━━━━━━━━━━━━━━━━━\u001b[0m\u001b[37m\u001b[0m \u001b[1m5s\u001b[0m 14ms/step - loss: 1.1185 - mae: 0.7281 - mse: 0.9635 - val_loss: 0.4037 - val_mae: 0.4464 - val_mse: 0.2494 - learning_rate: 0.0010\n",
      "Epoch 2/150\n",
      "\u001b[1m45/56\u001b[0m \u001b[32m━━━━━━━━━━━━━━━━\u001b[0m\u001b[37m━━━━\u001b[0m \u001b[1m0s\u001b[0m 2ms/step - loss: 0.4232 - mae: 0.4022 - mse: 0.2693\n",
      "Epoch 2: val_loss improved from 0.40366 to 0.36280, saving model to best_efficiency_model.h5\n"
     ]
    },
    {
     "name": "stderr",
     "output_type": "stream",
     "text": [
      "WARNING:absl:You are saving your model as an HDF5 file via `model.save()` or `keras.saving.save_model(model)`. This file format is considered legacy. We recommend using instead the native Keras format, e.g. `model.save('my_model.keras')` or `keras.saving.save_model(model, 'my_model.keras')`. \n"
     ]
    },
    {
     "name": "stdout",
     "output_type": "stream",
     "text": [
      "\u001b[1m56/56\u001b[0m \u001b[32m━━━━━━━━━━━━━━━━━━━━\u001b[0m\u001b[37m\u001b[0m \u001b[1m0s\u001b[0m 6ms/step - loss: 0.4164 - mae: 0.3975 - mse: 0.2626 - val_loss: 0.3628 - val_mae: 0.4072 - val_mse: 0.2102 - learning_rate: 0.0010\n",
      "Epoch 3/150\n",
      "\u001b[1m43/56\u001b[0m \u001b[32m━━━━━━━━━━━━━━━\u001b[0m\u001b[37m━━━━━\u001b[0m \u001b[1m0s\u001b[0m 2ms/step - loss: 0.3122 - mae: 0.3119 - mse: 0.1600\n",
      "Epoch 3: val_loss improved from 0.36280 to 0.30949, saving model to best_efficiency_model.h5\n"
     ]
    },
    {
     "name": "stderr",
     "output_type": "stream",
     "text": [
      "WARNING:absl:You are saving your model as an HDF5 file via `model.save()` or `keras.saving.save_model(model)`. This file format is considered legacy. We recommend using instead the native Keras format, e.g. `model.save('my_model.keras')` or `keras.saving.save_model(model, 'my_model.keras')`. \n"
     ]
    },
    {
     "name": "stdout",
     "output_type": "stream",
     "text": [
      "\u001b[1m56/56\u001b[0m \u001b[32m━━━━━━━━━━━━━━━━━━━━\u001b[0m\u001b[37m\u001b[0m \u001b[1m0s\u001b[0m 6ms/step - loss: 0.3084 - mae: 0.3081 - mse: 0.1563 - val_loss: 0.3095 - val_mae: 0.3554 - val_mse: 0.1590 - learning_rate: 0.0010\n",
      "Epoch 4/150\n",
      "\u001b[1m53/56\u001b[0m \u001b[32m━━━━━━━━━━━━━━━━━━\u001b[0m\u001b[37m━━\u001b[0m \u001b[1m0s\u001b[0m 2ms/step - loss: 0.2552 - mae: 0.2542 - mse: 0.1052\n",
      "Epoch 4: val_loss improved from 0.30949 to 0.26681, saving model to best_efficiency_model.h5\n"
     ]
    },
    {
     "name": "stderr",
     "output_type": "stream",
     "text": [
      "WARNING:absl:You are saving your model as an HDF5 file via `model.save()` or `keras.saving.save_model(model)`. This file format is considered legacy. We recommend using instead the native Keras format, e.g. `model.save('my_model.keras')` or `keras.saving.save_model(model, 'my_model.keras')`. \n"
     ]
    },
    {
     "name": "stdout",
     "output_type": "stream",
     "text": [
      "\u001b[1m56/56\u001b[0m \u001b[32m━━━━━━━━━━━━━━━━━━━━\u001b[0m\u001b[37m\u001b[0m \u001b[1m0s\u001b[0m 5ms/step - loss: 0.2547 - mae: 0.2536 - mse: 0.1047 - val_loss: 0.2668 - val_mae: 0.3036 - val_mse: 0.1187 - learning_rate: 0.0010\n",
      "Epoch 5/150\n",
      "\u001b[1m47/56\u001b[0m \u001b[32m━━━━━━━━━━━━━━━━\u001b[0m\u001b[37m━━━━\u001b[0m \u001b[1m0s\u001b[0m 2ms/step - loss: 0.2227 - mae: 0.2133 - mse: 0.0750\n",
      "Epoch 5: val_loss improved from 0.26681 to 0.22863, saving model to best_efficiency_model.h5\n"
     ]
    },
    {
     "name": "stderr",
     "output_type": "stream",
     "text": [
      "WARNING:absl:You are saving your model as an HDF5 file via `model.save()` or `keras.saving.save_model(model)`. This file format is considered legacy. We recommend using instead the native Keras format, e.g. `model.save('my_model.keras')` or `keras.saving.save_model(model, 'my_model.keras')`. \n"
     ]
    },
    {
     "name": "stdout",
     "output_type": "stream",
     "text": [
      "\u001b[1m56/56\u001b[0m \u001b[32m━━━━━━━━━━━━━━━━━━━━\u001b[0m\u001b[37m\u001b[0m \u001b[1m0s\u001b[0m 6ms/step - loss: 0.2227 - mae: 0.2132 - mse: 0.0751 - val_loss: 0.2286 - val_mae: 0.2535 - val_mse: 0.0831 - learning_rate: 0.0010\n",
      "Epoch 6/150\n",
      "\u001b[1m47/56\u001b[0m \u001b[32m━━━━━━━━━━━━━━━━\u001b[0m\u001b[37m━━━━\u001b[0m \u001b[1m0s\u001b[0m 2ms/step - loss: 0.2110 - mae: 0.1979 - mse: 0.0660\n",
      "Epoch 6: val_loss improved from 0.22863 to 0.20615, saving model to best_efficiency_model.h5\n"
     ]
    },
    {
     "name": "stderr",
     "output_type": "stream",
     "text": [
      "WARNING:absl:You are saving your model as an HDF5 file via `model.save()` or `keras.saving.save_model(model)`. This file format is considered legacy. We recommend using instead the native Keras format, e.g. `model.save('my_model.keras')` or `keras.saving.save_model(model, 'my_model.keras')`. \n"
     ]
    },
    {
     "name": "stdout",
     "output_type": "stream",
     "text": [
      "\u001b[1m56/56\u001b[0m \u001b[32m━━━━━━━━━━━━━━━━━━━━\u001b[0m\u001b[37m\u001b[0m \u001b[1m0s\u001b[0m 6ms/step - loss: 0.2100 - mae: 0.1965 - mse: 0.0651 - val_loss: 0.2062 - val_mae: 0.2179 - val_mse: 0.0634 - learning_rate: 0.0010\n",
      "Epoch 7/150\n",
      "\u001b[1m46/56\u001b[0m \u001b[32m━━━━━━━━━━━━━━━━\u001b[0m\u001b[37m━━━━\u001b[0m \u001b[1m0s\u001b[0m 2ms/step - loss: 0.1936 - mae: 0.1726 - mse: 0.0515\n",
      "Epoch 7: val_loss improved from 0.20615 to 0.18609, saving model to best_efficiency_model.h5\n"
     ]
    },
    {
     "name": "stderr",
     "output_type": "stream",
     "text": [
      "WARNING:absl:You are saving your model as an HDF5 file via `model.save()` or `keras.saving.save_model(model)`. This file format is considered legacy. We recommend using instead the native Keras format, e.g. `model.save('my_model.keras')` or `keras.saving.save_model(model, 'my_model.keras')`. \n"
     ]
    },
    {
     "name": "stdout",
     "output_type": "stream",
     "text": [
      "\u001b[1m56/56\u001b[0m \u001b[32m━━━━━━━━━━━━━━━━━━━━\u001b[0m\u001b[37m\u001b[0m \u001b[1m0s\u001b[0m 6ms/step - loss: 0.1931 - mae: 0.1719 - mse: 0.0511 - val_loss: 0.1861 - val_mae: 0.1848 - val_mse: 0.0464 - learning_rate: 0.0010\n",
      "Epoch 8/150\n",
      "\u001b[1m52/56\u001b[0m \u001b[32m━━━━━━━━━━━━━━━━━━\u001b[0m\u001b[37m━━\u001b[0m \u001b[1m0s\u001b[0m 2ms/step - loss: 0.1846 - mae: 0.1601 - mse: 0.0457\n",
      "Epoch 8: val_loss improved from 0.18609 to 0.16960, saving model to best_efficiency_model.h5\n"
     ]
    },
    {
     "name": "stderr",
     "output_type": "stream",
     "text": [
      "WARNING:absl:You are saving your model as an HDF5 file via `model.save()` or `keras.saving.save_model(model)`. This file format is considered legacy. We recommend using instead the native Keras format, e.g. `model.save('my_model.keras')` or `keras.saving.save_model(model, 'my_model.keras')`. \n"
     ]
    },
    {
     "name": "stdout",
     "output_type": "stream",
     "text": [
      "\u001b[1m56/56\u001b[0m \u001b[32m━━━━━━━━━━━━━━━━━━━━\u001b[0m\u001b[37m\u001b[0m \u001b[1m0s\u001b[0m 6ms/step - loss: 0.1844 - mae: 0.1599 - mse: 0.0455 - val_loss: 0.1696 - val_mae: 0.1531 - val_mse: 0.0332 - learning_rate: 0.0010\n",
      "Epoch 9/150\n",
      "\u001b[1m48/56\u001b[0m \u001b[32m━━━━━━━━━━━━━━━━━\u001b[0m\u001b[37m━━━\u001b[0m \u001b[1m0s\u001b[0m 2ms/step - loss: 0.1721 - mae: 0.1436 - mse: 0.0363\n",
      "Epoch 9: val_loss improved from 0.16960 to 0.16084, saving model to best_efficiency_model.h5\n"
     ]
    },
    {
     "name": "stderr",
     "output_type": "stream",
     "text": [
      "WARNING:absl:You are saving your model as an HDF5 file via `model.save()` or `keras.saving.save_model(model)`. This file format is considered legacy. We recommend using instead the native Keras format, e.g. `model.save('my_model.keras')` or `keras.saving.save_model(model, 'my_model.keras')`. \n"
     ]
    },
    {
     "name": "stdout",
     "output_type": "stream",
     "text": [
      "\u001b[1m56/56\u001b[0m \u001b[32m━━━━━━━━━━━━━━━━━━━━\u001b[0m\u001b[37m\u001b[0m \u001b[1m0s\u001b[0m 5ms/step - loss: 0.1717 - mae: 0.1430 - mse: 0.0361 - val_loss: 0.1608 - val_mae: 0.1392 - val_mse: 0.0278 - learning_rate: 0.0010\n",
      "Epoch 10/150\n",
      "\u001b[1m50/56\u001b[0m \u001b[32m━━━━━━━━━━━━━━━━━\u001b[0m\u001b[37m━━━\u001b[0m \u001b[1m0s\u001b[0m 2ms/step - loss: 0.1642 - mae: 0.1338 - mse: 0.0320\n",
      "Epoch 10: val_loss improved from 0.16084 to 0.14794, saving model to best_efficiency_model.h5\n"
     ]
    },
    {
     "name": "stderr",
     "output_type": "stream",
     "text": [
      "WARNING:absl:You are saving your model as an HDF5 file via `model.save()` or `keras.saving.save_model(model)`. This file format is considered legacy. We recommend using instead the native Keras format, e.g. `model.save('my_model.keras')` or `keras.saving.save_model(model, 'my_model.keras')`. \n"
     ]
    },
    {
     "name": "stdout",
     "output_type": "stream",
     "text": [
      "\u001b[1m56/56\u001b[0m \u001b[32m━━━━━━━━━━━━━━━━━━━━\u001b[0m\u001b[37m\u001b[0m \u001b[1m0s\u001b[0m 5ms/step - loss: 0.1641 - mae: 0.1338 - mse: 0.0320 - val_loss: 0.1479 - val_mae: 0.1103 - val_mse: 0.0185 - learning_rate: 0.0010\n",
      "Epoch 11/150\n",
      "\u001b[1m47/56\u001b[0m \u001b[32m━━━━━━━━━━━━━━━━\u001b[0m\u001b[37m━━━━\u001b[0m \u001b[1m0s\u001b[0m 2ms/step - loss: 0.1565 - mae: 0.1262 - mse: 0.0278\n",
      "Epoch 11: val_loss improved from 0.14794 to 0.14068, saving model to best_efficiency_model.h5\n"
     ]
    },
    {
     "name": "stderr",
     "output_type": "stream",
     "text": [
      "WARNING:absl:You are saving your model as an HDF5 file via `model.save()` or `keras.saving.save_model(model)`. This file format is considered legacy. We recommend using instead the native Keras format, e.g. `model.save('my_model.keras')` or `keras.saving.save_model(model, 'my_model.keras')`. \n"
     ]
    },
    {
     "name": "stdout",
     "output_type": "stream",
     "text": [
      "\u001b[1m56/56\u001b[0m \u001b[32m━━━━━━━━━━━━━━━━━━━━\u001b[0m\u001b[37m\u001b[0m \u001b[1m0s\u001b[0m 6ms/step - loss: 0.1561 - mae: 0.1254 - mse: 0.0275 - val_loss: 0.1407 - val_mae: 0.0989 - val_mse: 0.0149 - learning_rate: 0.0010\n",
      "Epoch 12/150\n",
      "\u001b[1m36/56\u001b[0m \u001b[32m━━━━━━━━━━━━\u001b[0m\u001b[37m━━━━━━━━\u001b[0m \u001b[1m0s\u001b[0m 3ms/step - loss: 0.1508 - mae: 0.1189 - mse: 0.0256\n",
      "Epoch 12: val_loss improved from 0.14068 to 0.13420, saving model to best_efficiency_model.h5\n"
     ]
    },
    {
     "name": "stderr",
     "output_type": "stream",
     "text": [
      "WARNING:absl:You are saving your model as an HDF5 file via `model.save()` or `keras.saving.save_model(model)`. This file format is considered legacy. We recommend using instead the native Keras format, e.g. `model.save('my_model.keras')` or `keras.saving.save_model(model, 'my_model.keras')`. \n"
     ]
    },
    {
     "name": "stdout",
     "output_type": "stream",
     "text": [
      "\u001b[1m56/56\u001b[0m \u001b[32m━━━━━━━━━━━━━━━━━━━━\u001b[0m\u001b[37m\u001b[0m \u001b[1m0s\u001b[0m 5ms/step - loss: 0.1501 - mae: 0.1182 - mse: 0.0253 - val_loss: 0.1342 - val_mae: 0.0894 - val_mse: 0.0123 - learning_rate: 0.0010\n",
      "Epoch 13/150\n",
      "\u001b[1m55/56\u001b[0m \u001b[32m━━━━━━━━━━━━━━━━━━━\u001b[0m\u001b[37m━\u001b[0m \u001b[1m0s\u001b[0m 2ms/step - loss: 0.1446 - mae: 0.1134 - mse: 0.0237\n",
      "Epoch 13: val_loss improved from 0.13420 to 0.13119, saving model to best_efficiency_model.h5\n"
     ]
    },
    {
     "name": "stderr",
     "output_type": "stream",
     "text": [
      "WARNING:absl:You are saving your model as an HDF5 file via `model.save()` or `keras.saving.save_model(model)`. This file format is considered legacy. We recommend using instead the native Keras format, e.g. `model.save('my_model.keras')` or `keras.saving.save_model(model, 'my_model.keras')`. \n"
     ]
    },
    {
     "name": "stdout",
     "output_type": "stream",
     "text": [
      "\u001b[1m56/56\u001b[0m \u001b[32m━━━━━━━━━━━━━━━━━━━━\u001b[0m\u001b[37m\u001b[0m \u001b[1m0s\u001b[0m 5ms/step - loss: 0.1446 - mae: 0.1133 - mse: 0.0236 - val_loss: 0.1312 - val_mae: 0.0927 - val_mse: 0.0132 - learning_rate: 0.0010\n",
      "Epoch 14/150\n",
      "\u001b[1m50/56\u001b[0m \u001b[32m━━━━━━━━━━━━━━━━━\u001b[0m\u001b[37m━━━\u001b[0m \u001b[1m0s\u001b[0m 2ms/step - loss: 0.1380 - mae: 0.1082 - mse: 0.0209\n",
      "Epoch 14: val_loss improved from 0.13119 to 0.12542, saving model to best_efficiency_model.h5\n"
     ]
    },
    {
     "name": "stderr",
     "output_type": "stream",
     "text": [
      "WARNING:absl:You are saving your model as an HDF5 file via `model.save()` or `keras.saving.save_model(model)`. This file format is considered legacy. We recommend using instead the native Keras format, e.g. `model.save('my_model.keras')` or `keras.saving.save_model(model, 'my_model.keras')`. \n"
     ]
    },
    {
     "name": "stdout",
     "output_type": "stream",
     "text": [
      "\u001b[1m56/56\u001b[0m \u001b[32m━━━━━━━━━━━━━━━━━━━━\u001b[0m\u001b[37m\u001b[0m \u001b[1m0s\u001b[0m 6ms/step - loss: 0.1379 - mae: 0.1083 - mse: 0.0209 - val_loss: 0.1254 - val_mae: 0.0877 - val_mse: 0.0115 - learning_rate: 0.0010\n",
      "Epoch 15/150\n",
      "\u001b[1m45/56\u001b[0m \u001b[32m━━━━━━━━━━━━━━━━\u001b[0m\u001b[37m━━━━\u001b[0m \u001b[1m0s\u001b[0m 2ms/step - loss: 0.1316 - mae: 0.1030 - mse: 0.0185\n",
      "Epoch 15: val_loss improved from 0.12542 to 0.11853, saving model to best_efficiency_model.h5\n"
     ]
    },
    {
     "name": "stderr",
     "output_type": "stream",
     "text": [
      "WARNING:absl:You are saving your model as an HDF5 file via `model.save()` or `keras.saving.save_model(model)`. This file format is considered legacy. We recommend using instead the native Keras format, e.g. `model.save('my_model.keras')` or `keras.saving.save_model(model, 'my_model.keras')`. \n"
     ]
    },
    {
     "name": "stdout",
     "output_type": "stream",
     "text": [
      "\u001b[1m56/56\u001b[0m \u001b[32m━━━━━━━━━━━━━━━━━━━━\u001b[0m\u001b[37m\u001b[0m \u001b[1m0s\u001b[0m 6ms/step - loss: 0.1316 - mae: 0.1033 - mse: 0.0187 - val_loss: 0.1185 - val_mae: 0.0774 - val_mse: 0.0087 - learning_rate: 0.0010\n",
      "Epoch 16/150\n",
      "\u001b[1m50/56\u001b[0m \u001b[32m━━━━━━━━━━━━━━━━━\u001b[0m\u001b[37m━━━\u001b[0m \u001b[1m0s\u001b[0m 2ms/step - loss: 0.1268 - mae: 0.0990 - mse: 0.0179\n",
      "Epoch 16: val_loss improved from 0.11853 to 0.11362, saving model to best_efficiency_model.h5\n"
     ]
    },
    {
     "name": "stderr",
     "output_type": "stream",
     "text": [
      "WARNING:absl:You are saving your model as an HDF5 file via `model.save()` or `keras.saving.save_model(model)`. This file format is considered legacy. We recommend using instead the native Keras format, e.g. `model.save('my_model.keras')` or `keras.saving.save_model(model, 'my_model.keras')`. \n"
     ]
    },
    {
     "name": "stdout",
     "output_type": "stream",
     "text": [
      "\u001b[1m56/56\u001b[0m \u001b[32m━━━━━━━━━━━━━━━━━━━━\u001b[0m\u001b[37m\u001b[0m \u001b[1m0s\u001b[0m 5ms/step - loss: 0.1267 - mae: 0.0991 - mse: 0.0179 - val_loss: 0.1136 - val_mae: 0.0747 - val_mse: 0.0080 - learning_rate: 0.0010\n",
      "Epoch 17/150\n",
      "\u001b[1m52/56\u001b[0m \u001b[32m━━━━━━━━━━━━━━━━━━\u001b[0m\u001b[37m━━\u001b[0m \u001b[1m0s\u001b[0m 2ms/step - loss: 0.1208 - mae: 0.0962 - mse: 0.0162\n",
      "Epoch 17: val_loss improved from 0.11362 to 0.11004, saving model to best_efficiency_model.h5\n"
     ]
    },
    {
     "name": "stderr",
     "output_type": "stream",
     "text": [
      "WARNING:absl:You are saving your model as an HDF5 file via `model.save()` or `keras.saving.save_model(model)`. This file format is considered legacy. We recommend using instead the native Keras format, e.g. `model.save('my_model.keras')` or `keras.saving.save_model(model, 'my_model.keras')`. \n"
     ]
    },
    {
     "name": "stdout",
     "output_type": "stream",
     "text": [
      "\u001b[1m56/56\u001b[0m \u001b[32m━━━━━━━━━━━━━━━━━━━━\u001b[0m\u001b[37m\u001b[0m \u001b[1m0s\u001b[0m 6ms/step - loss: 0.1207 - mae: 0.0961 - mse: 0.0162 - val_loss: 0.1100 - val_mae: 0.0775 - val_mse: 0.0087 - learning_rate: 0.0010\n",
      "Epoch 18/150\n",
      "\u001b[1m47/56\u001b[0m \u001b[32m━━━━━━━━━━━━━━━━\u001b[0m\u001b[37m━━━━\u001b[0m \u001b[1m0s\u001b[0m 2ms/step - loss: 0.1155 - mae: 0.0930 - mse: 0.0151\n",
      "Epoch 18: val_loss improved from 0.11004 to 0.10275, saving model to best_efficiency_model.h5\n"
     ]
    },
    {
     "name": "stderr",
     "output_type": "stream",
     "text": [
      "WARNING:absl:You are saving your model as an HDF5 file via `model.save()` or `keras.saving.save_model(model)`. This file format is considered legacy. We recommend using instead the native Keras format, e.g. `model.save('my_model.keras')` or `keras.saving.save_model(model, 'my_model.keras')`. \n"
     ]
    },
    {
     "name": "stdout",
     "output_type": "stream",
     "text": [
      "\u001b[1m56/56\u001b[0m \u001b[32m━━━━━━━━━━━━━━━━━━━━\u001b[0m\u001b[37m\u001b[0m \u001b[1m0s\u001b[0m 6ms/step - loss: 0.1154 - mae: 0.0932 - mse: 0.0152 - val_loss: 0.1027 - val_mae: 0.0643 - val_mse: 0.0058 - learning_rate: 0.0010\n",
      "Epoch 19/150\n",
      "\u001b[1m40/56\u001b[0m \u001b[32m━━━━━━━━━━━━━━\u001b[0m\u001b[37m━━━━━━\u001b[0m \u001b[1m0s\u001b[0m 3ms/step - loss: 0.1103 - mae: 0.0895 - mse: 0.0140\n",
      "Epoch 19: val_loss improved from 0.10275 to 0.09907, saving model to best_efficiency_model.h5\n"
     ]
    },
    {
     "name": "stderr",
     "output_type": "stream",
     "text": [
      "WARNING:absl:You are saving your model as an HDF5 file via `model.save()` or `keras.saving.save_model(model)`. This file format is considered legacy. We recommend using instead the native Keras format, e.g. `model.save('my_model.keras')` or `keras.saving.save_model(model, 'my_model.keras')`. \n"
     ]
    },
    {
     "name": "stdout",
     "output_type": "stream",
     "text": [
      "\u001b[1m56/56\u001b[0m \u001b[32m━━━━━━━━━━━━━━━━━━━━\u001b[0m\u001b[37m\u001b[0m \u001b[1m0s\u001b[0m 6ms/step - loss: 0.1101 - mae: 0.0899 - mse: 0.0142 - val_loss: 0.0991 - val_mae: 0.0679 - val_mse: 0.0064 - learning_rate: 0.0010\n",
      "Epoch 20/150\n",
      "\u001b[1m48/56\u001b[0m \u001b[32m━━━━━━━━━━━━━━━━━\u001b[0m\u001b[37m━━━\u001b[0m \u001b[1m0s\u001b[0m 2ms/step - loss: 0.1061 - mae: 0.0922 - mse: 0.0144\n",
      "Epoch 20: val_loss improved from 0.09907 to 0.09346, saving model to best_efficiency_model.h5\n"
     ]
    },
    {
     "name": "stderr",
     "output_type": "stream",
     "text": [
      "WARNING:absl:You are saving your model as an HDF5 file via `model.save()` or `keras.saving.save_model(model)`. This file format is considered legacy. We recommend using instead the native Keras format, e.g. `model.save('my_model.keras')` or `keras.saving.save_model(model, 'my_model.keras')`. \n"
     ]
    },
    {
     "name": "stdout",
     "output_type": "stream",
     "text": [
      "\u001b[1m56/56\u001b[0m \u001b[32m━━━━━━━━━━━━━━━━━━━━\u001b[0m\u001b[37m\u001b[0m \u001b[1m0s\u001b[0m 6ms/step - loss: 0.1060 - mae: 0.0921 - mse: 0.0144 - val_loss: 0.0935 - val_mae: 0.0618 - val_mse: 0.0053 - learning_rate: 0.0010\n",
      "Epoch 21/150\n",
      "\u001b[1m44/56\u001b[0m \u001b[32m━━━━━━━━━━━━━━━\u001b[0m\u001b[37m━━━━━\u001b[0m \u001b[1m0s\u001b[0m 2ms/step - loss: 0.1012 - mae: 0.0890 - mse: 0.0138\n",
      "Epoch 21: val_loss improved from 0.09346 to 0.09111, saving model to best_efficiency_model.h5\n"
     ]
    },
    {
     "name": "stderr",
     "output_type": "stream",
     "text": [
      "WARNING:absl:You are saving your model as an HDF5 file via `model.save()` or `keras.saving.save_model(model)`. This file format is considered legacy. We recommend using instead the native Keras format, e.g. `model.save('my_model.keras')` or `keras.saving.save_model(model, 'my_model.keras')`. \n"
     ]
    },
    {
     "name": "stdout",
     "output_type": "stream",
     "text": [
      "\u001b[1m56/56\u001b[0m \u001b[32m━━━━━━━━━━━━━━━━━━━━\u001b[0m\u001b[37m\u001b[0m \u001b[1m0s\u001b[0m 6ms/step - loss: 0.1010 - mae: 0.0891 - mse: 0.0139 - val_loss: 0.0911 - val_mae: 0.0719 - val_mse: 0.0073 - learning_rate: 0.0010\n",
      "Epoch 22/150\n",
      "\u001b[1m41/56\u001b[0m \u001b[32m━━━━━━━━━━━━━━\u001b[0m\u001b[37m━━━━━━\u001b[0m \u001b[1m0s\u001b[0m 3ms/step - loss: 0.0952 - mae: 0.0847 - mse: 0.0122\n",
      "Epoch 22: val_loss improved from 0.09111 to 0.08374, saving model to best_efficiency_model.h5\n"
     ]
    },
    {
     "name": "stderr",
     "output_type": "stream",
     "text": [
      "WARNING:absl:You are saving your model as an HDF5 file via `model.save()` or `keras.saving.save_model(model)`. This file format is considered legacy. We recommend using instead the native Keras format, e.g. `model.save('my_model.keras')` or `keras.saving.save_model(model, 'my_model.keras')`. \n"
     ]
    },
    {
     "name": "stdout",
     "output_type": "stream",
     "text": [
      "\u001b[1m56/56\u001b[0m \u001b[32m━━━━━━━━━━━━━━━━━━━━\u001b[0m\u001b[37m\u001b[0m \u001b[1m0s\u001b[0m 6ms/step - loss: 0.0951 - mae: 0.0851 - mse: 0.0124 - val_loss: 0.0837 - val_mae: 0.0575 - val_mse: 0.0044 - learning_rate: 0.0010\n",
      "Epoch 23/150\n",
      "\u001b[1m49/56\u001b[0m \u001b[32m━━━━━━━━━━━━━━━━━\u001b[0m\u001b[37m━━━\u001b[0m \u001b[1m0s\u001b[0m 2ms/step - loss: 0.0905 - mae: 0.0839 - mse: 0.0121\n",
      "Epoch 23: val_loss improved from 0.08374 to 0.08018, saving model to best_efficiency_model.h5\n"
     ]
    },
    {
     "name": "stderr",
     "output_type": "stream",
     "text": [
      "WARNING:absl:You are saving your model as an HDF5 file via `model.save()` or `keras.saving.save_model(model)`. This file format is considered legacy. We recommend using instead the native Keras format, e.g. `model.save('my_model.keras')` or `keras.saving.save_model(model, 'my_model.keras')`. \n"
     ]
    },
    {
     "name": "stdout",
     "output_type": "stream",
     "text": [
      "\u001b[1m56/56\u001b[0m \u001b[32m━━━━━━━━━━━━━━━━━━━━\u001b[0m\u001b[37m\u001b[0m \u001b[1m0s\u001b[0m 6ms/step - loss: 0.0904 - mae: 0.0839 - mse: 0.0121 - val_loss: 0.0802 - val_mae: 0.0632 - val_mse: 0.0052 - learning_rate: 0.0010\n",
      "Epoch 24/150\n",
      "\u001b[1m42/56\u001b[0m \u001b[32m━━━━━━━━━━━━━━━\u001b[0m\u001b[37m━━━━━\u001b[0m \u001b[1m0s\u001b[0m 2ms/step - loss: 0.0866 - mae: 0.0861 - mse: 0.0125\n",
      "Epoch 24: val_loss improved from 0.08018 to 0.07533, saving model to best_efficiency_model.h5\n"
     ]
    },
    {
     "name": "stderr",
     "output_type": "stream",
     "text": [
      "WARNING:absl:You are saving your model as an HDF5 file via `model.save()` or `keras.saving.save_model(model)`. This file format is considered legacy. We recommend using instead the native Keras format, e.g. `model.save('my_model.keras')` or `keras.saving.save_model(model, 'my_model.keras')`. \n"
     ]
    },
    {
     "name": "stdout",
     "output_type": "stream",
     "text": [
      "\u001b[1m56/56\u001b[0m \u001b[32m━━━━━━━━━━━━━━━━━━━━\u001b[0m\u001b[37m\u001b[0m \u001b[1m0s\u001b[0m 6ms/step - loss: 0.0862 - mae: 0.0854 - mse: 0.0123 - val_loss: 0.0753 - val_mae: 0.0598 - val_mse: 0.0047 - learning_rate: 0.0010\n",
      "Epoch 25/150\n",
      "\u001b[1m50/56\u001b[0m \u001b[32m━━━━━━━━━━━━━━━━━\u001b[0m\u001b[37m━━━\u001b[0m \u001b[1m0s\u001b[0m 2ms/step - loss: 0.0816 - mae: 0.0828 - mse: 0.0120\n",
      "Epoch 25: val_loss improved from 0.07533 to 0.07203, saving model to best_efficiency_model.h5\n"
     ]
    },
    {
     "name": "stderr",
     "output_type": "stream",
     "text": [
      "WARNING:absl:You are saving your model as an HDF5 file via `model.save()` or `keras.saving.save_model(model)`. This file format is considered legacy. We recommend using instead the native Keras format, e.g. `model.save('my_model.keras')` or `keras.saving.save_model(model, 'my_model.keras')`. \n"
     ]
    },
    {
     "name": "stdout",
     "output_type": "stream",
     "text": [
      "\u001b[1m56/56\u001b[0m \u001b[32m━━━━━━━━━━━━━━━━━━━━\u001b[0m\u001b[37m\u001b[0m \u001b[1m0s\u001b[0m 6ms/step - loss: 0.0815 - mae: 0.0829 - mse: 0.0120 - val_loss: 0.0720 - val_mae: 0.0650 - val_mse: 0.0058 - learning_rate: 0.0010\n",
      "Epoch 26/150\n",
      "\u001b[1m47/56\u001b[0m \u001b[32m━━━━━━━━━━━━━━━━\u001b[0m\u001b[37m━━━━\u001b[0m \u001b[1m0s\u001b[0m 2ms/step - loss: 0.0773 - mae: 0.0834 - mse: 0.0120\n",
      "Epoch 26: val_loss improved from 0.07203 to 0.06715, saving model to best_efficiency_model.h5\n"
     ]
    },
    {
     "name": "stderr",
     "output_type": "stream",
     "text": [
      "WARNING:absl:You are saving your model as an HDF5 file via `model.save()` or `keras.saving.save_model(model)`. This file format is considered legacy. We recommend using instead the native Keras format, e.g. `model.save('my_model.keras')` or `keras.saving.save_model(model, 'my_model.keras')`. \n"
     ]
    },
    {
     "name": "stdout",
     "output_type": "stream",
     "text": [
      "\u001b[1m56/56\u001b[0m \u001b[32m━━━━━━━━━━━━━━━━━━━━\u001b[0m\u001b[37m\u001b[0m \u001b[1m0s\u001b[0m 5ms/step - loss: 0.0771 - mae: 0.0834 - mse: 0.0120 - val_loss: 0.0671 - val_mae: 0.0624 - val_mse: 0.0052 - learning_rate: 0.0010\n",
      "Epoch 27/150\n",
      "\u001b[1m46/56\u001b[0m \u001b[32m━━━━━━━━━━━━━━━━\u001b[0m\u001b[37m━━━━\u001b[0m \u001b[1m0s\u001b[0m 2ms/step - loss: 0.0727 - mae: 0.0832 - mse: 0.0116\n",
      "Epoch 27: val_loss improved from 0.06715 to 0.06318, saving model to best_efficiency_model.h5\n"
     ]
    },
    {
     "name": "stderr",
     "output_type": "stream",
     "text": [
      "WARNING:absl:You are saving your model as an HDF5 file via `model.save()` or `keras.saving.save_model(model)`. This file format is considered legacy. We recommend using instead the native Keras format, e.g. `model.save('my_model.keras')` or `keras.saving.save_model(model, 'my_model.keras')`. \n"
     ]
    },
    {
     "name": "stdout",
     "output_type": "stream",
     "text": [
      "\u001b[1m56/56\u001b[0m \u001b[32m━━━━━━━━━━━━━━━━━━━━\u001b[0m\u001b[37m\u001b[0m \u001b[1m0s\u001b[0m 6ms/step - loss: 0.0724 - mae: 0.0827 - mse: 0.0115 - val_loss: 0.0632 - val_mae: 0.0637 - val_mse: 0.0055 - learning_rate: 0.0010\n",
      "Epoch 28/150\n",
      "\u001b[1m55/56\u001b[0m \u001b[32m━━━━━━━━━━━━━━━━━━━\u001b[0m\u001b[37m━\u001b[0m \u001b[1m0s\u001b[0m 2ms/step - loss: 0.0675 - mae: 0.0789 - mse: 0.0108\n",
      "Epoch 28: val_loss improved from 0.06318 to 0.05646, saving model to best_efficiency_model.h5\n"
     ]
    },
    {
     "name": "stderr",
     "output_type": "stream",
     "text": [
      "WARNING:absl:You are saving your model as an HDF5 file via `model.save()` or `keras.saving.save_model(model)`. This file format is considered legacy. We recommend using instead the native Keras format, e.g. `model.save('my_model.keras')` or `keras.saving.save_model(model, 'my_model.keras')`. \n"
     ]
    },
    {
     "name": "stdout",
     "output_type": "stream",
     "text": [
      "\u001b[1m56/56\u001b[0m \u001b[32m━━━━━━━━━━━━━━━━━━━━\u001b[0m\u001b[37m\u001b[0m \u001b[1m0s\u001b[0m 5ms/step - loss: 0.0675 - mae: 0.0789 - mse: 0.0108 - val_loss: 0.0565 - val_mae: 0.0472 - val_mse: 0.0029 - learning_rate: 0.0010\n",
      "Epoch 29/150\n",
      "\u001b[1m46/56\u001b[0m \u001b[32m━━━━━━━━━━━━━━━━\u001b[0m\u001b[37m━━━━\u001b[0m \u001b[1m0s\u001b[0m 2ms/step - loss: 0.0635 - mae: 0.0788 - mse: 0.0108\n",
      "Epoch 29: val_loss improved from 0.05646 to 0.05345, saving model to best_efficiency_model.h5\n"
     ]
    },
    {
     "name": "stderr",
     "output_type": "stream",
     "text": [
      "WARNING:absl:You are saving your model as an HDF5 file via `model.save()` or `keras.saving.save_model(model)`. This file format is considered legacy. We recommend using instead the native Keras format, e.g. `model.save('my_model.keras')` or `keras.saving.save_model(model, 'my_model.keras')`. \n"
     ]
    },
    {
     "name": "stdout",
     "output_type": "stream",
     "text": [
      "\u001b[1m56/56\u001b[0m \u001b[32m━━━━━━━━━━━━━━━━━━━━\u001b[0m\u001b[37m\u001b[0m \u001b[1m0s\u001b[0m 6ms/step - loss: 0.0633 - mae: 0.0789 - mse: 0.0108 - val_loss: 0.0535 - val_mae: 0.0552 - val_mse: 0.0040 - learning_rate: 0.0010\n",
      "Epoch 30/150\n",
      "\u001b[1m45/56\u001b[0m \u001b[32m━━━━━━━━━━━━━━━━\u001b[0m\u001b[37m━━━━\u001b[0m \u001b[1m0s\u001b[0m 2ms/step - loss: 0.0591 - mae: 0.0779 - mse: 0.0104  \n",
      "Epoch 30: val_loss improved from 0.05345 to 0.05024, saving model to best_efficiency_model.h5\n"
     ]
    },
    {
     "name": "stderr",
     "output_type": "stream",
     "text": [
      "WARNING:absl:You are saving your model as an HDF5 file via `model.save()` or `keras.saving.save_model(model)`. This file format is considered legacy. We recommend using instead the native Keras format, e.g. `model.save('my_model.keras')` or `keras.saving.save_model(model, 'my_model.keras')`. \n"
     ]
    },
    {
     "name": "stdout",
     "output_type": "stream",
     "text": [
      "\u001b[1m56/56\u001b[0m \u001b[32m━━━━━━━━━━━━━━━━━━━━\u001b[0m\u001b[37m\u001b[0m \u001b[1m1s\u001b[0m 6ms/step - loss: 0.0590 - mae: 0.0783 - mse: 0.0105 - val_loss: 0.0502 - val_mae: 0.0602 - val_mse: 0.0047 - learning_rate: 0.0010\n",
      "Epoch 31/150\n",
      "\u001b[1m43/56\u001b[0m \u001b[32m━━━━━━━━━━━━━━━\u001b[0m\u001b[37m━━━━━\u001b[0m \u001b[1m0s\u001b[0m 2ms/step - loss: 0.0553 - mae: 0.0792 - mse: 0.0105\n",
      "Epoch 31: val_loss improved from 0.05024 to 0.04707, saving model to best_efficiency_model.h5\n"
     ]
    },
    {
     "name": "stderr",
     "output_type": "stream",
     "text": [
      "WARNING:absl:You are saving your model as an HDF5 file via `model.save()` or `keras.saving.save_model(model)`. This file format is considered legacy. We recommend using instead the native Keras format, e.g. `model.save('my_model.keras')` or `keras.saving.save_model(model, 'my_model.keras')`. \n"
     ]
    },
    {
     "name": "stdout",
     "output_type": "stream",
     "text": [
      "\u001b[1m56/56\u001b[0m \u001b[32m━━━━━━━━━━━━━━━━━━━━\u001b[0m\u001b[37m\u001b[0m \u001b[1m0s\u001b[0m 6ms/step - loss: 0.0550 - mae: 0.0790 - mse: 0.0105 - val_loss: 0.0471 - val_mae: 0.0629 - val_mse: 0.0054 - learning_rate: 0.0010\n",
      "Epoch 32/150\n",
      "\u001b[1m46/56\u001b[0m \u001b[32m━━━━━━━━━━━━━━━━\u001b[0m\u001b[37m━━━━\u001b[0m \u001b[1m0s\u001b[0m 2ms/step - loss: 0.0514 - mae: 0.0779 - mse: 0.0105\n",
      "Epoch 32: val_loss improved from 0.04707 to 0.04242, saving model to best_efficiency_model.h5\n"
     ]
    },
    {
     "name": "stderr",
     "output_type": "stream",
     "text": [
      "WARNING:absl:You are saving your model as an HDF5 file via `model.save()` or `keras.saving.save_model(model)`. This file format is considered legacy. We recommend using instead the native Keras format, e.g. `model.save('my_model.keras')` or `keras.saving.save_model(model, 'my_model.keras')`. \n"
     ]
    },
    {
     "name": "stdout",
     "output_type": "stream",
     "text": [
      "\u001b[1m56/56\u001b[0m \u001b[32m━━━━━━━━━━━━━━━━━━━━\u001b[0m\u001b[37m\u001b[0m \u001b[1m0s\u001b[0m 6ms/step - loss: 0.0512 - mae: 0.0779 - mse: 0.0105 - val_loss: 0.0424 - val_mae: 0.0587 - val_mse: 0.0045 - learning_rate: 0.0010\n",
      "Epoch 33/150\n",
      "\u001b[1m43/56\u001b[0m \u001b[32m━━━━━━━━━━━━━━━\u001b[0m\u001b[37m━━━━━\u001b[0m \u001b[1m0s\u001b[0m 2ms/step - loss: 0.0469 - mae: 0.0756 - mse: 0.0096\n",
      "Epoch 33: val_loss improved from 0.04242 to 0.03863, saving model to best_efficiency_model.h5\n"
     ]
    },
    {
     "name": "stderr",
     "output_type": "stream",
     "text": [
      "WARNING:absl:You are saving your model as an HDF5 file via `model.save()` or `keras.saving.save_model(model)`. This file format is considered legacy. We recommend using instead the native Keras format, e.g. `model.save('my_model.keras')` or `keras.saving.save_model(model, 'my_model.keras')`. \n"
     ]
    },
    {
     "name": "stdout",
     "output_type": "stream",
     "text": [
      "\u001b[1m56/56\u001b[0m \u001b[32m━━━━━━━━━━━━━━━━━━━━\u001b[0m\u001b[37m\u001b[0m \u001b[1m0s\u001b[0m 6ms/step - loss: 0.0466 - mae: 0.0753 - mse: 0.0096 - val_loss: 0.0386 - val_mae: 0.0559 - val_mse: 0.0041 - learning_rate: 0.0010\n",
      "Epoch 34/150\n",
      "\u001b[1m51/56\u001b[0m \u001b[32m━━━━━━━━━━━━━━━━━━\u001b[0m\u001b[37m━━\u001b[0m \u001b[1m0s\u001b[0m 2ms/step - loss: 0.0433 - mae: 0.0750 - mse: 0.0096\n",
      "Epoch 34: val_loss improved from 0.03863 to 0.03464, saving model to best_efficiency_model.h5\n"
     ]
    },
    {
     "name": "stderr",
     "output_type": "stream",
     "text": [
      "WARNING:absl:You are saving your model as an HDF5 file via `model.save()` or `keras.saving.save_model(model)`. This file format is considered legacy. We recommend using instead the native Keras format, e.g. `model.save('my_model.keras')` or `keras.saving.save_model(model, 'my_model.keras')`. \n"
     ]
    },
    {
     "name": "stdout",
     "output_type": "stream",
     "text": [
      "\u001b[1m56/56\u001b[0m \u001b[32m━━━━━━━━━━━━━━━━━━━━\u001b[0m\u001b[37m\u001b[0m \u001b[1m0s\u001b[0m 6ms/step - loss: 0.0431 - mae: 0.0748 - mse: 0.0095 - val_loss: 0.0346 - val_mae: 0.0514 - val_mse: 0.0035 - learning_rate: 0.0010\n",
      "Epoch 35/150\n",
      "\u001b[1m46/56\u001b[0m \u001b[32m━━━━━━━━━━━━━━━━\u001b[0m\u001b[37m━━━━\u001b[0m \u001b[1m0s\u001b[0m 2ms/step - loss: 0.0395 - mae: 0.0737 - mse: 0.0090\n",
      "Epoch 35: val_loss improved from 0.03464 to 0.03124, saving model to best_efficiency_model.h5\n"
     ]
    },
    {
     "name": "stderr",
     "output_type": "stream",
     "text": [
      "WARNING:absl:You are saving your model as an HDF5 file via `model.save()` or `keras.saving.save_model(model)`. This file format is considered legacy. We recommend using instead the native Keras format, e.g. `model.save('my_model.keras')` or `keras.saving.save_model(model, 'my_model.keras')`. \n"
     ]
    },
    {
     "name": "stdout",
     "output_type": "stream",
     "text": [
      "\u001b[1m56/56\u001b[0m \u001b[32m━━━━━━━━━━━━━━━━━━━━\u001b[0m\u001b[37m\u001b[0m \u001b[1m0s\u001b[0m 6ms/step - loss: 0.0394 - mae: 0.0738 - mse: 0.0090 - val_loss: 0.0312 - val_mae: 0.0496 - val_mse: 0.0032 - learning_rate: 0.0010\n",
      "Epoch 36/150\n",
      "\u001b[1m51/56\u001b[0m \u001b[32m━━━━━━━━━━━━━━━━━━\u001b[0m\u001b[37m━━\u001b[0m \u001b[1m0s\u001b[0m 2ms/step - loss: 0.0365 - mae: 0.0741 - mse: 0.0091\n",
      "Epoch 36: val_loss improved from 0.03124 to 0.02799, saving model to best_efficiency_model.h5\n"
     ]
    },
    {
     "name": "stderr",
     "output_type": "stream",
     "text": [
      "WARNING:absl:You are saving your model as an HDF5 file via `model.save()` or `keras.saving.save_model(model)`. This file format is considered legacy. We recommend using instead the native Keras format, e.g. `model.save('my_model.keras')` or `keras.saving.save_model(model, 'my_model.keras')`. \n"
     ]
    },
    {
     "name": "stdout",
     "output_type": "stream",
     "text": [
      "\u001b[1m56/56\u001b[0m \u001b[32m━━━━━━━━━━━━━━━━━━━━\u001b[0m\u001b[37m\u001b[0m \u001b[1m0s\u001b[0m 6ms/step - loss: 0.0364 - mae: 0.0740 - mse: 0.0091 - val_loss: 0.0280 - val_mae: 0.0468 - val_mse: 0.0029 - learning_rate: 0.0010\n",
      "Epoch 37/150\n",
      "\u001b[1m49/56\u001b[0m \u001b[32m━━━━━━━━━━━━━━━━━\u001b[0m\u001b[37m━━━\u001b[0m \u001b[1m0s\u001b[0m 2ms/step - loss: 0.0333 - mae: 0.0728 - mse: 0.0088\n",
      "Epoch 37: val_loss improved from 0.02799 to 0.02612, saving model to best_efficiency_model.h5\n"
     ]
    },
    {
     "name": "stderr",
     "output_type": "stream",
     "text": [
      "WARNING:absl:You are saving your model as an HDF5 file via `model.save()` or `keras.saving.save_model(model)`. This file format is considered legacy. We recommend using instead the native Keras format, e.g. `model.save('my_model.keras')` or `keras.saving.save_model(model, 'my_model.keras')`. \n"
     ]
    },
    {
     "name": "stdout",
     "output_type": "stream",
     "text": [
      "\u001b[1m56/56\u001b[0m \u001b[32m━━━━━━━━━━━━━━━━━━━━\u001b[0m\u001b[37m\u001b[0m \u001b[1m0s\u001b[0m 5ms/step - loss: 0.0332 - mae: 0.0726 - mse: 0.0088 - val_loss: 0.0261 - val_mae: 0.0500 - val_mse: 0.0037 - learning_rate: 0.0010\n",
      "Epoch 38/150\n",
      "\u001b[1m46/56\u001b[0m \u001b[32m━━━━━━━━━━━━━━━━\u001b[0m\u001b[37m━━━━\u001b[0m \u001b[1m0s\u001b[0m 2ms/step - loss: 0.0310 - mae: 0.0735 - mse: 0.0091\n",
      "Epoch 38: val_loss improved from 0.02612 to 0.02393, saving model to best_efficiency_model.h5\n"
     ]
    },
    {
     "name": "stderr",
     "output_type": "stream",
     "text": [
      "WARNING:absl:You are saving your model as an HDF5 file via `model.save()` or `keras.saving.save_model(model)`. This file format is considered legacy. We recommend using instead the native Keras format, e.g. `model.save('my_model.keras')` or `keras.saving.save_model(model, 'my_model.keras')`. \n"
     ]
    },
    {
     "name": "stdout",
     "output_type": "stream",
     "text": [
      "\u001b[1m56/56\u001b[0m \u001b[32m━━━━━━━━━━━━━━━━━━━━\u001b[0m\u001b[37m\u001b[0m \u001b[1m0s\u001b[0m 5ms/step - loss: 0.0309 - mae: 0.0737 - mse: 0.0092 - val_loss: 0.0239 - val_mae: 0.0547 - val_mse: 0.0040 - learning_rate: 0.0010\n",
      "Epoch 39/150\n",
      "\u001b[1m49/56\u001b[0m \u001b[32m━━━━━━━━━━━━━━━━━\u001b[0m\u001b[37m━━━\u001b[0m \u001b[1m0s\u001b[0m 3ms/step - loss: 0.0289 - mae: 0.0760 - mse: 0.0094\n",
      "Epoch 39: val_loss improved from 0.02393 to 0.01994, saving model to best_efficiency_model.h5\n"
     ]
    },
    {
     "name": "stderr",
     "output_type": "stream",
     "text": [
      "WARNING:absl:You are saving your model as an HDF5 file via `model.save()` or `keras.saving.save_model(model)`. This file format is considered legacy. We recommend using instead the native Keras format, e.g. `model.save('my_model.keras')` or `keras.saving.save_model(model, 'my_model.keras')`. \n"
     ]
    },
    {
     "name": "stdout",
     "output_type": "stream",
     "text": [
      "\u001b[1m56/56\u001b[0m \u001b[32m━━━━━━━━━━━━━━━━━━━━\u001b[0m\u001b[37m\u001b[0m \u001b[1m0s\u001b[0m 7ms/step - loss: 0.0288 - mae: 0.0756 - mse: 0.0094 - val_loss: 0.0199 - val_mae: 0.0400 - val_mse: 0.0021 - learning_rate: 0.0010\n",
      "Epoch 40/150\n",
      "\u001b[1m42/56\u001b[0m \u001b[32m━━━━━━━━━━━━━━━\u001b[0m\u001b[37m━━━━━\u001b[0m \u001b[1m0s\u001b[0m 2ms/step - loss: 0.0264 - mae: 0.0720 - mse: 0.0090\n",
      "Epoch 40: val_loss improved from 0.01994 to 0.01955, saving model to best_efficiency_model.h5\n"
     ]
    },
    {
     "name": "stderr",
     "output_type": "stream",
     "text": [
      "WARNING:absl:You are saving your model as an HDF5 file via `model.save()` or `keras.saving.save_model(model)`. This file format is considered legacy. We recommend using instead the native Keras format, e.g. `model.save('my_model.keras')` or `keras.saving.save_model(model, 'my_model.keras')`. \n"
     ]
    },
    {
     "name": "stdout",
     "output_type": "stream",
     "text": [
      "\u001b[1m56/56\u001b[0m \u001b[32m━━━━━━━━━━━━━━━━━━━━\u001b[0m\u001b[37m\u001b[0m \u001b[1m0s\u001b[0m 6ms/step - loss: 0.0262 - mae: 0.0717 - mse: 0.0088 - val_loss: 0.0195 - val_mae: 0.0516 - val_mse: 0.0036 - learning_rate: 0.0010\n",
      "Epoch 41/150\n",
      "\u001b[1m48/56\u001b[0m \u001b[32m━━━━━━━━━━━━━━━━━\u001b[0m\u001b[37m━━━\u001b[0m \u001b[1m0s\u001b[0m 2ms/step - loss: 0.0239 - mae: 0.0705 - mse: 0.0082\n",
      "Epoch 41: val_loss improved from 0.01955 to 0.01740, saving model to best_efficiency_model.h5\n"
     ]
    },
    {
     "name": "stderr",
     "output_type": "stream",
     "text": [
      "WARNING:absl:You are saving your model as an HDF5 file via `model.save()` or `keras.saving.save_model(model)`. This file format is considered legacy. We recommend using instead the native Keras format, e.g. `model.save('my_model.keras')` or `keras.saving.save_model(model, 'my_model.keras')`. \n"
     ]
    },
    {
     "name": "stdout",
     "output_type": "stream",
     "text": [
      "\u001b[1m56/56\u001b[0m \u001b[32m━━━━━━━━━━━━━━━━━━━━\u001b[0m\u001b[37m\u001b[0m \u001b[1m0s\u001b[0m 6ms/step - loss: 0.0239 - mae: 0.0706 - mse: 0.0083 - val_loss: 0.0174 - val_mae: 0.0472 - val_mse: 0.0029 - learning_rate: 0.0010\n",
      "Epoch 42/150\n",
      "\u001b[1m45/56\u001b[0m \u001b[32m━━━━━━━━━━━━━━━━\u001b[0m\u001b[37m━━━━\u001b[0m \u001b[1m0s\u001b[0m 2ms/step - loss: 0.0232 - mae: 0.0736 - mse: 0.0089\n",
      "Epoch 42: val_loss improved from 0.01740 to 0.01621, saving model to best_efficiency_model.h5\n"
     ]
    },
    {
     "name": "stderr",
     "output_type": "stream",
     "text": [
      "WARNING:absl:You are saving your model as an HDF5 file via `model.save()` or `keras.saving.save_model(model)`. This file format is considered legacy. We recommend using instead the native Keras format, e.g. `model.save('my_model.keras')` or `keras.saving.save_model(model, 'my_model.keras')`. \n"
     ]
    },
    {
     "name": "stdout",
     "output_type": "stream",
     "text": [
      "\u001b[1m56/56\u001b[0m \u001b[32m━━━━━━━━━━━━━━━━━━━━\u001b[0m\u001b[37m\u001b[0m \u001b[1m0s\u001b[0m 6ms/step - loss: 0.0231 - mae: 0.0734 - mse: 0.0089 - val_loss: 0.0162 - val_mae: 0.0466 - val_mse: 0.0029 - learning_rate: 0.0010\n",
      "Epoch 43/150\n",
      "\u001b[1m55/56\u001b[0m \u001b[32m━━━━━━━━━━━━━━━━━━━\u001b[0m\u001b[37m━\u001b[0m \u001b[1m0s\u001b[0m 3ms/step - loss: 0.0213 - mae: 0.0705 - mse: 0.0083 \n",
      "Epoch 43: val_loss improved from 0.01621 to 0.01580, saving model to best_efficiency_model.h5\n"
     ]
    },
    {
     "name": "stderr",
     "output_type": "stream",
     "text": [
      "WARNING:absl:You are saving your model as an HDF5 file via `model.save()` or `keras.saving.save_model(model)`. This file format is considered legacy. We recommend using instead the native Keras format, e.g. `model.save('my_model.keras')` or `keras.saving.save_model(model, 'my_model.keras')`. \n"
     ]
    },
    {
     "name": "stdout",
     "output_type": "stream",
     "text": [
      "\u001b[1m56/56\u001b[0m \u001b[32m━━━━━━━━━━━━━━━━━━━━\u001b[0m\u001b[37m\u001b[0m \u001b[1m1s\u001b[0m 6ms/step - loss: 0.0213 - mae: 0.0705 - mse: 0.0083 - val_loss: 0.0158 - val_mae: 0.0508 - val_mse: 0.0036 - learning_rate: 0.0010\n",
      "Epoch 44/150\n",
      "\u001b[1m48/56\u001b[0m \u001b[32m━━━━━━━━━━━━━━━━━\u001b[0m\u001b[37m━━━\u001b[0m \u001b[1m0s\u001b[0m 2ms/step - loss: 0.0204 - mae: 0.0710 - mse: 0.0083\n",
      "Epoch 44: val_loss improved from 0.01580 to 0.01407, saving model to best_efficiency_model.h5\n"
     ]
    },
    {
     "name": "stderr",
     "output_type": "stream",
     "text": [
      "WARNING:absl:You are saving your model as an HDF5 file via `model.save()` or `keras.saving.save_model(model)`. This file format is considered legacy. We recommend using instead the native Keras format, e.g. `model.save('my_model.keras')` or `keras.saving.save_model(model, 'my_model.keras')`. \n"
     ]
    },
    {
     "name": "stdout",
     "output_type": "stream",
     "text": [
      "\u001b[1m56/56\u001b[0m \u001b[32m━━━━━━━━━━━━━━━━━━━━\u001b[0m\u001b[37m\u001b[0m \u001b[1m0s\u001b[0m 6ms/step - loss: 0.0203 - mae: 0.0708 - mse: 0.0083 - val_loss: 0.0141 - val_mae: 0.0447 - val_mse: 0.0027 - learning_rate: 0.0010\n",
      "Epoch 45/150\n",
      "\u001b[1m41/56\u001b[0m \u001b[32m━━━━━━━━━━━━━━\u001b[0m\u001b[37m━━━━━━\u001b[0m \u001b[1m0s\u001b[0m 3ms/step - loss: 0.0194 - mae: 0.0696 - mse: 0.0081  \n",
      "Epoch 45: val_loss improved from 0.01407 to 0.01269, saving model to best_efficiency_model.h5\n"
     ]
    },
    {
     "name": "stderr",
     "output_type": "stream",
     "text": [
      "WARNING:absl:You are saving your model as an HDF5 file via `model.save()` or `keras.saving.save_model(model)`. This file format is considered legacy. We recommend using instead the native Keras format, e.g. `model.save('my_model.keras')` or `keras.saving.save_model(model, 'my_model.keras')`. \n"
     ]
    },
    {
     "name": "stdout",
     "output_type": "stream",
     "text": [
      "\u001b[1m56/56\u001b[0m \u001b[32m━━━━━━━━━━━━━━━━━━━━\u001b[0m\u001b[37m\u001b[0m \u001b[1m1s\u001b[0m 6ms/step - loss: 0.0194 - mae: 0.0698 - mse: 0.0081 - val_loss: 0.0127 - val_mae: 0.0371 - val_mse: 0.0020 - learning_rate: 0.0010\n",
      "Epoch 46/150\n",
      "\u001b[1m46/56\u001b[0m \u001b[32m━━━━━━━━━━━━━━━━\u001b[0m\u001b[37m━━━━\u001b[0m \u001b[1m0s\u001b[0m 2ms/step - loss: 0.0182 - mae: 0.0688 - mse: 0.0077\n",
      "Epoch 46: val_loss improved from 0.01269 to 0.01185, saving model to best_efficiency_model.h5\n"
     ]
    },
    {
     "name": "stderr",
     "output_type": "stream",
     "text": [
      "WARNING:absl:You are saving your model as an HDF5 file via `model.save()` or `keras.saving.save_model(model)`. This file format is considered legacy. We recommend using instead the native Keras format, e.g. `model.save('my_model.keras')` or `keras.saving.save_model(model, 'my_model.keras')`. \n"
     ]
    },
    {
     "name": "stdout",
     "output_type": "stream",
     "text": [
      "\u001b[1m56/56\u001b[0m \u001b[32m━━━━━━━━━━━━━━━━━━━━\u001b[0m\u001b[37m\u001b[0m \u001b[1m1s\u001b[0m 10ms/step - loss: 0.0182 - mae: 0.0686 - mse: 0.0077 - val_loss: 0.0118 - val_mae: 0.0363 - val_mse: 0.0018 - learning_rate: 0.0010\n",
      "Epoch 47/150\n",
      "\u001b[1m40/56\u001b[0m \u001b[32m━━━━━━━━━━━━━━\u001b[0m\u001b[37m━━━━━━\u001b[0m \u001b[1m0s\u001b[0m 3ms/step - loss: 0.0176 - mae: 0.0678 - mse: 0.0076\n",
      "Epoch 47: val_loss did not improve from 0.01185\n",
      "\u001b[1m56/56\u001b[0m \u001b[32m━━━━━━━━━━━━━━━━━━━━\u001b[0m\u001b[37m\u001b[0m \u001b[1m0s\u001b[0m 4ms/step - loss: 0.0176 - mae: 0.0678 - mse: 0.0077 - val_loss: 0.0130 - val_mae: 0.0504 - val_mse: 0.0034 - learning_rate: 0.0010\n",
      "Epoch 48/150\n",
      "\u001b[1m40/56\u001b[0m \u001b[32m━━━━━━━━━━━━━━\u001b[0m\u001b[37m━━━━━━\u001b[0m \u001b[1m0s\u001b[0m 3ms/step - loss: 0.0174 - mae: 0.0679 - mse: 0.0078\n",
      "Epoch 48: val_loss did not improve from 0.01185\n",
      "\u001b[1m56/56\u001b[0m \u001b[32m━━━━━━━━━━━━━━━━━━━━\u001b[0m\u001b[37m\u001b[0m \u001b[1m0s\u001b[0m 4ms/step - loss: 0.0174 - mae: 0.0683 - mse: 0.0080 - val_loss: 0.0123 - val_mae: 0.0488 - val_mse: 0.0032 - learning_rate: 0.0010\n",
      "Epoch 49/150\n",
      "\u001b[1m45/56\u001b[0m \u001b[32m━━━━━━━━━━━━━━━━\u001b[0m\u001b[37m━━━━\u001b[0m \u001b[1m0s\u001b[0m 2ms/step - loss: 0.0168 - mae: 0.0677 - mse: 0.0078\n",
      "Epoch 49: val_loss did not improve from 0.01185\n",
      "\u001b[1m56/56\u001b[0m \u001b[32m━━━━━━━━━━━━━━━━━━━━\u001b[0m\u001b[37m\u001b[0m \u001b[1m0s\u001b[0m 4ms/step - loss: 0.0168 - mae: 0.0680 - mse: 0.0078 - val_loss: 0.0121 - val_mae: 0.0480 - val_mse: 0.0033 - learning_rate: 0.0010\n",
      "Epoch 50/150\n",
      "\u001b[1m46/56\u001b[0m \u001b[32m━━━━━━━━━━━━━━━━\u001b[0m\u001b[37m━━━━\u001b[0m \u001b[1m0s\u001b[0m 2ms/step - loss: 0.0166 - mae: 0.0690 - mse: 0.0079\n",
      "Epoch 50: val_loss improved from 0.01185 to 0.01171, saving model to best_efficiency_model.h5\n"
     ]
    },
    {
     "name": "stderr",
     "output_type": "stream",
     "text": [
      "WARNING:absl:You are saving your model as an HDF5 file via `model.save()` or `keras.saving.save_model(model)`. This file format is considered legacy. We recommend using instead the native Keras format, e.g. `model.save('my_model.keras')` or `keras.saving.save_model(model, 'my_model.keras')`. \n"
     ]
    },
    {
     "name": "stdout",
     "output_type": "stream",
     "text": [
      "\u001b[1m56/56\u001b[0m \u001b[32m━━━━━━━━━━━━━━━━━━━━\u001b[0m\u001b[37m\u001b[0m \u001b[1m0s\u001b[0m 6ms/step - loss: 0.0165 - mae: 0.0689 - mse: 0.0079 - val_loss: 0.0117 - val_mae: 0.0500 - val_mse: 0.0033 - learning_rate: 0.0010\n",
      "Epoch 51/150\n",
      "\u001b[1m45/56\u001b[0m \u001b[32m━━━━━━━━━━━━━━━━\u001b[0m\u001b[37m━━━━\u001b[0m \u001b[1m0s\u001b[0m 2ms/step - loss: 0.0150 - mae: 0.0634 - mse: 0.0067\n",
      "Epoch 51: val_loss improved from 0.01171 to 0.01033, saving model to best_efficiency_model.h5\n"
     ]
    },
    {
     "name": "stderr",
     "output_type": "stream",
     "text": [
      "WARNING:absl:You are saving your model as an HDF5 file via `model.save()` or `keras.saving.save_model(model)`. This file format is considered legacy. We recommend using instead the native Keras format, e.g. `model.save('my_model.keras')` or `keras.saving.save_model(model, 'my_model.keras')`. \n"
     ]
    },
    {
     "name": "stdout",
     "output_type": "stream",
     "text": [
      "\u001b[1m56/56\u001b[0m \u001b[32m━━━━━━━━━━━━━━━━━━━━\u001b[0m\u001b[37m\u001b[0m \u001b[1m0s\u001b[0m 6ms/step - loss: 0.0151 - mae: 0.0636 - mse: 0.0068 - val_loss: 0.0103 - val_mae: 0.0417 - val_mse: 0.0023 - learning_rate: 0.0010\n",
      "Epoch 52/150\n",
      "\u001b[1m55/56\u001b[0m \u001b[32m━━━━━━━━━━━━━━━━━━━\u001b[0m\u001b[37m━\u001b[0m \u001b[1m0s\u001b[0m 2ms/step - loss: 0.0155 - mae: 0.0670 - mse: 0.0075\n",
      "Epoch 52: val_loss improved from 0.01033 to 0.00972, saving model to best_efficiency_model.h5\n"
     ]
    },
    {
     "name": "stderr",
     "output_type": "stream",
     "text": [
      "WARNING:absl:You are saving your model as an HDF5 file via `model.save()` or `keras.saving.save_model(model)`. This file format is considered legacy. We recommend using instead the native Keras format, e.g. `model.save('my_model.keras')` or `keras.saving.save_model(model, 'my_model.keras')`. \n"
     ]
    },
    {
     "name": "stdout",
     "output_type": "stream",
     "text": [
      "\u001b[1m56/56\u001b[0m \u001b[32m━━━━━━━━━━━━━━━━━━━━\u001b[0m\u001b[37m\u001b[0m \u001b[1m0s\u001b[0m 6ms/step - loss: 0.0155 - mae: 0.0669 - mse: 0.0075 - val_loss: 0.0097 - val_mae: 0.0375 - val_mse: 0.0020 - learning_rate: 0.0010\n",
      "Epoch 53/150\n",
      "\u001b[1m47/56\u001b[0m \u001b[32m━━━━━━━━━━━━━━━━\u001b[0m\u001b[37m━━━━\u001b[0m \u001b[1m0s\u001b[0m 2ms/step - loss: 0.0147 - mae: 0.0657 - mse: 0.0070\n",
      "Epoch 53: val_loss did not improve from 0.00972\n",
      "\u001b[1m56/56\u001b[0m \u001b[32m━━━━━━━━━━━━━━━━━━━━\u001b[0m\u001b[37m\u001b[0m \u001b[1m0s\u001b[0m 4ms/step - loss: 0.0147 - mae: 0.0657 - mse: 0.0071 - val_loss: 0.0106 - val_mae: 0.0479 - val_mse: 0.0032 - learning_rate: 0.0010\n",
      "Epoch 54/150\n",
      "\u001b[1m51/56\u001b[0m \u001b[32m━━━━━━━━━━━━━━━━━━\u001b[0m\u001b[37m━━\u001b[0m \u001b[1m0s\u001b[0m 2ms/step - loss: 0.0146 - mae: 0.0661 - mse: 0.0072\n",
      "Epoch 54: val_loss improved from 0.00972 to 0.00902, saving model to best_efficiency_model.h5\n"
     ]
    },
    {
     "name": "stderr",
     "output_type": "stream",
     "text": [
      "WARNING:absl:You are saving your model as an HDF5 file via `model.save()` or `keras.saving.save_model(model)`. This file format is considered legacy. We recommend using instead the native Keras format, e.g. `model.save('my_model.keras')` or `keras.saving.save_model(model, 'my_model.keras')`. \n"
     ]
    },
    {
     "name": "stdout",
     "output_type": "stream",
     "text": [
      "\u001b[1m56/56\u001b[0m \u001b[32m━━━━━━━━━━━━━━━━━━━━\u001b[0m\u001b[37m\u001b[0m \u001b[1m0s\u001b[0m 6ms/step - loss: 0.0146 - mae: 0.0660 - mse: 0.0072 - val_loss: 0.0090 - val_mae: 0.0366 - val_mse: 0.0019 - learning_rate: 0.0010\n",
      "Epoch 55/150\n",
      "\u001b[1m38/56\u001b[0m \u001b[32m━━━━━━━━━━━━━\u001b[0m\u001b[37m━━━━━━━\u001b[0m \u001b[1m0s\u001b[0m 3ms/step - loss: 0.0137 - mae: 0.0626 - mse: 0.0066\n",
      "Epoch 55: val_loss did not improve from 0.00902\n",
      "\u001b[1m56/56\u001b[0m \u001b[32m━━━━━━━━━━━━━━━━━━━━\u001b[0m\u001b[37m\u001b[0m \u001b[1m0s\u001b[0m 4ms/step - loss: 0.0138 - mae: 0.0629 - mse: 0.0067 - val_loss: 0.0091 - val_mae: 0.0394 - val_mse: 0.0023 - learning_rate: 0.0010\n",
      "Epoch 56/150\n",
      "\u001b[1m49/56\u001b[0m \u001b[32m━━━━━━━━━━━━━━━━━\u001b[0m\u001b[37m━━━\u001b[0m \u001b[1m0s\u001b[0m 2ms/step - loss: 0.0139 - mae: 0.0638 - mse: 0.0071\n",
      "Epoch 56: val_loss did not improve from 0.00902\n",
      "\u001b[1m56/56\u001b[0m \u001b[32m━━━━━━━━━━━━━━━━━━━━\u001b[0m\u001b[37m\u001b[0m \u001b[1m0s\u001b[0m 4ms/step - loss: 0.0139 - mae: 0.0639 - mse: 0.0071 - val_loss: 0.0091 - val_mae: 0.0441 - val_mse: 0.0025 - learning_rate: 0.0010\n",
      "Epoch 57/150\n",
      "\u001b[1m44/56\u001b[0m \u001b[32m━━━━━━━━━━━━━━━\u001b[0m\u001b[37m━━━━━\u001b[0m \u001b[1m0s\u001b[0m 2ms/step - loss: 0.0142 - mae: 0.0652 - mse: 0.0076\n",
      "Epoch 57: val_loss improved from 0.00902 to 0.00815, saving model to best_efficiency_model.h5\n"
     ]
    },
    {
     "name": "stderr",
     "output_type": "stream",
     "text": [
      "WARNING:absl:You are saving your model as an HDF5 file via `model.save()` or `keras.saving.save_model(model)`. This file format is considered legacy. We recommend using instead the native Keras format, e.g. `model.save('my_model.keras')` or `keras.saving.save_model(model, 'my_model.keras')`. \n"
     ]
    },
    {
     "name": "stdout",
     "output_type": "stream",
     "text": [
      "\u001b[1m56/56\u001b[0m \u001b[32m━━━━━━━━━━━━━━━━━━━━\u001b[0m\u001b[37m\u001b[0m \u001b[1m0s\u001b[0m 6ms/step - loss: 0.0141 - mae: 0.0651 - mse: 0.0075 - val_loss: 0.0081 - val_mae: 0.0363 - val_mse: 0.0018 - learning_rate: 0.0010\n",
      "Epoch 58/150\n",
      "\u001b[1m40/56\u001b[0m \u001b[32m━━━━━━━━━━━━━━\u001b[0m\u001b[37m━━━━━━\u001b[0m \u001b[1m0s\u001b[0m 3ms/step - loss: 0.0130 - mae: 0.0635 - mse: 0.0067\n",
      "Epoch 58: val_loss did not improve from 0.00815\n",
      "\u001b[1m56/56\u001b[0m \u001b[32m━━━━━━━━━━━━━━━━━━━━\u001b[0m\u001b[37m\u001b[0m \u001b[1m0s\u001b[0m 4ms/step - loss: 0.0130 - mae: 0.0636 - mse: 0.0068 - val_loss: 0.0082 - val_mae: 0.0382 - val_mse: 0.0021 - learning_rate: 0.0010\n",
      "Epoch 59/150\n",
      "\u001b[1m52/56\u001b[0m \u001b[32m━━━━━━━━━━━━━━━━━━\u001b[0m\u001b[37m━━\u001b[0m \u001b[1m0s\u001b[0m 2ms/step - loss: 0.0126 - mae: 0.0613 - mse: 0.0065\n",
      "Epoch 59: val_loss did not improve from 0.00815\n",
      "\u001b[1m56/56\u001b[0m \u001b[32m━━━━━━━━━━━━━━━━━━━━\u001b[0m\u001b[37m\u001b[0m \u001b[1m0s\u001b[0m 4ms/step - loss: 0.0125 - mae: 0.0613 - mse: 0.0065 - val_loss: 0.0094 - val_mae: 0.0443 - val_mse: 0.0035 - learning_rate: 0.0010\n",
      "Epoch 60/150\n",
      "\u001b[1m48/56\u001b[0m \u001b[32m━━━━━━━━━━━━━━━━━\u001b[0m\u001b[37m━━━\u001b[0m \u001b[1m0s\u001b[0m 2ms/step - loss: 0.0122 - mae: 0.0605 - mse: 0.0064\n",
      "Epoch 60: val_loss improved from 0.00815 to 0.00767, saving model to best_efficiency_model.h5\n"
     ]
    },
    {
     "name": "stderr",
     "output_type": "stream",
     "text": [
      "WARNING:absl:You are saving your model as an HDF5 file via `model.save()` or `keras.saving.save_model(model)`. This file format is considered legacy. We recommend using instead the native Keras format, e.g. `model.save('my_model.keras')` or `keras.saving.save_model(model, 'my_model.keras')`. \n"
     ]
    },
    {
     "name": "stdout",
     "output_type": "stream",
     "text": [
      "\u001b[1m56/56\u001b[0m \u001b[32m━━━━━━━━━━━━━━━━━━━━\u001b[0m\u001b[37m\u001b[0m \u001b[1m0s\u001b[0m 5ms/step - loss: 0.0122 - mae: 0.0604 - mse: 0.0064 - val_loss: 0.0077 - val_mae: 0.0374 - val_mse: 0.0021 - learning_rate: 0.0010\n",
      "Epoch 61/150\n",
      "\u001b[1m50/56\u001b[0m \u001b[32m━━━━━━━━━━━━━━━━━\u001b[0m\u001b[37m━━━\u001b[0m \u001b[1m0s\u001b[0m 2ms/step - loss: 0.0116 - mae: 0.0599 - mse: 0.0060\n",
      "Epoch 61: val_loss improved from 0.00767 to 0.00702, saving model to best_efficiency_model.h5\n"
     ]
    },
    {
     "name": "stderr",
     "output_type": "stream",
     "text": [
      "WARNING:absl:You are saving your model as an HDF5 file via `model.save()` or `keras.saving.save_model(model)`. This file format is considered legacy. We recommend using instead the native Keras format, e.g. `model.save('my_model.keras')` or `keras.saving.save_model(model, 'my_model.keras')`. \n"
     ]
    },
    {
     "name": "stdout",
     "output_type": "stream",
     "text": [
      "\u001b[1m56/56\u001b[0m \u001b[32m━━━━━━━━━━━━━━━━━━━━\u001b[0m\u001b[37m\u001b[0m \u001b[1m0s\u001b[0m 6ms/step - loss: 0.0116 - mae: 0.0599 - mse: 0.0061 - val_loss: 0.0070 - val_mae: 0.0331 - val_mse: 0.0016 - learning_rate: 0.0010\n",
      "Epoch 62/150\n",
      "\u001b[1m36/56\u001b[0m \u001b[32m━━━━━━━━━━━━\u001b[0m\u001b[37m━━━━━━━━\u001b[0m \u001b[1m0s\u001b[0m 3ms/step - loss: 0.0119 - mae: 0.0635 - mse: 0.0066\n",
      "Epoch 62: val_loss did not improve from 0.00702\n",
      "\u001b[1m56/56\u001b[0m \u001b[32m━━━━━━━━━━━━━━━━━━━━\u001b[0m\u001b[37m\u001b[0m \u001b[1m0s\u001b[0m 4ms/step - loss: 0.0119 - mae: 0.0634 - mse: 0.0066 - val_loss: 0.0089 - val_mae: 0.0511 - val_mse: 0.0037 - learning_rate: 0.0010\n",
      "Epoch 63/150\n",
      "\u001b[1m49/56\u001b[0m \u001b[32m━━━━━━━━━━━━━━━━━\u001b[0m\u001b[37m━━━\u001b[0m \u001b[1m0s\u001b[0m 2ms/step - loss: 0.0117 - mae: 0.0619 - mse: 0.0066\n",
      "Epoch 63: val_loss did not improve from 0.00702\n",
      "\u001b[1m56/56\u001b[0m \u001b[32m━━━━━━━━━━━━━━━━━━━━\u001b[0m\u001b[37m\u001b[0m \u001b[1m0s\u001b[0m 4ms/step - loss: 0.0117 - mae: 0.0620 - mse: 0.0066 - val_loss: 0.0075 - val_mae: 0.0388 - val_mse: 0.0025 - learning_rate: 0.0010\n",
      "Epoch 64/150\n",
      "\u001b[1m50/56\u001b[0m \u001b[32m━━━━━━━━━━━━━━━━━\u001b[0m\u001b[37m━━━\u001b[0m \u001b[1m0s\u001b[0m 2ms/step - loss: 0.0109 - mae: 0.0585 - mse: 0.0060\n",
      "Epoch 64: val_loss improved from 0.00702 to 0.00670, saving model to best_efficiency_model.h5\n"
     ]
    },
    {
     "name": "stderr",
     "output_type": "stream",
     "text": [
      "WARNING:absl:You are saving your model as an HDF5 file via `model.save()` or `keras.saving.save_model(model)`. This file format is considered legacy. We recommend using instead the native Keras format, e.g. `model.save('my_model.keras')` or `keras.saving.save_model(model, 'my_model.keras')`. \n"
     ]
    },
    {
     "name": "stdout",
     "output_type": "stream",
     "text": [
      "\u001b[1m56/56\u001b[0m \u001b[32m━━━━━━━━━━━━━━━━━━━━\u001b[0m\u001b[37m\u001b[0m \u001b[1m0s\u001b[0m 6ms/step - loss: 0.0109 - mae: 0.0587 - mse: 0.0060 - val_loss: 0.0067 - val_mae: 0.0380 - val_mse: 0.0020 - learning_rate: 0.0010\n",
      "Epoch 65/150\n",
      "\u001b[1m47/56\u001b[0m \u001b[32m━━━━━━━━━━━━━━━━\u001b[0m\u001b[37m━━━━\u001b[0m \u001b[1m0s\u001b[0m 2ms/step - loss: 0.0108 - mae: 0.0596 - mse: 0.0061\n",
      "Epoch 65: val_loss did not improve from 0.00670\n",
      "\u001b[1m56/56\u001b[0m \u001b[32m━━━━━━━━━━━━━━━━━━━━\u001b[0m\u001b[37m\u001b[0m \u001b[1m0s\u001b[0m 4ms/step - loss: 0.0108 - mae: 0.0594 - mse: 0.0061 - val_loss: 0.0069 - val_mae: 0.0398 - val_mse: 0.0024 - learning_rate: 0.0010\n",
      "Epoch 66/150\n",
      "\u001b[1m46/56\u001b[0m \u001b[32m━━━━━━━━━━━━━━━━\u001b[0m\u001b[37m━━━━\u001b[0m \u001b[1m0s\u001b[0m 2ms/step - loss: 0.0107 - mae: 0.0589 - mse: 0.0061\n",
      "Epoch 66: val_loss did not improve from 0.00670\n",
      "\u001b[1m56/56\u001b[0m \u001b[32m━━━━━━━━━━━━━━━━━━━━\u001b[0m\u001b[37m\u001b[0m \u001b[1m0s\u001b[0m 4ms/step - loss: 0.0106 - mae: 0.0590 - mse: 0.0061 - val_loss: 0.0072 - val_mae: 0.0431 - val_mse: 0.0028 - learning_rate: 0.0010\n",
      "Epoch 67/150\n",
      "\u001b[1m49/56\u001b[0m \u001b[32m━━━━━━━━━━━━━━━━━\u001b[0m\u001b[37m━━━\u001b[0m \u001b[1m0s\u001b[0m 2ms/step - loss: 0.0100 - mae: 0.0561 - mse: 0.0057\n",
      "Epoch 67: val_loss did not improve from 0.00670\n",
      "\u001b[1m56/56\u001b[0m \u001b[32m━━━━━━━━━━━━━━━━━━━━\u001b[0m\u001b[37m\u001b[0m \u001b[1m0s\u001b[0m 4ms/step - loss: 0.0101 - mae: 0.0565 - mse: 0.0058 - val_loss: 0.0076 - val_mae: 0.0500 - val_mse: 0.0034 - learning_rate: 0.0010\n",
      "Epoch 68/150\n",
      "\u001b[1m50/56\u001b[0m \u001b[32m━━━━━━━━━━━━━━━━━\u001b[0m\u001b[37m━━━\u001b[0m \u001b[1m0s\u001b[0m 2ms/step - loss: 0.0102 - mae: 0.0593 - mse: 0.0060\n",
      "Epoch 68: val_loss did not improve from 0.00670\n",
      "\u001b[1m56/56\u001b[0m \u001b[32m━━━━━━━━━━━━━━━━━━━━\u001b[0m\u001b[37m\u001b[0m \u001b[1m0s\u001b[0m 4ms/step - loss: 0.0101 - mae: 0.0592 - mse: 0.0060 - val_loss: 0.0069 - val_mae: 0.0468 - val_mse: 0.0029 - learning_rate: 0.0010\n",
      "Epoch 69/150\n",
      "\u001b[1m47/56\u001b[0m \u001b[32m━━━━━━━━━━━━━━━━\u001b[0m\u001b[37m━━━━\u001b[0m \u001b[1m0s\u001b[0m 2ms/step - loss: 0.0096 - mae: 0.0577 - mse: 0.0057\n",
      "Epoch 69: val_loss improved from 0.00670 to 0.00530, saving model to best_efficiency_model.h5\n"
     ]
    },
    {
     "name": "stderr",
     "output_type": "stream",
     "text": [
      "WARNING:absl:You are saving your model as an HDF5 file via `model.save()` or `keras.saving.save_model(model)`. This file format is considered legacy. We recommend using instead the native Keras format, e.g. `model.save('my_model.keras')` or `keras.saving.save_model(model, 'my_model.keras')`. \n"
     ]
    },
    {
     "name": "stdout",
     "output_type": "stream",
     "text": [
      "\u001b[1m56/56\u001b[0m \u001b[32m━━━━━━━━━━━━━━━━━━━━\u001b[0m\u001b[37m\u001b[0m \u001b[1m0s\u001b[0m 5ms/step - loss: 0.0097 - mae: 0.0580 - mse: 0.0057 - val_loss: 0.0053 - val_mae: 0.0320 - val_mse: 0.0015 - learning_rate: 0.0010\n",
      "Epoch 70/150\n",
      "\u001b[1m50/56\u001b[0m \u001b[32m━━━━━━━━━━━━━━━━━\u001b[0m\u001b[37m━━━\u001b[0m \u001b[1m0s\u001b[0m 2ms/step - loss: 0.0095 - mae: 0.0573 - mse: 0.0057\n",
      "Epoch 70: val_loss improved from 0.00530 to 0.00499, saving model to best_efficiency_model.h5\n"
     ]
    },
    {
     "name": "stderr",
     "output_type": "stream",
     "text": [
      "WARNING:absl:You are saving your model as an HDF5 file via `model.save()` or `keras.saving.save_model(model)`. This file format is considered legacy. We recommend using instead the native Keras format, e.g. `model.save('my_model.keras')` or `keras.saving.save_model(model, 'my_model.keras')`. \n"
     ]
    },
    {
     "name": "stdout",
     "output_type": "stream",
     "text": [
      "\u001b[1m56/56\u001b[0m \u001b[32m━━━━━━━━━━━━━━━━━━━━\u001b[0m\u001b[37m\u001b[0m \u001b[1m0s\u001b[0m 5ms/step - loss: 0.0095 - mae: 0.0572 - mse: 0.0057 - val_loss: 0.0050 - val_mae: 0.0306 - val_mse: 0.0013 - learning_rate: 0.0010\n",
      "Epoch 71/150\n",
      "\u001b[1m47/56\u001b[0m \u001b[32m━━━━━━━━━━━━━━━━\u001b[0m\u001b[37m━━━━\u001b[0m \u001b[1m0s\u001b[0m 2ms/step - loss: 0.0094 - mae: 0.0577 - mse: 0.0058\n",
      "Epoch 71: val_loss did not improve from 0.00499\n",
      "\u001b[1m56/56\u001b[0m \u001b[32m━━━━━━━━━━━━━━━━━━━━\u001b[0m\u001b[37m\u001b[0m \u001b[1m0s\u001b[0m 4ms/step - loss: 0.0094 - mae: 0.0575 - mse: 0.0058 - val_loss: 0.0053 - val_mae: 0.0364 - val_mse: 0.0018 - learning_rate: 0.0010\n",
      "Epoch 72/150\n",
      "\u001b[1m48/56\u001b[0m \u001b[32m━━━━━━━━━━━━━━━━━\u001b[0m\u001b[37m━━━\u001b[0m \u001b[1m0s\u001b[0m 2ms/step - loss: 0.0089 - mae: 0.0560 - mse: 0.0054\n",
      "Epoch 72: val_loss improved from 0.00499 to 0.00490, saving model to best_efficiency_model.h5\n"
     ]
    },
    {
     "name": "stderr",
     "output_type": "stream",
     "text": [
      "WARNING:absl:You are saving your model as an HDF5 file via `model.save()` or `keras.saving.save_model(model)`. This file format is considered legacy. We recommend using instead the native Keras format, e.g. `model.save('my_model.keras')` or `keras.saving.save_model(model, 'my_model.keras')`. \n"
     ]
    },
    {
     "name": "stdout",
     "output_type": "stream",
     "text": [
      "\u001b[1m56/56\u001b[0m \u001b[32m━━━━━━━━━━━━━━━━━━━━\u001b[0m\u001b[37m\u001b[0m \u001b[1m0s\u001b[0m 6ms/step - loss: 0.0089 - mae: 0.0562 - mse: 0.0054 - val_loss: 0.0049 - val_mae: 0.0326 - val_mse: 0.0016 - learning_rate: 0.0010\n",
      "Epoch 73/150\n",
      "\u001b[1m45/56\u001b[0m \u001b[32m━━━━━━━━━━━━━━━━\u001b[0m\u001b[37m━━━━\u001b[0m \u001b[1m0s\u001b[0m 2ms/step - loss: 0.0090 - mae: 0.0589 - mse: 0.0057\n",
      "Epoch 73: val_loss did not improve from 0.00490\n",
      "\u001b[1m56/56\u001b[0m \u001b[32m━━━━━━━━━━━━━━━━━━━━\u001b[0m\u001b[37m\u001b[0m \u001b[1m0s\u001b[0m 4ms/step - loss: 0.0089 - mae: 0.0583 - mse: 0.0056 - val_loss: 0.0055 - val_mae: 0.0411 - val_mse: 0.0023 - learning_rate: 0.0010\n",
      "Epoch 74/150\n",
      "\u001b[1m51/56\u001b[0m \u001b[32m━━━━━━━━━━━━━━━━━━\u001b[0m\u001b[37m━━\u001b[0m \u001b[1m0s\u001b[0m 2ms/step - loss: 0.0087 - mae: 0.0574 - mse: 0.0055\n",
      "Epoch 74: val_loss improved from 0.00490 to 0.00395, saving model to best_efficiency_model.h5\n"
     ]
    },
    {
     "name": "stderr",
     "output_type": "stream",
     "text": [
      "WARNING:absl:You are saving your model as an HDF5 file via `model.save()` or `keras.saving.save_model(model)`. This file format is considered legacy. We recommend using instead the native Keras format, e.g. `model.save('my_model.keras')` or `keras.saving.save_model(model, 'my_model.keras')`. \n"
     ]
    },
    {
     "name": "stdout",
     "output_type": "stream",
     "text": [
      "\u001b[1m56/56\u001b[0m \u001b[32m━━━━━━━━━━━━━━━━━━━━\u001b[0m\u001b[37m\u001b[0m \u001b[1m0s\u001b[0m 6ms/step - loss: 0.0087 - mae: 0.0574 - mse: 0.0056 - val_loss: 0.0040 - val_mae: 0.0236 - val_mse: 8.8232e-04 - learning_rate: 0.0010\n",
      "Epoch 75/150\n",
      "\u001b[1m51/56\u001b[0m \u001b[32m━━━━━━━━━━━━━━━━━━\u001b[0m\u001b[37m━━\u001b[0m \u001b[1m0s\u001b[0m 2ms/step - loss: 0.0085 - mae: 0.0566 - mse: 0.0055\n",
      "Epoch 75: val_loss did not improve from 0.00395\n",
      "\u001b[1m56/56\u001b[0m \u001b[32m━━━━━━━━━━━━━━━━━━━━\u001b[0m\u001b[37m\u001b[0m \u001b[1m0s\u001b[0m 4ms/step - loss: 0.0086 - mae: 0.0567 - mse: 0.0055 - val_loss: 0.0043 - val_mae: 0.0324 - val_mse: 0.0014 - learning_rate: 0.0010\n",
      "Epoch 76/150\n",
      "\u001b[1m48/56\u001b[0m \u001b[32m━━━━━━━━━━━━━━━━━\u001b[0m\u001b[37m━━━\u001b[0m \u001b[1m0s\u001b[0m 2ms/step - loss: 0.0088 - mae: 0.0583 - mse: 0.0059\n",
      "Epoch 76: val_loss did not improve from 0.00395\n",
      "\u001b[1m56/56\u001b[0m \u001b[32m━━━━━━━━━━━━━━━━━━━━\u001b[0m\u001b[37m\u001b[0m \u001b[1m0s\u001b[0m 4ms/step - loss: 0.0087 - mae: 0.0579 - mse: 0.0058 - val_loss: 0.0054 - val_mae: 0.0390 - val_mse: 0.0026 - learning_rate: 0.0010\n",
      "Epoch 77/150\n",
      "\u001b[1m43/56\u001b[0m \u001b[32m━━━━━━━━━━━━━━━\u001b[0m\u001b[37m━━━━━\u001b[0m \u001b[1m0s\u001b[0m 2ms/step - loss: 0.0084 - mae: 0.0573 - mse: 0.0056\n",
      "Epoch 77: val_loss improved from 0.00395 to 0.00370, saving model to best_efficiency_model.h5\n"
     ]
    },
    {
     "name": "stderr",
     "output_type": "stream",
     "text": [
      "WARNING:absl:You are saving your model as an HDF5 file via `model.save()` or `keras.saving.save_model(model)`. This file format is considered legacy. We recommend using instead the native Keras format, e.g. `model.save('my_model.keras')` or `keras.saving.save_model(model, 'my_model.keras')`. \n"
     ]
    },
    {
     "name": "stdout",
     "output_type": "stream",
     "text": [
      "\u001b[1m56/56\u001b[0m \u001b[32m━━━━━━━━━━━━━━━━━━━━\u001b[0m\u001b[37m\u001b[0m \u001b[1m0s\u001b[0m 6ms/step - loss: 0.0083 - mae: 0.0568 - mse: 0.0055 - val_loss: 0.0037 - val_mae: 0.0258 - val_mse: 0.0010 - learning_rate: 0.0010\n",
      "Epoch 78/150\n",
      "\u001b[1m46/56\u001b[0m \u001b[32m━━━━━━━━━━━━━━━━\u001b[0m\u001b[37m━━━━\u001b[0m \u001b[1m0s\u001b[0m 2ms/step - loss: 0.0085 - mae: 0.0576 - mse: 0.0058\n",
      "Epoch 78: val_loss did not improve from 0.00370\n",
      "\u001b[1m56/56\u001b[0m \u001b[32m━━━━━━━━━━━━━━━━━━━━\u001b[0m\u001b[37m\u001b[0m \u001b[1m0s\u001b[0m 4ms/step - loss: 0.0085 - mae: 0.0576 - mse: 0.0058 - val_loss: 0.0044 - val_mae: 0.0361 - val_mse: 0.0018 - learning_rate: 0.0010\n",
      "Epoch 79/150\n",
      "\u001b[1m51/56\u001b[0m \u001b[32m━━━━━━━━━━━━━━━━━━\u001b[0m\u001b[37m━━\u001b[0m \u001b[1m0s\u001b[0m 2ms/step - loss: 0.0078 - mae: 0.0557 - mse: 0.0053\n",
      "Epoch 79: val_loss improved from 0.00370 to 0.00329, saving model to best_efficiency_model.h5\n"
     ]
    },
    {
     "name": "stderr",
     "output_type": "stream",
     "text": [
      "WARNING:absl:You are saving your model as an HDF5 file via `model.save()` or `keras.saving.save_model(model)`. This file format is considered legacy. We recommend using instead the native Keras format, e.g. `model.save('my_model.keras')` or `keras.saving.save_model(model, 'my_model.keras')`. \n"
     ]
    },
    {
     "name": "stdout",
     "output_type": "stream",
     "text": [
      "\u001b[1m56/56\u001b[0m \u001b[32m━━━━━━━━━━━━━━━━━━━━\u001b[0m\u001b[37m\u001b[0m \u001b[1m0s\u001b[0m 5ms/step - loss: 0.0078 - mae: 0.0555 - mse: 0.0052 - val_loss: 0.0033 - val_mae: 0.0234 - val_mse: 8.4549e-04 - learning_rate: 0.0010\n",
      "Epoch 80/150\n",
      "\u001b[1m52/56\u001b[0m \u001b[32m━━━━━━━━━━━━━━━━━━\u001b[0m\u001b[37m━━\u001b[0m \u001b[1m0s\u001b[0m 2ms/step - loss: 0.0077 - mae: 0.0551 - mse: 0.0052\n",
      "Epoch 80: val_loss did not improve from 0.00329\n",
      "\u001b[1m56/56\u001b[0m \u001b[32m━━━━━━━━━━━━━━━━━━━━\u001b[0m\u001b[37m\u001b[0m \u001b[1m0s\u001b[0m 4ms/step - loss: 0.0076 - mae: 0.0549 - mse: 0.0052 - val_loss: 0.0043 - val_mae: 0.0374 - val_mse: 0.0020 - learning_rate: 0.0010\n",
      "Epoch 81/150\n",
      "\u001b[1m44/56\u001b[0m \u001b[32m━━━━━━━━━━━━━━━\u001b[0m\u001b[37m━━━━━\u001b[0m \u001b[1m0s\u001b[0m 2ms/step - loss: 0.0078 - mae: 0.0563 - mse: 0.0054\n",
      "Epoch 81: val_loss did not improve from 0.00329\n",
      "\u001b[1m56/56\u001b[0m \u001b[32m━━━━━━━━━━━━━━━━━━━━\u001b[0m\u001b[37m\u001b[0m \u001b[1m0s\u001b[0m 4ms/step - loss: 0.0078 - mae: 0.0562 - mse: 0.0054 - val_loss: 0.0038 - val_mae: 0.0309 - val_mse: 0.0016 - learning_rate: 0.0010\n",
      "Epoch 82/150\n",
      "\u001b[1m40/56\u001b[0m \u001b[32m━━━━━━━━━━━━━━\u001b[0m\u001b[37m━━━━━━\u001b[0m \u001b[1m0s\u001b[0m 3ms/step - loss: 0.0074 - mae: 0.0541 - mse: 0.0051\n",
      "Epoch 82: val_loss did not improve from 0.00329\n",
      "\u001b[1m56/56\u001b[0m \u001b[32m━━━━━━━━━━━━━━━━━━━━\u001b[0m\u001b[37m\u001b[0m \u001b[1m0s\u001b[0m 4ms/step - loss: 0.0074 - mae: 0.0543 - mse: 0.0052 - val_loss: 0.0039 - val_mae: 0.0347 - val_mse: 0.0018 - learning_rate: 0.0010\n",
      "Epoch 83/150\n",
      "\u001b[1m55/56\u001b[0m \u001b[32m━━━━━━━━━━━━━━━━━━━\u001b[0m\u001b[37m━\u001b[0m \u001b[1m0s\u001b[0m 2ms/step - loss: 0.0073 - mae: 0.0541 - mse: 0.0052\n",
      "Epoch 83: val_loss did not improve from 0.00329\n",
      "\u001b[1m56/56\u001b[0m \u001b[32m━━━━━━━━━━━━━━━━━━━━\u001b[0m\u001b[37m\u001b[0m \u001b[1m0s\u001b[0m 4ms/step - loss: 0.0073 - mae: 0.0540 - mse: 0.0051 - val_loss: 0.0040 - val_mae: 0.0366 - val_mse: 0.0019 - learning_rate: 0.0010\n",
      "Epoch 84/150\n",
      "\u001b[1m50/56\u001b[0m \u001b[32m━━━━━━━━━━━━━━━━━\u001b[0m\u001b[37m━━━\u001b[0m \u001b[1m0s\u001b[0m 2ms/step - loss: 0.0066 - mae: 0.0516 - mse: 0.0046\n",
      "Epoch 84: val_loss did not improve from 0.00329\n",
      "\u001b[1m56/56\u001b[0m \u001b[32m━━━━━━━━━━━━━━━━━━━━\u001b[0m\u001b[37m\u001b[0m \u001b[1m0s\u001b[0m 4ms/step - loss: 0.0067 - mae: 0.0516 - mse: 0.0046 - val_loss: 0.0036 - val_mae: 0.0355 - val_mse: 0.0017 - learning_rate: 0.0010\n",
      "Epoch 85/150\n",
      "\u001b[1m46/56\u001b[0m \u001b[32m━━━━━━━━━━━━━━━━\u001b[0m\u001b[37m━━━━\u001b[0m \u001b[1m0s\u001b[0m 2ms/step - loss: 0.0063 - mae: 0.0495 - mse: 0.0043\n",
      "Epoch 85: val_loss did not improve from 0.00329\n",
      "\u001b[1m56/56\u001b[0m \u001b[32m━━━━━━━━━━━━━━━━━━━━\u001b[0m\u001b[37m\u001b[0m \u001b[1m0s\u001b[0m 4ms/step - loss: 0.0063 - mae: 0.0500 - mse: 0.0044 - val_loss: 0.0033 - val_mae: 0.0289 - val_mse: 0.0014 - learning_rate: 0.0010\n",
      "Epoch 86/150\n",
      "\u001b[1m54/56\u001b[0m \u001b[32m━━━━━━━━━━━━━━━━━━━\u001b[0m\u001b[37m━\u001b[0m \u001b[1m0s\u001b[0m 2ms/step - loss: 0.0074 - mae: 0.0565 - mse: 0.0055\n",
      "Epoch 86: val_loss improved from 0.00329 to 0.00271, saving model to best_efficiency_model.h5\n"
     ]
    },
    {
     "name": "stderr",
     "output_type": "stream",
     "text": [
      "WARNING:absl:You are saving your model as an HDF5 file via `model.save()` or `keras.saving.save_model(model)`. This file format is considered legacy. We recommend using instead the native Keras format, e.g. `model.save('my_model.keras')` or `keras.saving.save_model(model, 'my_model.keras')`. \n"
     ]
    },
    {
     "name": "stdout",
     "output_type": "stream",
     "text": [
      "\u001b[1m56/56\u001b[0m \u001b[32m━━━━━━━━━━━━━━━━━━━━\u001b[0m\u001b[37m\u001b[0m \u001b[1m0s\u001b[0m 5ms/step - loss: 0.0074 - mae: 0.0564 - mse: 0.0055 - val_loss: 0.0027 - val_mae: 0.0235 - val_mse: 9.0746e-04 - learning_rate: 0.0010\n",
      "Epoch 87/150\n",
      "\u001b[1m46/56\u001b[0m \u001b[32m━━━━━━━━━━━━━━━━\u001b[0m\u001b[37m━━━━\u001b[0m \u001b[1m0s\u001b[0m 2ms/step - loss: 0.0069 - mae: 0.0547 - mse: 0.0051\n",
      "Epoch 87: val_loss did not improve from 0.00271\n",
      "\u001b[1m56/56\u001b[0m \u001b[32m━━━━━━━━━━━━━━━━━━━━\u001b[0m\u001b[37m\u001b[0m \u001b[1m0s\u001b[0m 4ms/step - loss: 0.0069 - mae: 0.0545 - mse: 0.0051 - val_loss: 0.0029 - val_mae: 0.0297 - val_mse: 0.0012 - learning_rate: 0.0010\n",
      "Epoch 88/150\n",
      "\u001b[1m43/56\u001b[0m \u001b[32m━━━━━━━━━━━━━━━\u001b[0m\u001b[37m━━━━━\u001b[0m \u001b[1m0s\u001b[0m 2ms/step - loss: 0.0064 - mae: 0.0516 - mse: 0.0047\n",
      "Epoch 88: val_loss improved from 0.00271 to 0.00228, saving model to best_efficiency_model.h5\n"
     ]
    },
    {
     "name": "stderr",
     "output_type": "stream",
     "text": [
      "WARNING:absl:You are saving your model as an HDF5 file via `model.save()` or `keras.saving.save_model(model)`. This file format is considered legacy. We recommend using instead the native Keras format, e.g. `model.save('my_model.keras')` or `keras.saving.save_model(model, 'my_model.keras')`. \n"
     ]
    },
    {
     "name": "stdout",
     "output_type": "stream",
     "text": [
      "\u001b[1m56/56\u001b[0m \u001b[32m━━━━━━━━━━━━━━━━━━━━\u001b[0m\u001b[37m\u001b[0m \u001b[1m0s\u001b[0m 6ms/step - loss: 0.0064 - mae: 0.0519 - mse: 0.0047 - val_loss: 0.0023 - val_mae: 0.0200 - val_mse: 6.3503e-04 - learning_rate: 0.0010\n",
      "Epoch 89/150\n",
      "\u001b[1m45/56\u001b[0m \u001b[32m━━━━━━━━━━━━━━━━\u001b[0m\u001b[37m━━━━\u001b[0m \u001b[1m0s\u001b[0m 2ms/step - loss: 0.0061 - mae: 0.0508 - mse: 0.0045\n",
      "Epoch 89: val_loss did not improve from 0.00228\n",
      "\u001b[1m56/56\u001b[0m \u001b[32m━━━━━━━━━━━━━━━━━━━━\u001b[0m\u001b[37m\u001b[0m \u001b[1m0s\u001b[0m 4ms/step - loss: 0.0061 - mae: 0.0508 - mse: 0.0045 - val_loss: 0.0031 - val_mae: 0.0336 - val_mse: 0.0015 - learning_rate: 0.0010\n",
      "Epoch 90/150\n",
      "\u001b[1m41/56\u001b[0m \u001b[32m━━━━━━━━━━━━━━\u001b[0m\u001b[37m━━━━━━\u001b[0m \u001b[1m0s\u001b[0m 3ms/step - loss: 0.0063 - mae: 0.0523 - mse: 0.0047\n",
      "Epoch 90: val_loss did not improve from 0.00228\n",
      "\u001b[1m56/56\u001b[0m \u001b[32m━━━━━━━━━━━━━━━━━━━━\u001b[0m\u001b[37m\u001b[0m \u001b[1m0s\u001b[0m 4ms/step - loss: 0.0063 - mae: 0.0524 - mse: 0.0048 - val_loss: 0.0032 - val_mae: 0.0354 - val_mse: 0.0017 - learning_rate: 0.0010\n",
      "Epoch 91/150\n",
      "\u001b[1m47/56\u001b[0m \u001b[32m━━━━━━━━━━━━━━━━\u001b[0m\u001b[37m━━━━\u001b[0m \u001b[1m0s\u001b[0m 2ms/step - loss: 0.0060 - mae: 0.0509 - mse: 0.0045\n",
      "Epoch 91: val_loss did not improve from 0.00228\n",
      "\u001b[1m56/56\u001b[0m \u001b[32m━━━━━━━━━━━━━━━━━━━━\u001b[0m\u001b[37m\u001b[0m \u001b[1m0s\u001b[0m 4ms/step - loss: 0.0060 - mae: 0.0509 - mse: 0.0045 - val_loss: 0.0037 - val_mae: 0.0416 - val_mse: 0.0023 - learning_rate: 0.0010\n",
      "Epoch 92/150\n",
      "\u001b[1m44/56\u001b[0m \u001b[32m━━━━━━━━━━━━━━━\u001b[0m\u001b[37m━━━━━\u001b[0m \u001b[1m0s\u001b[0m 2ms/step - loss: 0.0063 - mae: 0.0520 - mse: 0.0049\n",
      "Epoch 92: val_loss did not improve from 0.00228\n",
      "\u001b[1m56/56\u001b[0m \u001b[32m━━━━━━━━━━━━━━━━━━━━\u001b[0m\u001b[37m\u001b[0m \u001b[1m0s\u001b[0m 4ms/step - loss: 0.0063 - mae: 0.0519 - mse: 0.0048 - val_loss: 0.0030 - val_mae: 0.0349 - val_mse: 0.0016 - learning_rate: 0.0010\n",
      "Epoch 93/150\n",
      "\u001b[1m45/56\u001b[0m \u001b[32m━━━━━━━━━━━━━━━━\u001b[0m\u001b[37m━━━━\u001b[0m \u001b[1m0s\u001b[0m 2ms/step - loss: 0.0055 - mae: 0.0487 - mse: 0.0041\n",
      "Epoch 93: val_loss did not improve from 0.00228\n",
      "\u001b[1m56/56\u001b[0m \u001b[32m━━━━━━━━━━━━━━━━━━━━\u001b[0m\u001b[37m\u001b[0m \u001b[1m0s\u001b[0m 4ms/step - loss: 0.0055 - mae: 0.0487 - mse: 0.0041 - val_loss: 0.0024 - val_mae: 0.0269 - val_mse: 0.0011 - learning_rate: 0.0010\n",
      "Epoch 94/150\n",
      "\u001b[1m48/56\u001b[0m \u001b[32m━━━━━━━━━━━━━━━━━\u001b[0m\u001b[37m━━━\u001b[0m \u001b[1m0s\u001b[0m 2ms/step - loss: 0.0060 - mae: 0.0521 - mse: 0.0047\n",
      "Epoch 94: val_loss did not improve from 0.00228\n",
      "\u001b[1m56/56\u001b[0m \u001b[32m━━━━━━━━━━━━━━━━━━━━\u001b[0m\u001b[37m\u001b[0m \u001b[1m0s\u001b[0m 4ms/step - loss: 0.0059 - mae: 0.0520 - mse: 0.0047 - val_loss: 0.0023 - val_mae: 0.0266 - val_mse: 0.0011 - learning_rate: 0.0010\n",
      "Epoch 95/150\n",
      "\u001b[1m40/56\u001b[0m \u001b[32m━━━━━━━━━━━━━━\u001b[0m\u001b[37m━━━━━━\u001b[0m \u001b[1m0s\u001b[0m 3ms/step - loss: 0.0056 - mae: 0.0497 - mse: 0.0043\n",
      "Epoch 95: val_loss improved from 0.00228 to 0.00170, saving model to best_efficiency_model.h5\n"
     ]
    },
    {
     "name": "stderr",
     "output_type": "stream",
     "text": [
      "WARNING:absl:You are saving your model as an HDF5 file via `model.save()` or `keras.saving.save_model(model)`. This file format is considered legacy. We recommend using instead the native Keras format, e.g. `model.save('my_model.keras')` or `keras.saving.save_model(model, 'my_model.keras')`. \n"
     ]
    },
    {
     "name": "stdout",
     "output_type": "stream",
     "text": [
      "\u001b[1m56/56\u001b[0m \u001b[32m━━━━━━━━━━━━━━━━━━━━\u001b[0m\u001b[37m\u001b[0m \u001b[1m0s\u001b[0m 6ms/step - loss: 0.0056 - mae: 0.0501 - mse: 0.0044 - val_loss: 0.0017 - val_mae: 0.0164 - val_mse: 4.9805e-04 - learning_rate: 0.0010\n",
      "Epoch 96/150\n",
      "\u001b[1m42/56\u001b[0m \u001b[32m━━━━━━━━━━━━━━━\u001b[0m\u001b[37m━━━━━\u001b[0m \u001b[1m0s\u001b[0m 3ms/step - loss: 0.0060 - mae: 0.0520 - mse: 0.0048\n",
      "Epoch 96: val_loss did not improve from 0.00170\n",
      "\u001b[1m56/56\u001b[0m \u001b[32m━━━━━━━━━━━━━━━━━━━━\u001b[0m\u001b[37m\u001b[0m \u001b[1m0s\u001b[0m 4ms/step - loss: 0.0060 - mae: 0.0520 - mse: 0.0048 - val_loss: 0.0024 - val_mae: 0.0293 - val_mse: 0.0012 - learning_rate: 0.0010\n",
      "Epoch 97/150\n",
      "\u001b[1m45/56\u001b[0m \u001b[32m━━━━━━━━━━━━━━━━\u001b[0m\u001b[37m━━━━\u001b[0m \u001b[1m0s\u001b[0m 2ms/step - loss: 0.0056 - mae: 0.0502 - mse: 0.0045\n",
      "Epoch 97: val_loss did not improve from 0.00170\n",
      "\u001b[1m56/56\u001b[0m \u001b[32m━━━━━━━━━━━━━━━━━━━━\u001b[0m\u001b[37m\u001b[0m \u001b[1m0s\u001b[0m 4ms/step - loss: 0.0056 - mae: 0.0501 - mse: 0.0044 - val_loss: 0.0021 - val_mae: 0.0251 - val_mse: 0.0010 - learning_rate: 0.0010\n",
      "Epoch 98/150\n",
      "\u001b[1m42/56\u001b[0m \u001b[32m━━━━━━━━━━━━━━━\u001b[0m\u001b[37m━━━━━\u001b[0m \u001b[1m0s\u001b[0m 2ms/step - loss: 0.0056 - mae: 0.0502 - mse: 0.0045\n",
      "Epoch 98: val_loss did not improve from 0.00170\n",
      "\u001b[1m56/56\u001b[0m \u001b[32m━━━━━━━━━━━━━━━━━━━━\u001b[0m\u001b[37m\u001b[0m \u001b[1m0s\u001b[0m 4ms/step - loss: 0.0056 - mae: 0.0503 - mse: 0.0045 - val_loss: 0.0018 - val_mae: 0.0205 - val_mse: 7.2388e-04 - learning_rate: 0.0010\n",
      "Epoch 99/150\n",
      "\u001b[1m45/56\u001b[0m \u001b[32m━━━━━━━━━━━━━━━━\u001b[0m\u001b[37m━━━━\u001b[0m \u001b[1m0s\u001b[0m 2ms/step - loss: 0.0052 - mae: 0.0486 - mse: 0.0042\n",
      "Epoch 99: val_loss did not improve from 0.00170\n",
      "\u001b[1m56/56\u001b[0m \u001b[32m━━━━━━━━━━━━━━━━━━━━\u001b[0m\u001b[37m\u001b[0m \u001b[1m0s\u001b[0m 4ms/step - loss: 0.0052 - mae: 0.0487 - mse: 0.0042 - val_loss: 0.0022 - val_mae: 0.0289 - val_mse: 0.0012 - learning_rate: 0.0010\n",
      "Epoch 100/150\n",
      "\u001b[1m44/56\u001b[0m \u001b[32m━━━━━━━━━━━━━━━\u001b[0m\u001b[37m━━━━━\u001b[0m \u001b[1m0s\u001b[0m 2ms/step - loss: 0.0050 - mae: 0.0482 - mse: 0.0040\n",
      "Epoch 100: val_loss did not improve from 0.00170\n",
      "\u001b[1m56/56\u001b[0m \u001b[32m━━━━━━━━━━━━━━━━━━━━\u001b[0m\u001b[37m\u001b[0m \u001b[1m0s\u001b[0m 4ms/step - loss: 0.0051 - mae: 0.0484 - mse: 0.0041 - val_loss: 0.0030 - val_mae: 0.0377 - val_mse: 0.0020 - learning_rate: 0.0010\n",
      "Epoch 101/150\n",
      "\u001b[1m41/56\u001b[0m \u001b[32m━━━━━━━━━━━━━━\u001b[0m\u001b[37m━━━━━━\u001b[0m \u001b[1m0s\u001b[0m 3ms/step - loss: 0.0052 - mae: 0.0498 - mse: 0.0043 \n",
      "Epoch 101: val_loss did not improve from 0.00170\n",
      "\u001b[1m56/56\u001b[0m \u001b[32m━━━━━━━━━━━━━━━━━━━━\u001b[0m\u001b[37m\u001b[0m \u001b[1m0s\u001b[0m 4ms/step - loss: 0.0053 - mae: 0.0502 - mse: 0.0043 - val_loss: 0.0028 - val_mae: 0.0322 - val_mse: 0.0018 - learning_rate: 0.0010\n",
      "Epoch 102/150\n",
      "\u001b[1m42/56\u001b[0m \u001b[32m━━━━━━━━━━━━━━━\u001b[0m\u001b[37m━━━━━\u001b[0m \u001b[1m0s\u001b[0m 3ms/step - loss: 0.0052 - mae: 0.0494 - mse: 0.0043\n",
      "Epoch 102: val_loss improved from 0.00170 to 0.00165, saving model to best_efficiency_model.h5\n"
     ]
    },
    {
     "name": "stderr",
     "output_type": "stream",
     "text": [
      "WARNING:absl:You are saving your model as an HDF5 file via `model.save()` or `keras.saving.save_model(model)`. This file format is considered legacy. We recommend using instead the native Keras format, e.g. `model.save('my_model.keras')` or `keras.saving.save_model(model, 'my_model.keras')`. \n"
     ]
    },
    {
     "name": "stdout",
     "output_type": "stream",
     "text": [
      "\n",
      "Epoch 102: ReduceLROnPlateau reducing learning rate to 0.0005000000237487257.\n",
      "\u001b[1m56/56\u001b[0m \u001b[32m━━━━━━━━━━━━━━━━━━━━\u001b[0m\u001b[37m\u001b[0m \u001b[1m0s\u001b[0m 6ms/step - loss: 0.0052 - mae: 0.0493 - mse: 0.0043 - val_loss: 0.0016 - val_mae: 0.0217 - val_mse: 7.5317e-04 - learning_rate: 0.0010\n",
      "Epoch 103/150\n",
      "\u001b[1m46/56\u001b[0m \u001b[32m━━━━━━━━━━━━━━━━\u001b[0m\u001b[37m━━━━\u001b[0m \u001b[1m0s\u001b[0m 2ms/step - loss: 0.0054 - mae: 0.0504 - mse: 0.0045\n",
      "Epoch 103: val_loss did not improve from 0.00165\n",
      "\u001b[1m56/56\u001b[0m \u001b[32m━━━━━━━━━━━━━━━━━━━━\u001b[0m\u001b[37m\u001b[0m \u001b[1m0s\u001b[0m 4ms/step - loss: 0.0053 - mae: 0.0503 - mse: 0.0045 - val_loss: 0.0022 - val_mae: 0.0317 - val_mse: 0.0013 - learning_rate: 5.0000e-04\n",
      "Epoch 104/150\n",
      "\u001b[1m52/56\u001b[0m \u001b[32m━━━━━━━━━━━━━━━━━━\u001b[0m\u001b[37m━━\u001b[0m \u001b[1m0s\u001b[0m 3ms/step - loss: 0.0050 - mae: 0.0486 - mse: 0.0041\n",
      "Epoch 104: val_loss did not improve from 0.00165\n",
      "\u001b[1m56/56\u001b[0m \u001b[32m━━━━━━━━━━━━━━━━━━━━\u001b[0m\u001b[37m\u001b[0m \u001b[1m0s\u001b[0m 4ms/step - loss: 0.0050 - mae: 0.0486 - mse: 0.0041 - val_loss: 0.0022 - val_mae: 0.0314 - val_mse: 0.0013 - learning_rate: 5.0000e-04\n",
      "Epoch 105/150\n",
      "\u001b[1m43/56\u001b[0m \u001b[32m━━━━━━━━━━━━━━━\u001b[0m\u001b[37m━━━━━\u001b[0m \u001b[1m0s\u001b[0m 2ms/step - loss: 0.0047 - mae: 0.0468 - mse: 0.0039\n",
      "Epoch 105: val_loss improved from 0.00165 to 0.00155, saving model to best_efficiency_model.h5\n"
     ]
    },
    {
     "name": "stderr",
     "output_type": "stream",
     "text": [
      "WARNING:absl:You are saving your model as an HDF5 file via `model.save()` or `keras.saving.save_model(model)`. This file format is considered legacy. We recommend using instead the native Keras format, e.g. `model.save('my_model.keras')` or `keras.saving.save_model(model, 'my_model.keras')`. \n"
     ]
    },
    {
     "name": "stdout",
     "output_type": "stream",
     "text": [
      "\u001b[1m56/56\u001b[0m \u001b[32m━━━━━━━━━━━━━━━━━━━━\u001b[0m\u001b[37m\u001b[0m \u001b[1m0s\u001b[0m 6ms/step - loss: 0.0047 - mae: 0.0470 - mse: 0.0039 - val_loss: 0.0016 - val_mae: 0.0228 - val_mse: 7.5256e-04 - learning_rate: 5.0000e-04\n",
      "Epoch 106/150\n",
      "\u001b[1m43/56\u001b[0m \u001b[32m━━━━━━━━━━━━━━━\u001b[0m\u001b[37m━━━━━\u001b[0m \u001b[1m0s\u001b[0m 2ms/step - loss: 0.0050 - mae: 0.0490 - mse: 0.0042\n",
      "Epoch 106: val_loss did not improve from 0.00155\n",
      "\u001b[1m56/56\u001b[0m \u001b[32m━━━━━━━━━━━━━━━━━━━━\u001b[0m\u001b[37m\u001b[0m \u001b[1m0s\u001b[0m 4ms/step - loss: 0.0049 - mae: 0.0489 - mse: 0.0042 - val_loss: 0.0017 - val_mae: 0.0245 - val_mse: 9.1355e-04 - learning_rate: 5.0000e-04\n",
      "Epoch 107/150\n",
      "\u001b[1m39/56\u001b[0m \u001b[32m━━━━━━━━━━━━━\u001b[0m\u001b[37m━━━━━━━\u001b[0m \u001b[1m0s\u001b[0m 3ms/step - loss: 0.0053 - mae: 0.0508 - mse: 0.0045\n",
      "Epoch 107: val_loss did not improve from 0.00155\n",
      "\u001b[1m56/56\u001b[0m \u001b[32m━━━━━━━━━━━━━━━━━━━━\u001b[0m\u001b[37m\u001b[0m \u001b[1m0s\u001b[0m 4ms/step - loss: 0.0053 - mae: 0.0507 - mse: 0.0045 - val_loss: 0.0022 - val_mae: 0.0330 - val_mse: 0.0015 - learning_rate: 5.0000e-04\n",
      "Epoch 108/150\n",
      "\u001b[1m51/56\u001b[0m \u001b[32m━━━━━━━━━━━━━━━━━━\u001b[0m\u001b[37m━━\u001b[0m \u001b[1m0s\u001b[0m 2ms/step - loss: 0.0046 - mae: 0.0472 - mse: 0.0038\n",
      "Epoch 108: val_loss did not improve from 0.00155\n",
      "\u001b[1m56/56\u001b[0m \u001b[32m━━━━━━━━━━━━━━━━━━━━\u001b[0m\u001b[37m\u001b[0m \u001b[1m0s\u001b[0m 4ms/step - loss: 0.0046 - mae: 0.0473 - mse: 0.0039 - val_loss: 0.0018 - val_mae: 0.0284 - val_mse: 0.0011 - learning_rate: 5.0000e-04\n",
      "Epoch 109/150\n",
      "\u001b[1m41/56\u001b[0m \u001b[32m━━━━━━━━━━━━━━\u001b[0m\u001b[37m━━━━━━\u001b[0m \u001b[1m0s\u001b[0m 3ms/step - loss: 0.0047 - mae: 0.0465 - mse: 0.0040\n",
      "Epoch 109: val_loss did not improve from 0.00155\n",
      "\u001b[1m56/56\u001b[0m \u001b[32m━━━━━━━━━━━━━━━━━━━━\u001b[0m\u001b[37m\u001b[0m \u001b[1m0s\u001b[0m 4ms/step - loss: 0.0047 - mae: 0.0468 - mse: 0.0040 - val_loss: 0.0025 - val_mae: 0.0363 - val_mse: 0.0018 - learning_rate: 5.0000e-04\n",
      "Epoch 110/150\n",
      "\u001b[1m47/56\u001b[0m \u001b[32m━━━━━━━━━━━━━━━━\u001b[0m\u001b[37m━━━━\u001b[0m \u001b[1m0s\u001b[0m 2ms/step - loss: 0.0049 - mae: 0.0487 - mse: 0.0042\n",
      "Epoch 110: val_loss improved from 0.00155 to 0.00124, saving model to best_efficiency_model.h5\n"
     ]
    },
    {
     "name": "stderr",
     "output_type": "stream",
     "text": [
      "WARNING:absl:You are saving your model as an HDF5 file via `model.save()` or `keras.saving.save_model(model)`. This file format is considered legacy. We recommend using instead the native Keras format, e.g. `model.save('my_model.keras')` or `keras.saving.save_model(model, 'my_model.keras')`. \n"
     ]
    },
    {
     "name": "stdout",
     "output_type": "stream",
     "text": [
      "\u001b[1m56/56\u001b[0m \u001b[32m━━━━━━━━━━━━━━━━━━━━\u001b[0m\u001b[37m\u001b[0m \u001b[1m0s\u001b[0m 6ms/step - loss: 0.0049 - mae: 0.0487 - mse: 0.0041 - val_loss: 0.0012 - val_mae: 0.0180 - val_mse: 5.2996e-04 - learning_rate: 5.0000e-04\n",
      "Epoch 111/150\n",
      "\u001b[1m44/56\u001b[0m \u001b[32m━━━━━━━━━━━━━━━\u001b[0m\u001b[37m━━━━━\u001b[0m \u001b[1m0s\u001b[0m 2ms/step - loss: 0.0047 - mae: 0.0479 - mse: 0.0040\n",
      "Epoch 111: val_loss did not improve from 0.00124\n",
      "\u001b[1m56/56\u001b[0m \u001b[32m━━━━━━━━━━━━━━━━━━━━\u001b[0m\u001b[37m\u001b[0m \u001b[1m0s\u001b[0m 4ms/step - loss: 0.0046 - mae: 0.0477 - mse: 0.0039 - val_loss: 0.0014 - val_mae: 0.0225 - val_mse: 7.3953e-04 - learning_rate: 5.0000e-04\n",
      "Epoch 112/150\n",
      "\u001b[1m43/56\u001b[0m \u001b[32m━━━━━━━━━━━━━━━\u001b[0m\u001b[37m━━━━━\u001b[0m \u001b[1m0s\u001b[0m 2ms/step - loss: 0.0047 - mae: 0.0475 - mse: 0.0040\n",
      "Epoch 112: val_loss did not improve from 0.00124\n",
      "\u001b[1m56/56\u001b[0m \u001b[32m━━━━━━━━━━━━━━━━━━━━\u001b[0m\u001b[37m\u001b[0m \u001b[1m0s\u001b[0m 4ms/step - loss: 0.0046 - mae: 0.0475 - mse: 0.0040 - val_loss: 0.0013 - val_mae: 0.0211 - val_mse: 6.6374e-04 - learning_rate: 5.0000e-04\n",
      "Epoch 113/150\n",
      "\u001b[1m54/56\u001b[0m \u001b[32m━━━━━━━━━━━━━━━━━━━\u001b[0m\u001b[37m━\u001b[0m \u001b[1m0s\u001b[0m 2ms/step - loss: 0.0047 - mae: 0.0475 - mse: 0.0040\n",
      "Epoch 113: val_loss did not improve from 0.00124\n",
      "\u001b[1m56/56\u001b[0m \u001b[32m━━━━━━━━━━━━━━━━━━━━\u001b[0m\u001b[37m\u001b[0m \u001b[1m0s\u001b[0m 4ms/step - loss: 0.0047 - mae: 0.0475 - mse: 0.0040 - val_loss: 0.0014 - val_mae: 0.0230 - val_mse: 7.5629e-04 - learning_rate: 5.0000e-04\n",
      "Epoch 114/150\n",
      "\u001b[1m51/56\u001b[0m \u001b[32m━━━━━━━━━━━━━━━━━━\u001b[0m\u001b[37m━━\u001b[0m \u001b[1m0s\u001b[0m 2ms/step - loss: 0.0048 - mae: 0.0490 - mse: 0.0042\n",
      "Epoch 114: val_loss did not improve from 0.00124\n",
      "\u001b[1m56/56\u001b[0m \u001b[32m━━━━━━━━━━━━━━━━━━━━\u001b[0m\u001b[37m\u001b[0m \u001b[1m0s\u001b[0m 4ms/step - loss: 0.0048 - mae: 0.0491 - mse: 0.0042 - val_loss: 0.0021 - val_mae: 0.0311 - val_mse: 0.0014 - learning_rate: 5.0000e-04\n",
      "Epoch 115/150\n",
      "\u001b[1m49/56\u001b[0m \u001b[32m━━━━━━━━━━━━━━━━━\u001b[0m\u001b[37m━━━\u001b[0m \u001b[1m0s\u001b[0m 2ms/step - loss: 0.0045 - mae: 0.0464 - mse: 0.0038\n",
      "Epoch 115: val_loss improved from 0.00124 to 0.00111, saving model to best_efficiency_model.h5\n"
     ]
    },
    {
     "name": "stderr",
     "output_type": "stream",
     "text": [
      "WARNING:absl:You are saving your model as an HDF5 file via `model.save()` or `keras.saving.save_model(model)`. This file format is considered legacy. We recommend using instead the native Keras format, e.g. `model.save('my_model.keras')` or `keras.saving.save_model(model, 'my_model.keras')`. \n"
     ]
    },
    {
     "name": "stdout",
     "output_type": "stream",
     "text": [
      "\u001b[1m56/56\u001b[0m \u001b[32m━━━━━━━━━━━━━━━━━━━━\u001b[0m\u001b[37m\u001b[0m \u001b[1m0s\u001b[0m 6ms/step - loss: 0.0045 - mae: 0.0464 - mse: 0.0038 - val_loss: 0.0011 - val_mae: 0.0174 - val_mse: 4.8794e-04 - learning_rate: 5.0000e-04\n",
      "Epoch 116/150\n",
      "\u001b[1m40/56\u001b[0m \u001b[32m━━━━━━━━━━━━━━\u001b[0m\u001b[37m━━━━━━\u001b[0m \u001b[1m0s\u001b[0m 3ms/step - loss: 0.0047 - mae: 0.0477 - mse: 0.0041\n",
      "Epoch 116: val_loss did not improve from 0.00111\n",
      "\u001b[1m56/56\u001b[0m \u001b[32m━━━━━━━━━━━━━━━━━━━━\u001b[0m\u001b[37m\u001b[0m \u001b[1m0s\u001b[0m 4ms/step - loss: 0.0047 - mae: 0.0478 - mse: 0.0041 - val_loss: 0.0013 - val_mae: 0.0200 - val_mse: 6.6328e-04 - learning_rate: 5.0000e-04\n",
      "Epoch 117/150\n",
      "\u001b[1m44/56\u001b[0m \u001b[32m━━━━━━━━━━━━━━━\u001b[0m\u001b[37m━━━━━\u001b[0m \u001b[1m0s\u001b[0m 2ms/step - loss: 0.0047 - mae: 0.0487 - mse: 0.0041\n",
      "Epoch 117: val_loss did not improve from 0.00111\n",
      "\u001b[1m56/56\u001b[0m \u001b[32m━━━━━━━━━━━━━━━━━━━━\u001b[0m\u001b[37m\u001b[0m \u001b[1m0s\u001b[0m 4ms/step - loss: 0.0046 - mae: 0.0484 - mse: 0.0040 - val_loss: 0.0011 - val_mae: 0.0183 - val_mse: 5.4774e-04 - learning_rate: 5.0000e-04\n",
      "Epoch 118/150\n",
      "\u001b[1m53/56\u001b[0m \u001b[32m━━━━━━━━━━━━━━━━━━\u001b[0m\u001b[37m━━\u001b[0m \u001b[1m0s\u001b[0m 3ms/step - loss: 0.0045 - mae: 0.0472 - mse: 0.0039\n",
      "Epoch 118: val_loss did not improve from 0.00111\n",
      "\u001b[1m56/56\u001b[0m \u001b[32m━━━━━━━━━━━━━━━━━━━━\u001b[0m\u001b[37m\u001b[0m \u001b[1m0s\u001b[0m 5ms/step - loss: 0.0045 - mae: 0.0472 - mse: 0.0039 - val_loss: 0.0016 - val_mae: 0.0246 - val_mse: 0.0010 - learning_rate: 5.0000e-04\n",
      "Epoch 119/150\n",
      "\u001b[1m44/56\u001b[0m \u001b[32m━━━━━━━━━━━━━━━\u001b[0m\u001b[37m━━━━━\u001b[0m \u001b[1m0s\u001b[0m 2ms/step - loss: 0.0045 - mae: 0.0470 - mse: 0.0039\n",
      "Epoch 119: val_loss did not improve from 0.00111\n",
      "\u001b[1m56/56\u001b[0m \u001b[32m━━━━━━━━━━━━━━━━━━━━\u001b[0m\u001b[37m\u001b[0m \u001b[1m0s\u001b[0m 4ms/step - loss: 0.0046 - mae: 0.0473 - mse: 0.0040 - val_loss: 0.0017 - val_mae: 0.0264 - val_mse: 0.0011 - learning_rate: 5.0000e-04\n",
      "Epoch 120/150\n",
      "\u001b[1m48/56\u001b[0m \u001b[32m━━━━━━━━━━━━━━━━━\u001b[0m\u001b[37m━━━\u001b[0m \u001b[1m0s\u001b[0m 2ms/step - loss: 0.0040 - mae: 0.0444 - mse: 0.0035\n",
      "Epoch 120: val_loss improved from 0.00111 to 0.00110, saving model to best_efficiency_model.h5\n"
     ]
    },
    {
     "name": "stderr",
     "output_type": "stream",
     "text": [
      "WARNING:absl:You are saving your model as an HDF5 file via `model.save()` or `keras.saving.save_model(model)`. This file format is considered legacy. We recommend using instead the native Keras format, e.g. `model.save('my_model.keras')` or `keras.saving.save_model(model, 'my_model.keras')`. \n"
     ]
    },
    {
     "name": "stdout",
     "output_type": "stream",
     "text": [
      "\u001b[1m56/56\u001b[0m \u001b[32m━━━━━━━━━━━━━━━━━━━━\u001b[0m\u001b[37m\u001b[0m \u001b[1m0s\u001b[0m 6ms/step - loss: 0.0040 - mae: 0.0446 - mse: 0.0035 - val_loss: 0.0011 - val_mae: 0.0189 - val_mse: 5.5177e-04 - learning_rate: 5.0000e-04\n",
      "Epoch 121/150\n",
      "\u001b[1m48/56\u001b[0m \u001b[32m━━━━━━━━━━━━━━━━━\u001b[0m\u001b[37m━━━\u001b[0m \u001b[1m0s\u001b[0m 2ms/step - loss: 0.0045 - mae: 0.0479 - mse: 0.0040\n",
      "Epoch 121: val_loss did not improve from 0.00110\n",
      "\u001b[1m56/56\u001b[0m \u001b[32m━━━━━━━━━━━━━━━━━━━━\u001b[0m\u001b[37m\u001b[0m \u001b[1m0s\u001b[0m 4ms/step - loss: 0.0045 - mae: 0.0479 - mse: 0.0040 - val_loss: 0.0013 - val_mae: 0.0240 - val_mse: 8.1185e-04 - learning_rate: 5.0000e-04\n",
      "Epoch 122/150\n",
      "\u001b[1m49/56\u001b[0m \u001b[32m━━━━━━━━━━━━━━━━━\u001b[0m\u001b[37m━━━\u001b[0m \u001b[1m0s\u001b[0m 2ms/step - loss: 0.0044 - mae: 0.0472 - mse: 0.0039\n",
      "Epoch 122: val_loss did not improve from 0.00110\n",
      "\n",
      "Epoch 122: ReduceLROnPlateau reducing learning rate to 0.0002500000118743628.\n",
      "\u001b[1m56/56\u001b[0m \u001b[32m━━━━━━━━━━━━━━━━━━━━\u001b[0m\u001b[37m\u001b[0m \u001b[1m0s\u001b[0m 4ms/step - loss: 0.0044 - mae: 0.0471 - mse: 0.0039 - val_loss: 0.0014 - val_mae: 0.0241 - val_mse: 8.3812e-04 - learning_rate: 5.0000e-04\n",
      "Epoch 123/150\n",
      "\u001b[1m45/56\u001b[0m \u001b[32m━━━━━━━━━━━━━━━━\u001b[0m\u001b[37m━━━━\u001b[0m \u001b[1m0s\u001b[0m 3ms/step - loss: 0.0042 - mae: 0.0462 - mse: 0.0037\n",
      "Epoch 123: val_loss did not improve from 0.00110\n",
      "\u001b[1m56/56\u001b[0m \u001b[32m━━━━━━━━━━━━━━━━━━━━\u001b[0m\u001b[37m\u001b[0m \u001b[1m0s\u001b[0m 4ms/step - loss: 0.0042 - mae: 0.0464 - mse: 0.0037 - val_loss: 0.0013 - val_mae: 0.0236 - val_mse: 7.9761e-04 - learning_rate: 2.5000e-04\n",
      "Epoch 124/150\n",
      "\u001b[1m52/56\u001b[0m \u001b[32m━━━━━━━━━━━━━━━━━━\u001b[0m\u001b[37m━━\u001b[0m \u001b[1m0s\u001b[0m 2ms/step - loss: 0.0045 - mae: 0.0468 - mse: 0.0040\n",
      "Epoch 124: val_loss did not improve from 0.00110\n",
      "\u001b[1m56/56\u001b[0m \u001b[32m━━━━━━━━━━━━━━━━━━━━\u001b[0m\u001b[37m\u001b[0m \u001b[1m0s\u001b[0m 4ms/step - loss: 0.0045 - mae: 0.0467 - mse: 0.0040 - val_loss: 0.0015 - val_mae: 0.0264 - val_mse: 9.9725e-04 - learning_rate: 2.5000e-04\n",
      "Epoch 125/150\n",
      "\u001b[1m47/56\u001b[0m \u001b[32m━━━━━━━━━━━━━━━━\u001b[0m\u001b[37m━━━━\u001b[0m \u001b[1m0s\u001b[0m 2ms/step - loss: 0.0042 - mae: 0.0467 - mse: 0.0037\n",
      "Epoch 125: val_loss did not improve from 0.00110\n",
      "\u001b[1m56/56\u001b[0m \u001b[32m━━━━━━━━━━━━━━━━━━━━\u001b[0m\u001b[37m\u001b[0m \u001b[1m0s\u001b[0m 4ms/step - loss: 0.0042 - mae: 0.0465 - mse: 0.0037 - val_loss: 0.0014 - val_mae: 0.0235 - val_mse: 9.5054e-04 - learning_rate: 2.5000e-04\n",
      "Epoch 126/150\n",
      "\u001b[1m25/56\u001b[0m \u001b[32m━━━━━━━━\u001b[0m\u001b[37m━━━━━━━━━━━━\u001b[0m \u001b[1m0s\u001b[0m 2ms/step - loss: 0.0041 - mae: 0.0454 - mse: 0.0036 \n",
      "Epoch 126: val_loss did not improve from 0.00110\n",
      "\u001b[1m56/56\u001b[0m \u001b[32m━━━━━━━━━━━━━━━━━━━━\u001b[0m\u001b[37m\u001b[0m \u001b[1m0s\u001b[0m 3ms/step - loss: 0.0041 - mae: 0.0461 - mse: 0.0037 - val_loss: 0.0017 - val_mae: 0.0279 - val_mse: 0.0012 - learning_rate: 2.5000e-04\n",
      "Epoch 127/150\n",
      "\u001b[1m49/56\u001b[0m \u001b[32m━━━━━━━━━━━━━━━━━\u001b[0m\u001b[37m━━━\u001b[0m \u001b[1m0s\u001b[0m 2ms/step - loss: 0.0041 - mae: 0.0457 - mse: 0.0037\n",
      "Epoch 127: val_loss did not improve from 0.00110\n",
      "\u001b[1m56/56\u001b[0m \u001b[32m━━━━━━━━━━━━━━━━━━━━\u001b[0m\u001b[37m\u001b[0m \u001b[1m0s\u001b[0m 4ms/step - loss: 0.0041 - mae: 0.0457 - mse: 0.0037 - val_loss: 0.0016 - val_mae: 0.0286 - val_mse: 0.0011 - learning_rate: 2.5000e-04\n",
      "Epoch 128/150\n",
      "\u001b[1m48/56\u001b[0m \u001b[32m━━━━━━━━━━━━━━━━━\u001b[0m\u001b[37m━━━\u001b[0m \u001b[1m0s\u001b[0m 2ms/step - loss: 0.0040 - mae: 0.0449 - mse: 0.0036\n",
      "Epoch 128: val_loss did not improve from 0.00110\n",
      "\u001b[1m56/56\u001b[0m \u001b[32m━━━━━━━━━━━━━━━━━━━━\u001b[0m\u001b[37m\u001b[0m \u001b[1m0s\u001b[0m 4ms/step - loss: 0.0040 - mae: 0.0449 - mse: 0.0036 - val_loss: 0.0013 - val_mae: 0.0228 - val_mse: 8.1603e-04 - learning_rate: 2.5000e-04\n",
      "Epoch 129/150\n",
      "\u001b[1m48/56\u001b[0m \u001b[32m━━━━━━━━━━━━━━━━━\u001b[0m\u001b[37m━━━\u001b[0m \u001b[1m0s\u001b[0m 2ms/step - loss: 0.0040 - mae: 0.0447 - mse: 0.0036\n",
      "Epoch 129: val_loss improved from 0.00110 to 0.00109, saving model to best_efficiency_model.h5\n"
     ]
    },
    {
     "name": "stderr",
     "output_type": "stream",
     "text": [
      "WARNING:absl:You are saving your model as an HDF5 file via `model.save()` or `keras.saving.save_model(model)`. This file format is considered legacy. We recommend using instead the native Keras format, e.g. `model.save('my_model.keras')` or `keras.saving.save_model(model, 'my_model.keras')`. \n"
     ]
    },
    {
     "name": "stdout",
     "output_type": "stream",
     "text": [
      "\n",
      "Epoch 129: ReduceLROnPlateau reducing learning rate to 0.0001250000059371814.\n",
      "\u001b[1m56/56\u001b[0m \u001b[32m━━━━━━━━━━━━━━━━━━━━\u001b[0m\u001b[37m\u001b[0m \u001b[1m0s\u001b[0m 6ms/step - loss: 0.0040 - mae: 0.0447 - mse: 0.0036 - val_loss: 0.0011 - val_mae: 0.0200 - val_mse: 6.3649e-04 - learning_rate: 2.5000e-04\n",
      "Epoch 130/150\n",
      "\u001b[1m53/56\u001b[0m \u001b[32m━━━━━━━━━━━━━━━━━━\u001b[0m\u001b[37m━━\u001b[0m \u001b[1m0s\u001b[0m 2ms/step - loss: 0.0040 - mae: 0.0449 - mse: 0.0035\n",
      "Epoch 130: val_loss improved from 0.00109 to 0.00108, saving model to best_efficiency_model.h5\n"
     ]
    },
    {
     "name": "stderr",
     "output_type": "stream",
     "text": [
      "WARNING:absl:You are saving your model as an HDF5 file via `model.save()` or `keras.saving.save_model(model)`. This file format is considered legacy. We recommend using instead the native Keras format, e.g. `model.save('my_model.keras')` or `keras.saving.save_model(model, 'my_model.keras')`. \n"
     ]
    },
    {
     "name": "stdout",
     "output_type": "stream",
     "text": [
      "\u001b[1m56/56\u001b[0m \u001b[32m━━━━━━━━━━━━━━━━━━━━\u001b[0m\u001b[37m\u001b[0m \u001b[1m0s\u001b[0m 6ms/step - loss: 0.0040 - mae: 0.0449 - mse: 0.0035 - val_loss: 0.0011 - val_mae: 0.0214 - val_mse: 6.3991e-04 - learning_rate: 1.2500e-04\n",
      "Epoch 131/150\n",
      "\u001b[1m49/56\u001b[0m \u001b[32m━━━━━━━━━━━━━━━━━\u001b[0m\u001b[37m━━━\u001b[0m \u001b[1m0s\u001b[0m 2ms/step - loss: 0.0039 - mae: 0.0449 - mse: 0.0035\n",
      "Epoch 131: val_loss did not improve from 0.00108\n",
      "\u001b[1m56/56\u001b[0m \u001b[32m━━━━━━━━━━━━━━━━━━━━\u001b[0m\u001b[37m\u001b[0m \u001b[1m0s\u001b[0m 4ms/step - loss: 0.0039 - mae: 0.0448 - mse: 0.0035 - val_loss: 0.0013 - val_mae: 0.0247 - val_mse: 8.4250e-04 - learning_rate: 1.2500e-04\n",
      "Epoch 132/150\n",
      "\u001b[1m50/56\u001b[0m \u001b[32m━━━━━━━━━━━━━━━━━\u001b[0m\u001b[37m━━━\u001b[0m \u001b[1m0s\u001b[0m 2ms/step - loss: 0.0041 - mae: 0.0454 - mse: 0.0037\n",
      "Epoch 132: val_loss did not improve from 0.00108\n",
      "\u001b[1m56/56\u001b[0m \u001b[32m━━━━━━━━━━━━━━━━━━━━\u001b[0m\u001b[37m\u001b[0m \u001b[1m0s\u001b[0m 4ms/step - loss: 0.0041 - mae: 0.0455 - mse: 0.0037 - val_loss: 0.0011 - val_mae: 0.0212 - val_mse: 6.9737e-04 - learning_rate: 1.2500e-04\n",
      "Epoch 133/150\n",
      "\u001b[1m49/56\u001b[0m \u001b[32m━━━━━━━━━━━━━━━━━\u001b[0m\u001b[37m━━━\u001b[0m \u001b[1m0s\u001b[0m 2ms/step - loss: 0.0044 - mae: 0.0478 - mse: 0.0040\n",
      "Epoch 133: val_loss did not improve from 0.00108\n",
      "\u001b[1m56/56\u001b[0m \u001b[32m━━━━━━━━━━━━━━━━━━━━\u001b[0m\u001b[37m\u001b[0m \u001b[1m0s\u001b[0m 4ms/step - loss: 0.0044 - mae: 0.0476 - mse: 0.0039 - val_loss: 0.0011 - val_mae: 0.0227 - val_mse: 7.2173e-04 - learning_rate: 1.2500e-04\n",
      "Epoch 134/150\n",
      "\u001b[1m47/56\u001b[0m \u001b[32m━━━━━━━━━━━━━━━━\u001b[0m\u001b[37m━━━━\u001b[0m \u001b[1m0s\u001b[0m 2ms/step - loss: 0.0040 - mae: 0.0449 - mse: 0.0036\n",
      "Epoch 134: val_loss did not improve from 0.00108\n",
      "\u001b[1m56/56\u001b[0m \u001b[32m━━━━━━━━━━━━━━━━━━━━\u001b[0m\u001b[37m\u001b[0m \u001b[1m0s\u001b[0m 4ms/step - loss: 0.0040 - mae: 0.0451 - mse: 0.0036 - val_loss: 0.0013 - val_mae: 0.0244 - val_mse: 8.5067e-04 - learning_rate: 1.2500e-04\n",
      "Epoch 135/150\n",
      "\u001b[1m48/56\u001b[0m \u001b[32m━━━━━━━━━━━━━━━━━\u001b[0m\u001b[37m━━━\u001b[0m \u001b[1m0s\u001b[0m 3ms/step - loss: 0.0040 - mae: 0.0446 - mse: 0.0035\n",
      "Epoch 135: val_loss did not improve from 0.00108\n",
      "\u001b[1m56/56\u001b[0m \u001b[32m━━━━━━━━━━━━━━━━━━━━\u001b[0m\u001b[37m\u001b[0m \u001b[1m0s\u001b[0m 4ms/step - loss: 0.0040 - mae: 0.0447 - mse: 0.0035 - val_loss: 0.0012 - val_mae: 0.0232 - val_mse: 7.6746e-04 - learning_rate: 1.2500e-04\n",
      "Epoch 136/150\n",
      "\u001b[1m53/56\u001b[0m \u001b[32m━━━━━━━━━━━━━━━━━━\u001b[0m\u001b[37m━━\u001b[0m \u001b[1m0s\u001b[0m 2ms/step - loss: 0.0042 - mae: 0.0455 - mse: 0.0038\n",
      "Epoch 136: val_loss did not improve from 0.00108\n",
      "\n",
      "Epoch 136: ReduceLROnPlateau reducing learning rate to 6.25000029685907e-05.\n",
      "\u001b[1m56/56\u001b[0m \u001b[32m━━━━━━━━━━━━━━━━━━━━\u001b[0m\u001b[37m\u001b[0m \u001b[1m0s\u001b[0m 4ms/step - loss: 0.0042 - mae: 0.0455 - mse: 0.0038 - val_loss: 0.0012 - val_mae: 0.0227 - val_mse: 7.5339e-04 - learning_rate: 1.2500e-04\n",
      "Epoch 137/150\n",
      "\u001b[1m50/56\u001b[0m \u001b[32m━━━━━━━━━━━━━━━━━\u001b[0m\u001b[37m━━━\u001b[0m \u001b[1m0s\u001b[0m 2ms/step - loss: 0.0040 - mae: 0.0459 - mse: 0.0036\n",
      "Epoch 137: val_loss did not improve from 0.00108\n",
      "\u001b[1m56/56\u001b[0m \u001b[32m━━━━━━━━━━━━━━━━━━━━\u001b[0m\u001b[37m\u001b[0m \u001b[1m0s\u001b[0m 4ms/step - loss: 0.0040 - mae: 0.0459 - mse: 0.0036 - val_loss: 0.0011 - val_mae: 0.0215 - val_mse: 6.7993e-04 - learning_rate: 6.2500e-05\n",
      "Epoch 138/150\n",
      "\u001b[1m45/56\u001b[0m \u001b[32m━━━━━━━━━━━━━━━━\u001b[0m\u001b[37m━━━━\u001b[0m \u001b[1m0s\u001b[0m 2ms/step - loss: 0.0040 - mae: 0.0452 - mse: 0.0036\n",
      "Epoch 138: val_loss did not improve from 0.00108\n",
      "\u001b[1m56/56\u001b[0m \u001b[32m━━━━━━━━━━━━━━━━━━━━\u001b[0m\u001b[37m\u001b[0m \u001b[1m0s\u001b[0m 4ms/step - loss: 0.0040 - mae: 0.0452 - mse: 0.0036 - val_loss: 0.0012 - val_mae: 0.0227 - val_mse: 7.6640e-04 - learning_rate: 6.2500e-05\n",
      "Epoch 139/150\n",
      "\u001b[1m36/56\u001b[0m \u001b[32m━━━━━━━━━━━━\u001b[0m\u001b[37m━━━━━━━━\u001b[0m \u001b[1m0s\u001b[0m 3ms/step - loss: 0.0044 - mae: 0.0467 - mse: 0.0040\n",
      "Epoch 139: val_loss improved from 0.00108 to 0.00101, saving model to best_efficiency_model.h5\n"
     ]
    },
    {
     "name": "stderr",
     "output_type": "stream",
     "text": [
      "WARNING:absl:You are saving your model as an HDF5 file via `model.save()` or `keras.saving.save_model(model)`. This file format is considered legacy. We recommend using instead the native Keras format, e.g. `model.save('my_model.keras')` or `keras.saving.save_model(model, 'my_model.keras')`. \n"
     ]
    },
    {
     "name": "stdout",
     "output_type": "stream",
     "text": [
      "\u001b[1m56/56\u001b[0m \u001b[32m━━━━━━━━━━━━━━━━━━━━\u001b[0m\u001b[37m\u001b[0m \u001b[1m0s\u001b[0m 6ms/step - loss: 0.0043 - mae: 0.0462 - mse: 0.0039 - val_loss: 0.0010 - val_mae: 0.0202 - val_mse: 6.1005e-04 - learning_rate: 6.2500e-05\n",
      "Epoch 140/150\n",
      "\u001b[1m55/56\u001b[0m \u001b[32m━━━━━━━━━━━━━━━━━━━\u001b[0m\u001b[37m━\u001b[0m \u001b[1m0s\u001b[0m 2ms/step - loss: 0.0037 - mae: 0.0434 - mse: 0.0033\n",
      "Epoch 140: val_loss did not improve from 0.00101\n",
      "\u001b[1m56/56\u001b[0m \u001b[32m━━━━━━━━━━━━━━━━━━━━\u001b[0m\u001b[37m\u001b[0m \u001b[1m0s\u001b[0m 4ms/step - loss: 0.0037 - mae: 0.0434 - mse: 0.0033 - val_loss: 0.0011 - val_mae: 0.0226 - val_mse: 7.3721e-04 - learning_rate: 6.2500e-05\n",
      "Epoch 141/150\n",
      "\u001b[1m53/56\u001b[0m \u001b[32m━━━━━━━━━━━━━━━━━━\u001b[0m\u001b[37m━━\u001b[0m \u001b[1m0s\u001b[0m 2ms/step - loss: 0.0045 - mae: 0.0491 - mse: 0.0041\n",
      "Epoch 141: val_loss improved from 0.00101 to 0.00096, saving model to best_efficiency_model.h5\n"
     ]
    },
    {
     "name": "stderr",
     "output_type": "stream",
     "text": [
      "WARNING:absl:You are saving your model as an HDF5 file via `model.save()` or `keras.saving.save_model(model)`. This file format is considered legacy. We recommend using instead the native Keras format, e.g. `model.save('my_model.keras')` or `keras.saving.save_model(model, 'my_model.keras')`. \n"
     ]
    },
    {
     "name": "stdout",
     "output_type": "stream",
     "text": [
      "\u001b[1m56/56\u001b[0m \u001b[32m━━━━━━━━━━━━━━━━━━━━\u001b[0m\u001b[37m\u001b[0m \u001b[1m0s\u001b[0m 6ms/step - loss: 0.0045 - mae: 0.0490 - mse: 0.0041 - val_loss: 9.5755e-04 - val_mae: 0.0192 - val_mse: 5.5876e-04 - learning_rate: 6.2500e-05\n",
      "Epoch 142/150\n",
      "\u001b[1m37/56\u001b[0m \u001b[32m━━━━━━━━━━━━━\u001b[0m\u001b[37m━━━━━━━\u001b[0m \u001b[1m0s\u001b[0m 3ms/step - loss: 0.0039 - mae: 0.0440 - mse: 0.0035\n",
      "Epoch 142: val_loss did not improve from 0.00096\n",
      "\u001b[1m56/56\u001b[0m \u001b[32m━━━━━━━━━━━━━━━━━━━━\u001b[0m\u001b[37m\u001b[0m \u001b[1m0s\u001b[0m 4ms/step - loss: 0.0039 - mae: 0.0443 - mse: 0.0035 - val_loss: 0.0010 - val_mae: 0.0208 - val_mse: 6.5217e-04 - learning_rate: 6.2500e-05\n",
      "Epoch 143/150\n",
      "\u001b[1m56/56\u001b[0m \u001b[32m━━━━━━━━━━━━━━━━━━━━\u001b[0m\u001b[37m\u001b[0m \u001b[1m0s\u001b[0m 3ms/step - loss: 0.0038 - mae: 0.0445 - mse: 0.0034\n",
      "Epoch 143: val_loss did not improve from 0.00096\n",
      "\u001b[1m56/56\u001b[0m \u001b[32m━━━━━━━━━━━━━━━━━━━━\u001b[0m\u001b[37m\u001b[0m \u001b[1m0s\u001b[0m 4ms/step - loss: 0.0038 - mae: 0.0445 - mse: 0.0034 - val_loss: 0.0011 - val_mae: 0.0212 - val_mse: 6.9000e-04 - learning_rate: 6.2500e-05\n",
      "Epoch 144/150\n",
      "\u001b[1m26/56\u001b[0m \u001b[32m━━━━━━━━━\u001b[0m\u001b[37m━━━━━━━━━━━\u001b[0m \u001b[1m0s\u001b[0m 2ms/step - loss: 0.0040 - mae: 0.0450 - mse: 0.0036 \n",
      "Epoch 144: val_loss did not improve from 0.00096\n",
      "\u001b[1m56/56\u001b[0m \u001b[32m━━━━━━━━━━━━━━━━━━━━\u001b[0m\u001b[37m\u001b[0m \u001b[1m0s\u001b[0m 4ms/step - loss: 0.0040 - mae: 0.0450 - mse: 0.0036 - val_loss: 0.0011 - val_mae: 0.0202 - val_mse: 6.7373e-04 - learning_rate: 6.2500e-05\n",
      "Epoch 145/150\n",
      "\u001b[1m56/56\u001b[0m \u001b[32m━━━━━━━━━━━━━━━━━━━━\u001b[0m\u001b[37m\u001b[0m \u001b[1m0s\u001b[0m 2ms/step - loss: 0.0038 - mae: 0.0444 - mse: 0.0034\n",
      "Epoch 145: val_loss did not improve from 0.00096\n",
      "\u001b[1m56/56\u001b[0m \u001b[32m━━━━━━━━━━━━━━━━━━━━\u001b[0m\u001b[37m\u001b[0m \u001b[1m0s\u001b[0m 4ms/step - loss: 0.0038 - mae: 0.0444 - mse: 0.0034 - val_loss: 0.0011 - val_mae: 0.0221 - val_mse: 7.3765e-04 - learning_rate: 6.2500e-05\n",
      "Epoch 146/150\n",
      "\u001b[1m54/56\u001b[0m \u001b[32m━━━━━━━━━━━━━━━━━━━\u001b[0m\u001b[37m━\u001b[0m \u001b[1m0s\u001b[0m 2ms/step - loss: 0.0039 - mae: 0.0444 - mse: 0.0035\n",
      "Epoch 146: val_loss did not improve from 0.00096\n",
      "\u001b[1m56/56\u001b[0m \u001b[32m━━━━━━━━━━━━━━━━━━━━\u001b[0m\u001b[37m\u001b[0m \u001b[1m0s\u001b[0m 4ms/step - loss: 0.0039 - mae: 0.0444 - mse: 0.0035 - val_loss: 0.0014 - val_mae: 0.0261 - val_mse: 9.8942e-04 - learning_rate: 6.2500e-05\n",
      "Epoch 147/150\n",
      "\u001b[1m45/56\u001b[0m \u001b[32m━━━━━━━━━━━━━━━━\u001b[0m\u001b[37m━━━━\u001b[0m \u001b[1m0s\u001b[0m 3ms/step - loss: 0.0044 - mae: 0.0474 - mse: 0.0040\n",
      "Epoch 147: val_loss did not improve from 0.00096\n",
      "\u001b[1m56/56\u001b[0m \u001b[32m━━━━━━━━━━━━━━━━━━━━\u001b[0m\u001b[37m\u001b[0m \u001b[1m0s\u001b[0m 4ms/step - loss: 0.0043 - mae: 0.0470 - mse: 0.0039 - val_loss: 0.0012 - val_mae: 0.0231 - val_mse: 7.9861e-04 - learning_rate: 6.2500e-05\n",
      "Epoch 148/150\n",
      "\u001b[1m56/56\u001b[0m \u001b[32m━━━━━━━━━━━━━━━━━━━━\u001b[0m\u001b[37m\u001b[0m \u001b[1m0s\u001b[0m 3ms/step - loss: 0.0043 - mae: 0.0473 - mse: 0.0039\n",
      "Epoch 148: val_loss did not improve from 0.00096\n",
      "\n",
      "Epoch 148: ReduceLROnPlateau reducing learning rate to 3.125000148429535e-05.\n",
      "\u001b[1m56/56\u001b[0m \u001b[32m━━━━━━━━━━━━━━━━━━━━\u001b[0m\u001b[37m\u001b[0m \u001b[1m0s\u001b[0m 4ms/step - loss: 0.0043 - mae: 0.0473 - mse: 0.0039 - val_loss: 0.0011 - val_mae: 0.0216 - val_mse: 6.7954e-04 - learning_rate: 6.2500e-05\n",
      "Epoch 149/150\n",
      "\u001b[1m48/56\u001b[0m \u001b[32m━━━━━━━━━━━━━━━━━\u001b[0m\u001b[37m━━━\u001b[0m \u001b[1m0s\u001b[0m 2ms/step - loss: 0.0037 - mae: 0.0429 - mse: 0.0033\n",
      "Epoch 149: val_loss did not improve from 0.00096\n",
      "\u001b[1m56/56\u001b[0m \u001b[32m━━━━━━━━━━━━━━━━━━━━\u001b[0m\u001b[37m\u001b[0m \u001b[1m0s\u001b[0m 4ms/step - loss: 0.0037 - mae: 0.0429 - mse: 0.0033 - val_loss: 0.0011 - val_mae: 0.0222 - val_mse: 6.9776e-04 - learning_rate: 3.1250e-05\n",
      "Epoch 150/150\n",
      "\u001b[1m50/56\u001b[0m \u001b[32m━━━━━━━━━━━━━━━━━\u001b[0m\u001b[37m━━━\u001b[0m \u001b[1m0s\u001b[0m 2ms/step - loss: 0.0042 - mae: 0.0466 - mse: 0.0038\n",
      "Epoch 150: val_loss did not improve from 0.00096\n",
      "\u001b[1m56/56\u001b[0m \u001b[32m━━━━━━━━━━━━━━━━━━━━\u001b[0m\u001b[37m\u001b[0m \u001b[1m0s\u001b[0m 4ms/step - loss: 0.0042 - mae: 0.0463 - mse: 0.0038 - val_loss: 0.0011 - val_mae: 0.0225 - val_mse: 7.5666e-04 - learning_rate: 3.1250e-05\n",
      "Restoring model weights from the end of the best epoch: 141.\n"
     ]
    }
   ],
   "source": [
    "history = model.fit(\n",
    "    X_train,\n",
    "    y_train,\n",
    "    epochs=150,\n",
    "    batch_size=64,\n",
    "    validation_data=(X_val, y_val),\n",
    "    callbacks=callbacks,\n",
    "    verbose=1,\n",
    ")"
   ]
  },
  {
   "cell_type": "code",
   "execution_count": 32,
   "metadata": {},
   "outputs": [],
   "source": [
    "plt.figure(figsize=(12, 5))\n",
    "\n",
    "plt.subplot(1, 2, 1)\n",
    "plt.plot(history.history[\"loss\"], label=\"Train Loss\")\n",
    "plt.plot(history.history[\"val_loss\"], label=\"Validation Loss\")\n",
    "plt.title(\"Loss Over Epochs\")\n",
    "plt.xlabel(\"Epochs\")\n",
    "plt.ylabel(\"Loss\")\n",
    "plt.legend()\n",
    "\n",
    "plt.subplot(1, 2, 2)\n",
    "plt.plot(history.history[\"mae\"], label=\"Train MAE\")\n",
    "plt.plot(history.history[\"val_mae\"], label=\"Validation MAE\")\n",
    "plt.title(\"Mean Absolute Error Over Epochs\")\n",
    "plt.xlabel(\"Epochs\")\n",
    "plt.ylabel(\"MAE\")\n",
    "plt.legend()\n",
    "\n",
    "plt.tight_layout()\n",
    "plt.savefig(\"output/training_history.png\")\n",
    "plt.close()"
   ]
  },
  {
   "cell_type": "code",
   "execution_count": 33,
   "metadata": {},
   "outputs": [
    {
     "name": "stdout",
     "output_type": "stream",
     "text": [
      "Test Loss (MSE): 0.0009\n",
      "Test MAE: 0.0187\n",
      "Test RMSE: 0.0224\n"
     ]
    }
   ],
   "source": [
    "test_loss, test_mae, test_mse = model.evaluate(X_test, y_test, verbose=0)\n",
    "test_rmse = np.sqrt(test_mse)\n",
    "\n",
    "print(f\"Test Loss (MSE): {test_loss:.4f}\")\n",
    "print(f\"Test MAE: {test_mae:.4f}\")\n",
    "print(f\"Test RMSE: {test_rmse:.4f}\")"
   ]
  },
  {
   "cell_type": "code",
   "execution_count": 34,
   "metadata": {},
   "outputs": [
    {
     "name": "stdout",
     "output_type": "stream",
     "text": [
      "\u001b[1m24/24\u001b[0m \u001b[32m━━━━━━━━━━━━━━━━━━━━\u001b[0m\u001b[37m\u001b[0m \u001b[1m1s\u001b[0m 9ms/step\n"
     ]
    }
   ],
   "source": [
    "y_pred = model.predict(X_test).flatten()"
   ]
  },
  {
   "cell_type": "code",
   "execution_count": 35,
   "metadata": {},
   "outputs": [
    {
     "name": "stdout",
     "output_type": "stream",
     "text": [
      "R² Score: 0.9915\n"
     ]
    }
   ],
   "source": [
    "r2 = r2_score(y_test, y_pred)\n",
    "print(f\"R² Score: {r2:.4f}\")"
   ]
  },
  {
   "cell_type": "code",
   "execution_count": 36,
   "metadata": {},
   "outputs": [],
   "source": [
    "# Plot actual vs predicted\n",
    "plt.figure(figsize=(10, 6))\n",
    "plt.scatter(y_test, y_pred, alpha=0.5)\n",
    "plt.plot([y_test.min(), y_test.max()], [y_test.min(), y_test.max()], \"r--\")\n",
    "plt.xlabel(\"Actual Efficiency\")\n",
    "plt.ylabel(\"Predicted Efficiency\")\n",
    "plt.title(f\"Predicted vs Actual Efficiency (R² = {r2:.4f})\")\n",
    "plt.grid(True)\n",
    "plt.savefig(\"output/prediction_results.png\")\n",
    "plt.close()"
   ]
  },
  {
   "cell_type": "code",
   "execution_count": 40,
   "metadata": {},
   "outputs": [],
   "source": [
    "# Feature importance analysis using permutation importance\n",
    "from sklearn.inspection import permutation_importance\n"
   ]
  },
  {
   "cell_type": "code",
   "execution_count": 42,
   "metadata": {},
   "outputs": [],
   "source": [
    "def predict_wrapper(X):\n",
    "    return model.predict(X).flatten()"
   ]
  },
  {
   "cell_type": "code",
   "execution_count": 43,
   "metadata": {},
   "outputs": [
    {
     "name": "stdout",
     "output_type": "stream",
     "text": [
      "\u001b[1m24/24\u001b[0m \u001b[32m━━━━━━━━━━━━━━━━━━━━\u001b[0m\u001b[37m\u001b[0m \u001b[1m0s\u001b[0m 2ms/step \n"
     ]
    }
   ],
   "source": [
    "# The error occurs because permutation_importance expects an estimator with a fit method\n",
    "# Create a scikit-learn compatible wrapper class for our Keras model\n",
    "from sklearn.base import BaseEstimator, RegressorMixin\n",
    "\n",
    "class KerasRegressor(BaseEstimator, RegressorMixin):\n",
    "    def __init__(self, model):\n",
    "        self.model = model\n",
    "        \n",
    "    def fit(self, X, y):\n",
    "        # This method is required but we don't need to implement it\n",
    "        # since our model is already trained\n",
    "        return self\n",
    "        \n",
    "    def predict(self, X):\n",
    "        return self.model.predict(X).flatten()\n",
    "\n",
    "# Create a proper scikit-learn compatible estimator\n",
    "keras_estimator = KerasRegressor(model)\n",
    "\n",
    "# Now use the estimator with permutation_importance\n",
    "result = permutation_importance(\n",
    "    keras_estimator, X_test, y_test, n_repeats=10, random_state=42, n_jobs=-1\n",
    ")\n"
   ]
  },
  {
   "cell_type": "code",
   "execution_count": 44,
   "metadata": {},
   "outputs": [],
   "source": [
    "feature_importance = pd.DataFrame(\n",
    "    {\"Feature\": all_features, \"Importance\": result.importances_mean}\n",
    ").sort_values(\"Importance\", ascending=False)"
   ]
  },
  {
   "cell_type": "code",
   "execution_count": 45,
   "metadata": {},
   "outputs": [
    {
     "name": "stdout",
     "output_type": "stream",
     "text": [
      "             Feature  Importance\n",
      "8    Hydration_Index    0.202957\n",
      "7      Water_Content    0.152352\n",
      "1               SpO2    0.061179\n",
      "2         Heart_Rate    0.025162\n",
      "11            Stress    0.022970\n",
      "10        Drowsiness    0.021653\n",
      "3   Respiration_Rate    0.020898\n",
      "9            Fatigue    0.020195\n",
      "6           Moisture    0.009878\n",
      "4        Systolic_BP    0.005539\n"
     ]
    }
   ],
   "source": [
    "print(feature_importance.head(10))"
   ]
  },
  {
   "cell_type": "code",
   "execution_count": 46,
   "metadata": {},
   "outputs": [],
   "source": [
    "plt.figure(figsize=(12, 8))\n",
    "sns.barplot(x=\"Importance\", y=\"Feature\", data=feature_importance.head(15))\n",
    "plt.title(\"Feature Importance (Permutation Method)\")\n",
    "plt.tight_layout()\n",
    "plt.savefig(\"output/feature_importance.png\")\n",
    "plt.close()"
   ]
  },
  {
   "cell_type": "code",
   "execution_count": 48,
   "metadata": {},
   "outputs": [],
   "source": [
    "# Error distribution analysis\n",
    "errors = y_pred - y_test\n",
    "plt.figure(figsize=(12, 5))\n",
    "\n",
    "plt.subplot(1, 2, 1)\n",
    "plt.hist(errors, bins=30, alpha=0.7)\n",
    "plt.title(\"Error Distribution\")\n",
    "plt.xlabel(\"Prediction Error\")\n",
    "plt.ylabel(\"Frequency\")\n",
    "\n",
    "plt.subplot(1, 2, 2)\n",
    "plt.scatter(y_pred, errors, alpha=0.5)\n",
    "plt.axhline(y=0, color=\"r\", linestyle=\"-\")\n",
    "plt.title(\"Prediction Error vs Predicted Value\")\n",
    "plt.xlabel(\"Predicted Value\")\n",
    "plt.ylabel(\"Error\")\n",
    "\n",
    "plt.tight_layout()\n",
    "plt.savefig(\"output/error_analysis.png\")\n",
    "plt.close()\n"
   ]
  },
  {
   "cell_type": "code",
   "execution_count": 49,
   "metadata": {},
   "outputs": [
    {
     "name": "stderr",
     "output_type": "stream",
     "text": [
      "WARNING:absl:You are saving your model as an HDF5 file via `model.save()` or `keras.saving.save_model(model)`. This file format is considered legacy. We recommend using instead the native Keras format, e.g. `model.save('my_model.keras')` or `keras.saving.save_model(model, 'my_model.keras')`. \n"
     ]
    }
   ],
   "source": [
    "model.save(\"enhanced_efficiency_model.h5\")"
   ]
  },
  {
   "cell_type": "code",
   "execution_count": 50,
   "metadata": {},
   "outputs": [],
   "source": [
    "with open(\"efficiency_scaler.pkl\", \"wb\") as f:\n",
    "    pickle.dump(scaler, f)\n",
    "\n",
    "with open(\"feature_list.pkl\", \"wb\") as f:\n",
    "    pickle.dump(all_features, f)"
   ]
  },
  {
   "cell_type": "code",
   "execution_count": 51,
   "metadata": {},
   "outputs": [],
   "source": [
    "def predict_efficiency(new_data, model_path, scaler_path, feature_list_path):\n",
    "    \"\"\"\n",
    "    Predict efficiency for new soldier data\n",
    "\n",
    "    Parameters:\n",
    "    new_data (DataFrame): DataFrame containing required features\n",
    "    model_path: Path to the saved model\n",
    "    scaler_path: Path to the saved scaler\n",
    "    feature_list_path: Path to the saved feature list\n",
    "\n",
    "    Returns:\n",
    "    Array of predicted efficiencies\n",
    "    \"\"\"\n",
    "    # Load model and preprocessing components\n",
    "    model = tf.keras.models.load_model(model_path)\n",
    "\n",
    "    with open(scaler_path, \"rb\") as f:\n",
    "        scaler = pickle.load(f)\n",
    "\n",
    "    with open(feature_list_path, \"rb\") as f:\n",
    "        feature_list = pickle.load(f)\n",
    "\n",
    "    # Process data\n",
    "    processed_data = new_data.copy()\n",
    "\n",
    "    # Process timestamp if present\n",
    "    if \"Timestamp\" in processed_data.columns:\n",
    "        processed_data[\"Timestamp\"] = pd.to_datetime(processed_data[\"Timestamp\"])\n",
    "        if \"Hour_of_Day\" not in processed_data.columns:\n",
    "            processed_data[\"Hour_of_Day\"] = (\n",
    "                processed_data[\"Timestamp\"].dt.hour\n",
    "                + processed_data[\"Timestamp\"].dt.minute / 60\n",
    "            )\n",
    "\n",
    "        processed_data[\"Day_of_Week\"] = processed_data[\"Timestamp\"].dt.dayofweek\n",
    "        processed_data[\"Is_Weekend\"] = (processed_data[\"Day_of_Week\"] >= 5).astype(int)\n",
    "\n",
    "        # Create cyclical features\n",
    "        processed_data[\"Hour_sin\"] = np.sin(\n",
    "            processed_data[\"Hour_of_Day\"] * (2 * np.pi / 24)\n",
    "        )\n",
    "        processed_data[\"Hour_cos\"] = np.cos(\n",
    "            processed_data[\"Hour_of_Day\"] * (2 * np.pi / 24)\n",
    "        )\n",
    "\n",
    "    # Create shift features if needed\n",
    "    if \"Hours_into_Shift\" in processed_data.columns:\n",
    "        processed_data[\"Shift_sin\"] = np.sin(\n",
    "            processed_data[\"Hours_into_Shift\"] * (2 * np.pi / 8)\n",
    "        )\n",
    "        processed_data[\"Shift_cos\"] = np.cos(\n",
    "            processed_data[\"Hours_into_Shift\"] * (2 * np.pi / 8)\n",
    "        )\n",
    "\n",
    "    # Create derived features\n",
    "    if all(\n",
    "        f in processed_data.columns\n",
    "        for f in [\"Heart_Rate\", \"Respiration_Rate\", \"Systolic_BP\"]\n",
    "    ):\n",
    "        processed_data[\"Physio_Stress_Index\"] = (\n",
    "            ((processed_data[\"Heart_Rate\"] - 60) / 60)\n",
    "            + ((processed_data[\"Respiration_Rate\"] - 12) / 12)\n",
    "            + ((processed_data[\"Systolic_BP\"] - 110) / 30)\n",
    "        ) / 3\n",
    "\n",
    "    if all(f in processed_data.columns for f in [\"Water_Content\", \"Moisture\"]):\n",
    "        processed_data[\"Hydration_Index\"] = (processed_data[\"Water_Content\"] / 100) * (\n",
    "            processed_data[\"Moisture\"] / 70\n",
    "        )\n",
    "\n",
    "    # Check for missing features\n",
    "    missing_features = [f for f in feature_list if f not in processed_data.columns]\n",
    "    if missing_features:\n",
    "        raise ValueError(f\"Missing features in input data: {missing_features}\")\n",
    "\n",
    "    # Select and scale features\n",
    "    X_new = processed_data[feature_list]\n",
    "    X_new_scaled = scaler.transform(X_new)\n",
    "\n",
    "    # Predict\n",
    "    predictions = model.predict(X_new_scaled).flatten()\n",
    "\n",
    "    return predictions"
   ]
  },
  {
   "cell_type": "code",
   "execution_count": 53,
   "metadata": {},
   "outputs": [
    {
     "name": "stderr",
     "output_type": "stream",
     "text": [
      "WARNING:absl:Compiled the loaded model, but the compiled metrics have yet to be built. `model.compile_metrics` will be empty until you train or evaluate the model.\n"
     ]
    },
    {
     "name": "stdout",
     "output_type": "stream",
     "text": [
      "\u001b[1m1/1\u001b[0m \u001b[32m━━━━━━━━━━━━━━━━━━━━\u001b[0m\u001b[37m\u001b[0m \u001b[1m0s\u001b[0m 224ms/step\n"
     ]
    },
    {
     "data": {
      "text/plain": [
       "array([0.73863685, 0.7238167 , 0.1971134 , 0.80328774, 0.20278291],\n",
       "      dtype=float32)"
      ]
     },
     "execution_count": 53,
     "metadata": {},
     "output_type": "execute_result"
    }
   ],
   "source": [
    "sample_data = data.iloc[:5].copy()\n",
    "sample_predictions = predict_efficiency(\n",
    "    sample_data,\n",
    "    \"enhanced_efficiency_model.h5\",\n",
    "    \"efficiency_scaler.pkl\",\n",
    "    \"feature_list.pkl\",\n",
    ")\n",
    "sample_predictions"
   ]
  },
  {
   "cell_type": "code",
   "execution_count": 54,
   "metadata": {},
   "outputs": [
    {
     "name": "stdout",
     "output_type": "stream",
     "text": [
      "Sample 1: Actual Efficiency = 0.7527, Predicted = 0.7386\n",
      "Sample 2: Actual Efficiency = 0.7291, Predicted = 0.7238\n",
      "Sample 3: Actual Efficiency = 0.1820, Predicted = 0.1971\n",
      "Sample 4: Actual Efficiency = 0.8244, Predicted = 0.8033\n",
      "Sample 5: Actual Efficiency = 0.1888, Predicted = 0.2028\n"
     ]
    }
   ],
   "source": [
    "for i, (actual, pred) in enumerate(zip(sample_data[\"Efficiency\"], sample_predictions)):\n",
    "    print(f\"Sample {i+1}: Actual Efficiency = {actual:.4f}, Predicted = {pred:.4f}\")"
   ]
  },
  {
   "cell_type": "code",
   "execution_count": null,
   "metadata": {},
   "outputs": [],
   "source": []
  }
 ],
 "metadata": {
  "kernelspec": {
   "display_name": "Python 3",
   "language": "python",
   "name": "python3"
  },
  "language_info": {
   "codemirror_mode": {
    "name": "ipython",
    "version": 3
   },
   "file_extension": ".py",
   "mimetype": "text/x-python",
   "name": "python",
   "nbconvert_exporter": "python",
   "pygments_lexer": "ipython3",
   "version": "3.11.6"
  }
 },
 "nbformat": 4,
 "nbformat_minor": 2
}
